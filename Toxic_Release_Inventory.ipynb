{
  "nbformat": 4,
  "nbformat_minor": 0,
  "metadata": {
    "colab": {
      "name": "Toxic Release Inventory.ipynb",
      "provenance": [],
      "collapsed_sections": [],
      "include_colab_link": true
    },
    "kernelspec": {
      "name": "python3",
      "display_name": "Python 3"
    },
    "language_info": {
      "name": "python"
    },
    "accelerator": "GPU"
  },
  "cells": [
    {
      "cell_type": "markdown",
      "metadata": {
        "id": "view-in-github",
        "colab_type": "text"
      },
      "source": [
        "<a href=\"https://colab.research.google.com/github/vinayakkini101/study-of-toxic-release-inventory/blob/dev_Pragati/Toxic_Release_Inventory.ipynb\" target=\"_parent\"><img src=\"https://colab.research.google.com/assets/colab-badge.svg\" alt=\"Open In Colab\"/></a>"
      ]
    },
    {
      "cell_type": "code",
      "metadata": {
        "colab": {
          "base_uri": "https://localhost:8080/"
        },
        "id": "3HVhtr6KQjjy",
        "outputId": "b4631762-e6ca-4cdb-df44-85e67cff107d"
      },
      "source": [
        "from google.colab import drive\n",
        "drive.mount('/content/drive')"
      ],
      "execution_count": 83,
      "outputs": [
        {
          "output_type": "stream",
          "name": "stdout",
          "text": [
            "Drive already mounted at /content/drive; to attempt to forcibly remount, call drive.mount(\"/content/drive\", force_remount=True).\n"
          ]
        }
      ]
    },
    {
      "cell_type": "code",
      "metadata": {
        "colab": {
          "base_uri": "https://localhost:8080/"
        },
        "id": "0tMugWTbUa8G",
        "outputId": "876cca4d-7ca9-4ca6-b8eb-f553f44a013a"
      },
      "source": [
        "!ls \"/content/drive/My Drive/255_Dataset/basic_data_files.csv\""
      ],
      "execution_count": 84,
      "outputs": [
        {
          "output_type": "stream",
          "name": "stdout",
          "text": [
            "'/content/drive/My Drive/255_Dataset/basic_data_files.csv'\n"
          ]
        }
      ]
    },
    {
      "cell_type": "code",
      "metadata": {
        "id": "sihfLb6DwrDJ"
      },
      "source": [
        "import pandas as pd\n",
        "import numpy as np\n",
        "import matplotlib.pyplot as plt\n",
        "from sklearn.preprocessing import StandardScaler\n",
        "from sklearn.decomposition import PCA\n",
        "from matplotlib import colors"
      ],
      "execution_count": 85,
      "outputs": []
    },
    {
      "cell_type": "code",
      "metadata": {
        "id": "Jbm5J3qtsvfx"
      },
      "source": [
        "\n",
        "df = pd.read_csv('/content/drive/My Drive/255_Dataset/basic_data_files.csv'\n",
        "                      , sep=',' ,nrows=3)"
      ],
      "execution_count": 86,
      "outputs": []
    },
    {
      "cell_type": "code",
      "metadata": {
        "id": "hSRR2foZs0pc"
      },
      "source": [
        "df.columns[90:109]\n",
        "df = df.dropna()\n"
      ],
      "execution_count": 87,
      "outputs": []
    },
    {
      "cell_type": "markdown",
      "metadata": {
        "id": "YA2wqujOAdpC"
      },
      "source": [
        "**Load all rows with only selected columns**"
      ]
    },
    {
      "cell_type": "code",
      "metadata": {
        "colab": {
          "base_uri": "https://localhost:8080/",
          "height": 791
        },
        "id": "d5Syw9FJAhYZ",
        "outputId": "9d9a2a64-f29e-44ea-9105-193b690ba264"
      },
      "source": [
        "import pandas as pd\n",
        "import numpy as np\n",
        "\n",
        "df = pd.read_csv('/content/drive/My Drive/255_Dataset/basic_data_files.csv'\n",
        "                      , sep=',' \n",
        "                      , usecols=['YEAR', 'TRI_FACILITY_ID', 'FACILITY_NAME', 'LATITUDE', 'LONGITUDE','ST','FEDERAL_FACILITY',\n",
        "                                 'INDUSTRY_SECTOR','CHEMICAL','CLEAR_AIR_ACT_CHEMICAL','CAS_#/COMPOUND_ID', 'CLASSIFICATION', 'METAL', 'METAL_CATEGORY',\n",
        "                                 'CARCINOGEN','5.1_FUGITIVE_AIR', '5.2_STACK_AIR','5.3_WATER','5.4_UNDERGROUND','5.5.1_LANDFILLS',\n",
        "                                 '5.5.2_LAND_TREATMENT','5.5.3_SURFACE_IMPOUNDMENT', '5.5.4_OTHER_DISPOSAL','ON-SITE_RELEASE_TOTAL','OFF-SITE_RELEASE_TOTAL',\n",
        "                                 '8.4_RECYCLING_ON-SITE', ' 8.5_RECYCLING_OFF-SITE','8.6_TREATMENT_ON-SITE', '8.7_TREATMENT_OFF-SITE',\n",
        "                                 'OFF-SITE_RECOVERY_TOTAL','OFF-SITE_TREATED_TOTAL','TOTAL_RELEASES','PROD._WASTE_(8.1_THRU_8.7)','PARENT_COMPANY_NAME'],\n",
        "                 nrows = 2504876)\n",
        "df"
      ],
      "execution_count": 88,
      "outputs": [
        {
          "output_type": "stream",
          "name": "stderr",
          "text": [
            "/usr/local/lib/python3.7/dist-packages/IPython/core/interactiveshell.py:2718: DtypeWarning: Columns (0,11,12,35,39,40,41,42,45,48,49,52,53,74,83,90,91,99,100,101,102,103) have mixed types.Specify dtype option on import or set low_memory=False.\n",
            "  interactivity=interactivity, compiler=compiler, result=result)\n"
          ]
        },
        {
          "output_type": "execute_result",
          "data": {
            "text/html": [
              "<div>\n",
              "<style scoped>\n",
              "    .dataframe tbody tr th:only-of-type {\n",
              "        vertical-align: middle;\n",
              "    }\n",
              "\n",
              "    .dataframe tbody tr th {\n",
              "        vertical-align: top;\n",
              "    }\n",
              "\n",
              "    .dataframe thead th {\n",
              "        text-align: right;\n",
              "    }\n",
              "</style>\n",
              "<table border=\"1\" class=\"dataframe\">\n",
              "  <thead>\n",
              "    <tr style=\"text-align: right;\">\n",
              "      <th></th>\n",
              "      <th>YEAR</th>\n",
              "      <th>TRI_FACILITY_ID</th>\n",
              "      <th>FACILITY_NAME</th>\n",
              "      <th>ST</th>\n",
              "      <th>LATITUDE</th>\n",
              "      <th>LONGITUDE</th>\n",
              "      <th>FEDERAL_FACILITY</th>\n",
              "      <th>INDUSTRY_SECTOR</th>\n",
              "      <th>CHEMICAL</th>\n",
              "      <th>CAS_#/COMPOUND_ID</th>\n",
              "      <th>CLEAR_AIR_ACT_CHEMICAL</th>\n",
              "      <th>CLASSIFICATION</th>\n",
              "      <th>METAL</th>\n",
              "      <th>METAL_CATEGORY</th>\n",
              "      <th>CARCINOGEN</th>\n",
              "      <th>5.1_FUGITIVE_AIR</th>\n",
              "      <th>5.2_STACK_AIR</th>\n",
              "      <th>5.3_WATER</th>\n",
              "      <th>5.4_UNDERGROUND</th>\n",
              "      <th>5.5.1_LANDFILLS</th>\n",
              "      <th>5.5.2_LAND_TREATMENT</th>\n",
              "      <th>5.5.3_SURFACE_IMPOUNDMENT</th>\n",
              "      <th>5.5.4_OTHER_DISPOSAL</th>\n",
              "      <th>ON-SITE_RELEASE_TOTAL</th>\n",
              "      <th>OFF-SITE_RELEASE_TOTAL</th>\n",
              "      <th>OFF-SITE_RECOVERY_TOTAL</th>\n",
              "      <th>OFF-SITE_TREATED_TOTAL</th>\n",
              "      <th>TOTAL_RELEASES</th>\n",
              "      <th>8.4_RECYCLING_ON-SITE</th>\n",
              "      <th>8.5_RECYCLING_OFF-SITE</th>\n",
              "      <th>8.6_TREATMENT_ON-SITE</th>\n",
              "      <th>8.7_TREATMENT_OFF-SITE</th>\n",
              "      <th>PROD._WASTE_(8.1_THRU_8.7)</th>\n",
              "      <th>PARENT_COMPANY_NAME</th>\n",
              "    </tr>\n",
              "  </thead>\n",
              "  <tbody>\n",
              "    <tr>\n",
              "      <th>0</th>\n",
              "      <td>2016</td>\n",
              "      <td>46552DCTLT30350</td>\n",
              "      <td>EDCOAT LLC</td>\n",
              "      <td>IN</td>\n",
              "      <td>41.6934</td>\n",
              "      <td>-86.4552</td>\n",
              "      <td>NO</td>\n",
              "      <td>Fabricated Metals</td>\n",
              "      <td>CHROMIUM COMPOUNDS(EXCEPT CHROMITE ORE MINED I...</td>\n",
              "      <td>N090</td>\n",
              "      <td>YES</td>\n",
              "      <td>TRI</td>\n",
              "      <td>YES</td>\n",
              "      <td>1</td>\n",
              "      <td>NO</td>\n",
              "      <td>0</td>\n",
              "      <td>0</td>\n",
              "      <td>0</td>\n",
              "      <td>0</td>\n",
              "      <td>0</td>\n",
              "      <td>0</td>\n",
              "      <td>0</td>\n",
              "      <td>0</td>\n",
              "      <td>0</td>\n",
              "      <td>1170.32</td>\n",
              "      <td>0</td>\n",
              "      <td>0</td>\n",
              "      <td>1170.41</td>\n",
              "      <td>0</td>\n",
              "      <td>0</td>\n",
              "      <td>0</td>\n",
              "      <td>0</td>\n",
              "      <td>1170.32</td>\n",
              "      <td>NaN</td>\n",
              "    </tr>\n",
              "    <tr>\n",
              "      <th>1</th>\n",
              "      <td>2016</td>\n",
              "      <td>01950NNSPC3MALC</td>\n",
              "      <td>UNION SPECIALTIES INC</td>\n",
              "      <td>MA</td>\n",
              "      <td>42.7964</td>\n",
              "      <td>-70.8904</td>\n",
              "      <td>NO</td>\n",
              "      <td>Chemicals</td>\n",
              "      <td>CERTAIN GLYCOL ETHERS</td>\n",
              "      <td>N230</td>\n",
              "      <td>YES</td>\n",
              "      <td>TRI</td>\n",
              "      <td>NO</td>\n",
              "      <td>0</td>\n",
              "      <td>NO</td>\n",
              "      <td>1</td>\n",
              "      <td>17</td>\n",
              "      <td>0</td>\n",
              "      <td>0</td>\n",
              "      <td>0</td>\n",
              "      <td>0</td>\n",
              "      <td>0</td>\n",
              "      <td>0</td>\n",
              "      <td>18</td>\n",
              "      <td>0</td>\n",
              "      <td>0</td>\n",
              "      <td>0</td>\n",
              "      <td>18</td>\n",
              "      <td>0</td>\n",
              "      <td>0</td>\n",
              "      <td>0</td>\n",
              "      <td>0</td>\n",
              "      <td>18</td>\n",
              "      <td>NaN</td>\n",
              "    </tr>\n",
              "    <tr>\n",
              "      <th>2</th>\n",
              "      <td>2016</td>\n",
              "      <td>44691CRGLL1203T</td>\n",
              "      <td>CARGILL ANIMAL NUTRITION</td>\n",
              "      <td>OH</td>\n",
              "      <td>40.7847</td>\n",
              "      <td>-81.9396</td>\n",
              "      <td>NO</td>\n",
              "      <td>Food</td>\n",
              "      <td>ZINC COMPOUNDS</td>\n",
              "      <td>N982</td>\n",
              "      <td>NO</td>\n",
              "      <td>TRI</td>\n",
              "      <td>YES</td>\n",
              "      <td>1</td>\n",
              "      <td>NO</td>\n",
              "      <td>0</td>\n",
              "      <td>0</td>\n",
              "      <td>0</td>\n",
              "      <td>0</td>\n",
              "      <td>0</td>\n",
              "      <td>0</td>\n",
              "      <td>0</td>\n",
              "      <td>0</td>\n",
              "      <td>0</td>\n",
              "      <td>0</td>\n",
              "      <td>0</td>\n",
              "      <td>0</td>\n",
              "      <td>0</td>\n",
              "      <td>0</td>\n",
              "      <td>0</td>\n",
              "      <td>0</td>\n",
              "      <td>0</td>\n",
              "      <td>0</td>\n",
              "      <td>CARGILL INC</td>\n",
              "    </tr>\n",
              "    <tr>\n",
              "      <th>3</th>\n",
              "      <td>2016</td>\n",
              "      <td>02745CSHNT215DU</td>\n",
              "      <td>ACUSHNET CO BALL PLANT III</td>\n",
              "      <td>MA</td>\n",
              "      <td>41.7254</td>\n",
              "      <td>-70.9552</td>\n",
              "      <td>NO</td>\n",
              "      <td>Miscellaneous Manufacturing</td>\n",
              "      <td>DIISOCYANATES</td>\n",
              "      <td>N120</td>\n",
              "      <td>YES</td>\n",
              "      <td>TRI</td>\n",
              "      <td>NO</td>\n",
              "      <td>0</td>\n",
              "      <td>NO</td>\n",
              "      <td>0</td>\n",
              "      <td>0</td>\n",
              "      <td>0</td>\n",
              "      <td>0</td>\n",
              "      <td>0</td>\n",
              "      <td>0</td>\n",
              "      <td>0</td>\n",
              "      <td>0</td>\n",
              "      <td>0</td>\n",
              "      <td>0</td>\n",
              "      <td>2191</td>\n",
              "      <td>106</td>\n",
              "      <td>0</td>\n",
              "      <td>0</td>\n",
              "      <td>0</td>\n",
              "      <td>0</td>\n",
              "      <td>106</td>\n",
              "      <td>2297</td>\n",
              "      <td>ACUSHNET HOLDINGS CORP</td>\n",
              "    </tr>\n",
              "    <tr>\n",
              "      <th>4</th>\n",
              "      <td>2016</td>\n",
              "      <td>30050CLRXC17LAK</td>\n",
              "      <td>CLOROX PRODUCTS MANUFACTURING CO</td>\n",
              "      <td>GA</td>\n",
              "      <td>33.6272</td>\n",
              "      <td>-84.3868</td>\n",
              "      <td>NO</td>\n",
              "      <td>Chemicals</td>\n",
              "      <td>CERTAIN GLYCOL ETHERS</td>\n",
              "      <td>N230</td>\n",
              "      <td>YES</td>\n",
              "      <td>TRI</td>\n",
              "      <td>NO</td>\n",
              "      <td>0</td>\n",
              "      <td>NO</td>\n",
              "      <td>5</td>\n",
              "      <td>5</td>\n",
              "      <td>0</td>\n",
              "      <td>0</td>\n",
              "      <td>0</td>\n",
              "      <td>0</td>\n",
              "      <td>0</td>\n",
              "      <td>0</td>\n",
              "      <td>10</td>\n",
              "      <td>20</td>\n",
              "      <td>0</td>\n",
              "      <td>230</td>\n",
              "      <td>50</td>\n",
              "      <td>0</td>\n",
              "      <td>0</td>\n",
              "      <td>0</td>\n",
              "      <td>230</td>\n",
              "      <td>260</td>\n",
              "      <td>THE CLOROX CO</td>\n",
              "    </tr>\n",
              "    <tr>\n",
              "      <th>...</th>\n",
              "      <td>...</td>\n",
              "      <td>...</td>\n",
              "      <td>...</td>\n",
              "      <td>...</td>\n",
              "      <td>...</td>\n",
              "      <td>...</td>\n",
              "      <td>...</td>\n",
              "      <td>...</td>\n",
              "      <td>...</td>\n",
              "      <td>...</td>\n",
              "      <td>...</td>\n",
              "      <td>...</td>\n",
              "      <td>...</td>\n",
              "      <td>...</td>\n",
              "      <td>...</td>\n",
              "      <td>...</td>\n",
              "      <td>...</td>\n",
              "      <td>...</td>\n",
              "      <td>...</td>\n",
              "      <td>...</td>\n",
              "      <td>...</td>\n",
              "      <td>...</td>\n",
              "      <td>...</td>\n",
              "      <td>...</td>\n",
              "      <td>...</td>\n",
              "      <td>...</td>\n",
              "      <td>...</td>\n",
              "      <td>...</td>\n",
              "      <td>...</td>\n",
              "      <td>...</td>\n",
              "      <td>...</td>\n",
              "      <td>...</td>\n",
              "      <td>...</td>\n",
              "      <td>...</td>\n",
              "    </tr>\n",
              "    <tr>\n",
              "      <th>2504871</th>\n",
              "      <td>1993</td>\n",
              "      <td>44256BLSSL900WE</td>\n",
              "      <td>FBC CHEMICAL MEDINA</td>\n",
              "      <td>OH</td>\n",
              "      <td>41.1361</td>\n",
              "      <td>-81.8926</td>\n",
              "      <td>NO</td>\n",
              "      <td>Primary Metals</td>\n",
              "      <td>CHROMIUM</td>\n",
              "      <td>007440473</td>\n",
              "      <td>YES</td>\n",
              "      <td>TRI</td>\n",
              "      <td>YES</td>\n",
              "      <td>1</td>\n",
              "      <td>YES</td>\n",
              "      <td>0</td>\n",
              "      <td>2</td>\n",
              "      <td>0</td>\n",
              "      <td>0</td>\n",
              "      <td>0</td>\n",
              "      <td>0</td>\n",
              "      <td>0</td>\n",
              "      <td>0</td>\n",
              "      <td>2</td>\n",
              "      <td>0</td>\n",
              "      <td>0</td>\n",
              "      <td>0</td>\n",
              "      <td>2</td>\n",
              "      <td>0</td>\n",
              "      <td>2100</td>\n",
              "      <td>0</td>\n",
              "      <td>0</td>\n",
              "      <td>2102</td>\n",
              "      <td>FBC CHEMICAL CORP</td>\n",
              "    </tr>\n",
              "    <tr>\n",
              "      <th>2504872</th>\n",
              "      <td>1993</td>\n",
              "      <td>01970PRKRB190BR</td>\n",
              "      <td>PARKER BROTHERS</td>\n",
              "      <td>MA</td>\n",
              "      <td>42.5249</td>\n",
              "      <td>-70.8937</td>\n",
              "      <td>NO</td>\n",
              "      <td>Miscellaneous Manufacturing</td>\n",
              "      <td>TOLUENE DIISOCYANATE (MIXED ISOMERS)</td>\n",
              "      <td>026471625</td>\n",
              "      <td>NO</td>\n",
              "      <td>TRI</td>\n",
              "      <td>NO</td>\n",
              "      <td>0</td>\n",
              "      <td>YES</td>\n",
              "      <td>0</td>\n",
              "      <td>5</td>\n",
              "      <td>0</td>\n",
              "      <td>0</td>\n",
              "      <td>0</td>\n",
              "      <td>0</td>\n",
              "      <td>0</td>\n",
              "      <td>0</td>\n",
              "      <td>5</td>\n",
              "      <td>0</td>\n",
              "      <td>0</td>\n",
              "      <td>0</td>\n",
              "      <td>5</td>\n",
              "      <td>0</td>\n",
              "      <td>0</td>\n",
              "      <td>0</td>\n",
              "      <td>0</td>\n",
              "      <td>1</td>\n",
              "      <td>HASBRO INC</td>\n",
              "    </tr>\n",
              "    <tr>\n",
              "      <th>2504873</th>\n",
              "      <td>1993</td>\n",
              "      <td>78758XTLCR2525B</td>\n",
              "      <td>XETEL CORP</td>\n",
              "      <td>TX</td>\n",
              "      <td>30.3922</td>\n",
              "      <td>-97.7181</td>\n",
              "      <td>NO</td>\n",
              "      <td>Computers and Electronic Products</td>\n",
              "      <td>FREON 113</td>\n",
              "      <td>000076131</td>\n",
              "      <td>NO</td>\n",
              "      <td>TRI</td>\n",
              "      <td>NO</td>\n",
              "      <td>0</td>\n",
              "      <td>NO</td>\n",
              "      <td>0</td>\n",
              "      <td>27000</td>\n",
              "      <td>0</td>\n",
              "      <td>0</td>\n",
              "      <td>0</td>\n",
              "      <td>0</td>\n",
              "      <td>0</td>\n",
              "      <td>0</td>\n",
              "      <td>27000</td>\n",
              "      <td>0</td>\n",
              "      <td>0</td>\n",
              "      <td>0</td>\n",
              "      <td>27000</td>\n",
              "      <td>0</td>\n",
              "      <td>2400</td>\n",
              "      <td>0</td>\n",
              "      <td>0</td>\n",
              "      <td>29400</td>\n",
              "      <td>ROHM CORP</td>\n",
              "    </tr>\n",
              "    <tr>\n",
              "      <th>2504874</th>\n",
              "      <td>1993</td>\n",
              "      <td>94544DVSWL31775</td>\n",
              "      <td>DAVIS WIRE CORP</td>\n",
              "      <td>CA</td>\n",
              "      <td>37.611</td>\n",
              "      <td>-122.045</td>\n",
              "      <td>NO</td>\n",
              "      <td>Primary Metals</td>\n",
              "      <td>SULFURIC ACID (1994 AND AFTER ACID AEROSOLS\" O...</td>\n",
              "      <td>007664939</td>\n",
              "      <td>NO</td>\n",
              "      <td>TRI</td>\n",
              "      <td>NO</td>\n",
              "      <td>0</td>\n",
              "      <td>NO</td>\n",
              "      <td>5</td>\n",
              "      <td>0</td>\n",
              "      <td>0</td>\n",
              "      <td>0</td>\n",
              "      <td>0</td>\n",
              "      <td>0</td>\n",
              "      <td>0</td>\n",
              "      <td>0</td>\n",
              "      <td>5</td>\n",
              "      <td>0</td>\n",
              "      <td>0</td>\n",
              "      <td>0</td>\n",
              "      <td>5</td>\n",
              "      <td>386100</td>\n",
              "      <td>0</td>\n",
              "      <td>793000</td>\n",
              "      <td>0</td>\n",
              "      <td>1.17911e+06</td>\n",
              "      <td>HEICO AQUISITIONS</td>\n",
              "    </tr>\n",
              "    <tr>\n",
              "      <th>2504875</th>\n",
              "      <td>1993</td>\n",
              "      <td>60614JRRWP2000N</td>\n",
              "      <td>JARROW PRODS</td>\n",
              "      <td>IL</td>\n",
              "      <td>41.918</td>\n",
              "      <td>-87.663</td>\n",
              "      <td>NO</td>\n",
              "      <td>Plastics and Rubber</td>\n",
              "      <td>BARIUM COMPOUNDS</td>\n",
              "      <td>N040</td>\n",
              "      <td>NO</td>\n",
              "      <td>TRI</td>\n",
              "      <td>NO</td>\n",
              "      <td>3</td>\n",
              "      <td>NO</td>\n",
              "      <td>0</td>\n",
              "      <td>0</td>\n",
              "      <td>0</td>\n",
              "      <td>0</td>\n",
              "      <td>0</td>\n",
              "      <td>0</td>\n",
              "      <td>0</td>\n",
              "      <td>0</td>\n",
              "      <td>0</td>\n",
              "      <td>250</td>\n",
              "      <td>0</td>\n",
              "      <td>0</td>\n",
              "      <td>250</td>\n",
              "      <td>550</td>\n",
              "      <td>0</td>\n",
              "      <td>0</td>\n",
              "      <td>0</td>\n",
              "      <td>640</td>\n",
              "      <td>STANDARD PRODS CO</td>\n",
              "    </tr>\n",
              "  </tbody>\n",
              "</table>\n",
              "<p>2504876 rows × 34 columns</p>\n",
              "</div>"
            ],
            "text/plain": [
              "         YEAR  ...     PARENT_COMPANY_NAME\n",
              "0        2016  ...                     NaN\n",
              "1        2016  ...                     NaN\n",
              "2        2016  ...             CARGILL INC\n",
              "3        2016  ...  ACUSHNET HOLDINGS CORP\n",
              "4        2016  ...           THE CLOROX CO\n",
              "...       ...  ...                     ...\n",
              "2504871  1993  ...       FBC CHEMICAL CORP\n",
              "2504872  1993  ...              HASBRO INC\n",
              "2504873  1993  ...               ROHM CORP\n",
              "2504874  1993  ...       HEICO AQUISITIONS\n",
              "2504875  1993  ...       STANDARD PRODS CO\n",
              "\n",
              "[2504876 rows x 34 columns]"
            ]
          },
          "metadata": {},
          "execution_count": 88
        }
      ]
    },
    {
      "cell_type": "code",
      "metadata": {
        "id": "S1VhHJncfvun"
      },
      "source": [
        "#df[2548769:2549000]"
      ],
      "execution_count": 89,
      "outputs": []
    },
    {
      "cell_type": "code",
      "metadata": {
        "id": "TLcJS52UmFPn",
        "colab": {
          "base_uri": "https://localhost:8080/"
        },
        "outputId": "dbf5b3bb-4281-4034-f550-9b5e249162f3"
      },
      "source": [
        "sum(df['YEAR'].map(type) != int)"
      ],
      "execution_count": 90,
      "outputs": [
        {
          "output_type": "execute_result",
          "data": {
            "text/plain": [
              "237568"
            ]
          },
          "metadata": {},
          "execution_count": 90
        }
      ]
    },
    {
      "cell_type": "code",
      "metadata": {
        "id": "Us-6Kd4jtmeI",
        "colab": {
          "base_uri": "https://localhost:8080/"
        },
        "outputId": "ab452d9b-b560-49c1-c0dd-ba0567bd0cab"
      },
      "source": [
        "group_by_year = df.groupby(['YEAR'])\n",
        "group_by_year.size()"
      ],
      "execution_count": 91,
      "outputs": [
        {
          "output_type": "execute_result",
          "data": {
            "text/plain": [
              "YEAR\n",
              "1993     30892\n",
              "1994     73728\n",
              "1995     65536\n",
              "1996     73728\n",
              "1997     65536\n",
              "1998     81920\n",
              "1999     81920\n",
              "2000     81920\n",
              "2001     90112\n",
              "2002     90112\n",
              "2003     81920\n",
              "2004     90112\n",
              "2005     81920\n",
              "2006     81920\n",
              "2007     81920\n",
              "2008     73728\n",
              "2009     73728\n",
              "2010     73728\n",
              "2011    147456\n",
              "2012    163840\n",
              "2013    147456\n",
              "2014    147456\n",
              "2015    147456\n",
              "2016    139264\n",
              "1993      8177\n",
              "1994      4055\n",
              "1995     12164\n",
              "1996      1956\n",
              "1997     10126\n",
              "1998      8880\n",
              "1999      4959\n",
              "2000     12216\n",
              "2001      8488\n",
              "2002      5983\n",
              "2003     12304\n",
              "2004      2022\n",
              "2005      9960\n",
              "2006      8901\n",
              "2007      7041\n",
              "2008     13094\n",
              "2009      7868\n",
              "2010      8348\n",
              "2011     17306\n",
              "2012      1348\n",
              "2013     18234\n",
              "2014     19122\n",
              "2015     15540\n",
              "2016     19446\n",
              "YEAR        30\n",
              "dtype: int64"
            ]
          },
          "metadata": {},
          "execution_count": 91
        }
      ]
    },
    {
      "cell_type": "code",
      "metadata": {
        "id": "uQAhRRWzDQpb"
      },
      "source": [
        "df = df.drop(df[df.YEAR == 'YEAR'].index)"
      ],
      "execution_count": 92,
      "outputs": []
    },
    {
      "cell_type": "code",
      "metadata": {
        "id": "vgWuMSw7DYus",
        "colab": {
          "base_uri": "https://localhost:8080/"
        },
        "outputId": "624017d1-febb-469c-9455-261c628f2d4c"
      },
      "source": [
        "sum(df['YEAR'].map(type) != int)"
      ],
      "execution_count": 93,
      "outputs": [
        {
          "output_type": "execute_result",
          "data": {
            "text/plain": [
              "237538"
            ]
          },
          "metadata": {},
          "execution_count": 93
        }
      ]
    },
    {
      "cell_type": "code",
      "metadata": {
        "id": "VPIYtN5AvDRz"
      },
      "source": [
        "#df[793556]\n",
        "df['YEAR'] = pd.to_numeric(df['YEAR'])"
      ],
      "execution_count": 94,
      "outputs": []
    },
    {
      "cell_type": "code",
      "metadata": {
        "colab": {
          "base_uri": "https://localhost:8080/"
        },
        "id": "LYfwGtPXQ3sF",
        "outputId": "a4249399-0ac9-4541-c369-07714e7f6b79"
      },
      "source": [
        "sum(df['YEAR'].map(type) != int)"
      ],
      "execution_count": 95,
      "outputs": [
        {
          "output_type": "execute_result",
          "data": {
            "text/plain": [
              "0"
            ]
          },
          "metadata": {},
          "execution_count": 95
        }
      ]
    },
    {
      "cell_type": "code",
      "metadata": {
        "id": "xEDV1zevkQT5",
        "colab": {
          "base_uri": "https://localhost:8080/"
        },
        "outputId": "169c80ad-ac98-4fc8-dbb7-cb9aa602edea"
      },
      "source": [
        "sum(df['YEAR'].isnull()==True)"
      ],
      "execution_count": 96,
      "outputs": [
        {
          "output_type": "execute_result",
          "data": {
            "text/plain": [
              "0"
            ]
          },
          "metadata": {},
          "execution_count": 96
        }
      ]
    },
    {
      "cell_type": "code",
      "metadata": {
        "id": "AmOKoS5RloCh",
        "colab": {
          "base_uri": "https://localhost:8080/"
        },
        "outputId": "1e2328ee-9458-40c6-b07a-61b152564a66"
      },
      "source": [
        "from scipy import stats\n",
        "\n",
        "most_freq_year, count = stats.mode(df['YEAR'])\n",
        "\n",
        "year_mode = int(most_freq_year) # which age occurs most frequently in the dataset\n",
        "print(year_mode)"
      ],
      "execution_count": 97,
      "outputs": [
        {
          "output_type": "stream",
          "name": "stdout",
          "text": [
            "2014\n"
          ]
        }
      ]
    },
    {
      "cell_type": "code",
      "metadata": {
        "id": "y37bgXoOHrBS",
        "colab": {
          "base_uri": "https://localhost:8080/"
        },
        "outputId": "fddc9c07-7fae-4946-9303-769747ccb9a1"
      },
      "source": [
        "group_by_year = df.groupby(['YEAR'])\n",
        "group_by_year.size()"
      ],
      "execution_count": 98,
      "outputs": [
        {
          "output_type": "execute_result",
          "data": {
            "text/plain": [
              "YEAR\n",
              "1993     39069\n",
              "1994     77783\n",
              "1995     77700\n",
              "1996     75684\n",
              "1997     75662\n",
              "1998     90800\n",
              "1999     86879\n",
              "2000     94136\n",
              "2001     98600\n",
              "2002     96095\n",
              "2003     94224\n",
              "2004     92134\n",
              "2005     91880\n",
              "2006     90821\n",
              "2007     88961\n",
              "2008     86822\n",
              "2009     81596\n",
              "2010     82076\n",
              "2011    164762\n",
              "2012    165188\n",
              "2013    165690\n",
              "2014    166578\n",
              "2015    162996\n",
              "2016    158710\n",
              "dtype: int64"
            ]
          },
          "metadata": {},
          "execution_count": 98
        }
      ]
    },
    {
      "cell_type": "code",
      "metadata": {
        "id": "K-_Q_vWHH7Cl"
      },
      "source": [
        "df = df.drop(df[df.YEAR <2007].index)"
      ],
      "execution_count": 99,
      "outputs": []
    },
    {
      "cell_type": "code",
      "metadata": {
        "id": "g2XaG6heIKwF",
        "colab": {
          "base_uri": "https://localhost:8080/"
        },
        "outputId": "ec4a11b2-4f1b-4bf0-c39b-ff4f944fbf30"
      },
      "source": [
        "group_by_year = df.groupby(['YEAR'])\n",
        "group_by_year.size()"
      ],
      "execution_count": 100,
      "outputs": [
        {
          "output_type": "execute_result",
          "data": {
            "text/plain": [
              "YEAR\n",
              "2007     88961\n",
              "2008     86822\n",
              "2009     81596\n",
              "2010     82076\n",
              "2011    164762\n",
              "2012    165188\n",
              "2013    165690\n",
              "2014    166578\n",
              "2015    162996\n",
              "2016    158710\n",
              "dtype: int64"
            ]
          },
          "metadata": {},
          "execution_count": 100
        }
      ]
    },
    {
      "cell_type": "code",
      "metadata": {
        "id": "i0a1Elkk3tDw",
        "colab": {
          "base_uri": "https://localhost:8080/",
          "height": 298
        },
        "outputId": "59381210-9091-4f1b-cf6b-8525081dd47c"
      },
      "source": [
        "df.YEAR.value_counts().plot.bar()\n"
      ],
      "execution_count": 101,
      "outputs": [
        {
          "output_type": "execute_result",
          "data": {
            "text/plain": [
              "<matplotlib.axes._subplots.AxesSubplot at 0x7fca520d4e50>"
            ]
          },
          "metadata": {},
          "execution_count": 101
        },
        {
          "output_type": "display_data",
          "data": {
            "image/png": "[encoded data removed]",
            "text/plain": [
              "<Figure size 432x288 with 1 Axes>"
            ]
          },
          "metadata": {
            "needs_background": "light"
          }
        }
      ]
    },
    {
      "cell_type": "code",
      "metadata": {
        "id": "qNFVSUW_IYXo",
        "colab": {
          "base_uri": "https://localhost:8080/"
        },
        "outputId": "12367ab1-c587-4645-83aa-53dd89c988b8"
      },
      "source": [
        "sum(df['LATITUDE'].map(type) == str)\n"
      ],
      "execution_count": 102,
      "outputs": [
        {
          "output_type": "execute_result",
          "data": {
            "text/plain": [
              "127235"
            ]
          },
          "metadata": {},
          "execution_count": 102
        }
      ]
    },
    {
      "cell_type": "code",
      "metadata": {
        "id": "keKFl25hvyCw"
      },
      "source": [
        "df['LATITUDE'] = pd.to_numeric(df['LATITUDE'])\n",
        "df['LONGITUDE'] = pd.to_numeric(df['LONGITUDE'])"
      ],
      "execution_count": 103,
      "outputs": []
    },
    {
      "cell_type": "code",
      "metadata": {
        "id": "gd8qUfWywR7P",
        "colab": {
          "base_uri": "https://localhost:8080/"
        },
        "outputId": "8a18a792-f565-4764-c291-c9f4b836f2b6"
      },
      "source": [
        "type(df['LATITUDE'][4])"
      ],
      "execution_count": 104,
      "outputs": [
        {
          "output_type": "execute_result",
          "data": {
            "text/plain": [
              "numpy.float64"
            ]
          },
          "metadata": {},
          "execution_count": 104
        }
      ]
    },
    {
      "cell_type": "code",
      "metadata": {
        "id": "Uc-Mdhmfw1yi",
        "colab": {
          "base_uri": "https://localhost:8080/"
        },
        "outputId": "7dadeae9-c739-469f-c0ac-af17cf8299bb"
      },
      "source": [
        "sum(df['FACILITY_NAME'].map(type) == str)\n"
      ],
      "execution_count": 105,
      "outputs": [
        {
          "output_type": "execute_result",
          "data": {
            "text/plain": [
              "1323379"
            ]
          },
          "metadata": {},
          "execution_count": 105
        }
      ]
    },
    {
      "cell_type": "code",
      "metadata": {
        "id": "7_tzqpVDyMZN",
        "colab": {
          "base_uri": "https://localhost:8080/"
        },
        "outputId": "c8bee06a-37ec-46ff-ba67-4e7465520ebd"
      },
      "source": [
        "group_by_year = df.groupby(['METAL'])\n",
        "group_by_year.size()"
      ],
      "execution_count": 106,
      "outputs": [
        {
          "output_type": "execute_result",
          "data": {
            "text/plain": [
              "METAL\n",
              "NO     819308\n",
              "YES    504071\n",
              "dtype: int64"
            ]
          },
          "metadata": {},
          "execution_count": 106
        }
      ]
    },
    {
      "cell_type": "code",
      "metadata": {
        "id": "FhI9lpdz3UYZ"
      },
      "source": [
        "d = {'YES': True, 'NO': False}\n",
        "df['METAL'] = df['METAL'].map(d)\n",
        "df['FEDERAL_FACILITY'] = df['FEDERAL_FACILITY'].map(d)\n",
        "df['CLEAR_AIR_ACT_CHEMICAL'] = df['CLEAR_AIR_ACT_CHEMICAL'].map(d)\n",
        "df['CARCINOGEN'] = df['CARCINOGEN'].map(d)"
      ],
      "execution_count": 107,
      "outputs": []
    },
    {
      "cell_type": "code",
      "metadata": {
        "id": "pOOQAdP9GqlP",
        "colab": {
          "base_uri": "https://localhost:8080/"
        },
        "outputId": "83d15bb2-25f6-41ff-da90-3a83b0daa7d8"
      },
      "source": [
        "group_by_year = df.groupby(['CLASSIFICATION'])\n",
        "group_by_year.size()"
      ],
      "execution_count": 108,
      "outputs": [
        {
          "output_type": "execute_result",
          "data": {
            "text/plain": [
              "CLASSIFICATION\n",
              "Dioxin      16791\n",
              "PBT        215786\n",
              "TRI       1090802\n",
              "dtype: int64"
            ]
          },
          "metadata": {},
          "execution_count": 108
        }
      ]
    },
    {
      "cell_type": "code",
      "metadata": {
        "colab": {
          "base_uri": "https://localhost:8080/",
          "height": 315
        },
        "id": "-JXIvY6AxBUs",
        "outputId": "84c2073a-dfde-4b19-cc2c-bf0951c27e9d"
      },
      "source": [
        "df.CLASSIFICATION.value_counts().plot.bar()\n"
      ],
      "execution_count": 109,
      "outputs": [
        {
          "output_type": "execute_result",
          "data": {
            "text/plain": [
              "<matplotlib.axes._subplots.AxesSubplot at 0x7fca059fcd50>"
            ]
          },
          "metadata": {},
          "execution_count": 109
        },
        {
          "output_type": "display_data",
          "data": {
            "image/png": "[encoded data removed]",
            "text/plain": [
              "<Figure size 432x288 with 1 Axes>"
            ]
          },
          "metadata": {
            "needs_background": "light"
          }
        }
      ]
    },
    {
      "cell_type": "code",
      "metadata": {
        "colab": {
          "base_uri": "https://localhost:8080/"
        },
        "id": "Dzz3OLoybNgL",
        "outputId": "38db046d-7284-40cb-8ab8-d0db758c0e8d"
      },
      "source": [
        "sum(df['PARENT_COMPANY_NAME'].isna() == True)"
      ],
      "execution_count": 110,
      "outputs": [
        {
          "output_type": "execute_result",
          "data": {
            "text/plain": [
              "219283"
            ]
          },
          "metadata": {},
          "execution_count": 110
        }
      ]
    },
    {
      "cell_type": "code",
      "metadata": {
        "id": "d9A4s_q9btTs"
      },
      "source": [
        "df = df.drop(df[df.PARENT_COMPANY_NAME.isna() ==True].index)"
      ],
      "execution_count": 111,
      "outputs": []
    },
    {
      "cell_type": "code",
      "metadata": {
        "colab": {
          "base_uri": "https://localhost:8080/"
        },
        "id": "2syG0_U5cECx",
        "outputId": "7e31148b-738f-4735-bc96-e5ed48c07f87"
      },
      "source": [
        "sum(df['PARENT_COMPANY_NAME'].isna() == True)"
      ],
      "execution_count": 112,
      "outputs": [
        {
          "output_type": "execute_result",
          "data": {
            "text/plain": [
              "0"
            ]
          },
          "metadata": {},
          "execution_count": 112
        }
      ]
    },
    {
      "cell_type": "code",
      "metadata": {
        "colab": {
          "base_uri": "https://localhost:8080/"
        },
        "id": "lW9jqPLRxGCT",
        "outputId": "0fad3c52-0798-421f-f141-2490f460bb77"
      },
      "source": [
        "group_by_year = df.groupby(['PARENT_COMPANY_NAME'])\n",
        "group_by_year.size()"
      ],
      "execution_count": 113,
      "outputs": [
        {
          "output_type": "execute_result",
          "data": {
            "text/plain": [
              "PARENT_COMPANY_NAME\n",
              "3A COMPOSITES USA INC                      42\n",
              "3M                                          5\n",
              "3M CO                                    4739\n",
              "3P HOLDINGS INC                            78\n",
              "4-D CORROSION CONTROL SPECIALISTS INC      10\n",
              "                                         ... \n",
              "ZOLTEK CORP                                 6\n",
              "ZOLTEK COS INC.                            24\n",
              "ZSCHIMMER & SCHWARZ                        76\n",
              "ZSCHIMMER & SCHWARZ INC                    92\n",
              "ZTM INC.                                    8\n",
              "Length: 6973, dtype: int64"
            ]
          },
          "metadata": {},
          "execution_count": 113
        }
      ]
    },
    {
      "cell_type": "code",
      "metadata": {
        "colab": {
          "base_uri": "https://localhost:8080/"
        },
        "id": "TMfEsXCLxbc0",
        "outputId": "35b7f19c-7517-4dc7-feba-e0e114fd980d"
      },
      "source": [
        "\n",
        "group_by_year = df.groupby(['METAL_CATEGORY'])\n",
        "group_by_year.size()"
      ],
      "execution_count": 114,
      "outputs": [
        {
          "output_type": "execute_result",
          "data": {
            "text/plain": [
              "METAL_CATEGORY\n",
              "0    600067\n",
              "1    368420\n",
              "2     10095\n",
              "3     12386\n",
              "4      6254\n",
              "0     64283\n",
              "1     39439\n",
              "2      1066\n",
              "3      1370\n",
              "4       716\n",
              "dtype: int64"
            ]
          },
          "metadata": {},
          "execution_count": 114
        }
      ]
    },
    {
      "cell_type": "code",
      "metadata": {
        "id": "9xx_o20KSF7L"
      },
      "source": [
        "df['METAL_CATEGORY'] = pd.to_numeric(df['METAL_CATEGORY'])\n"
      ],
      "execution_count": 115,
      "outputs": []
    },
    {
      "cell_type": "code",
      "metadata": {
        "colab": {
          "base_uri": "https://localhost:8080/",
          "height": 279
        },
        "id": "cbHQA83zxo1V",
        "outputId": "7c19c12c-8f14-4fea-da90-3dc06a3651ee"
      },
      "source": [
        "df.METAL_CATEGORY.value_counts().plot.bar()\n"
      ],
      "execution_count": 116,
      "outputs": [
        {
          "output_type": "execute_result",
          "data": {
            "text/plain": [
              "<matplotlib.axes._subplots.AxesSubplot at 0x7fca0a786390>"
            ]
          },
          "metadata": {},
          "execution_count": 116
        },
        {
          "output_type": "display_data",
          "data": {
            "image/png": "[encoded data removed]",
            "text/plain": [
              "<Figure size 432x288 with 1 Axes>"
            ]
          },
          "metadata": {
            "needs_background": "light"
          }
        }
      ]
    },
    {
      "cell_type": "code",
      "metadata": {
        "colab": {
          "base_uri": "https://localhost:8080/"
        },
        "id": "DuWqFDpqEz1Q",
        "outputId": "583dafe8-abc8-41b6-f461-f2112d8f69b3"
      },
      "source": [
        "df['8.4_RECYCLING_ON-SITE'].describe()"
      ],
      "execution_count": 117,
      "outputs": [
        {
          "output_type": "execute_result",
          "data": {
            "text/plain": [
              "count     1104096.0\n",
              "unique      25814.0\n",
              "top             0.0\n",
              "freq       939507.0\n",
              "Name: 8.4_RECYCLING_ON-SITE, dtype: float64"
            ]
          },
          "metadata": {},
          "execution_count": 117
        }
      ]
    },
    {
      "cell_type": "code",
      "metadata": {
        "colab": {
          "base_uri": "https://localhost:8080/"
        },
        "id": "cCKAS-uWojeK",
        "outputId": "774aba0f-5262-4e3f-a75e-acc5bf0ec6c3"
      },
      "source": [
        "df[' 8.5_RECYCLING_OFF-SITE'].describe()"
      ],
      "execution_count": 118,
      "outputs": [
        {
          "output_type": "execute_result",
          "data": {
            "text/plain": [
              "count     1104096.0\n",
              "unique      79513.0\n",
              "top             0.0\n",
              "freq       772398.0\n",
              "Name:  8.5_RECYCLING_OFF-SITE, dtype: float64"
            ]
          },
          "metadata": {},
          "execution_count": 118
        }
      ]
    },
    {
      "cell_type": "code",
      "metadata": {
        "colab": {
          "base_uri": "https://localhost:8080/"
        },
        "id": "suubPoHjVhQv",
        "outputId": "ce2ada27-6d60-4cf8-d426-dd118d46ad0b"
      },
      "source": [
        "#Types of chemicals \n",
        "group_by_year = df.groupby(['CHEMICAL'])\n",
        "group_by_year.size()"
      ],
      "execution_count": 119,
      "outputs": [
        {
          "output_type": "execute_result",
          "data": {
            "text/plain": [
              "CHEMICAL\n",
              "1,1,1,2-TETRACHLORO-2-FLUOROETHANE        3\n",
              "1,1,1,2-TETRACHLOROETHANE               171\n",
              "1,1,1-TRICHLOROETHANE                   427\n",
              "1,1,2,2-TETRACHLORO-1-FLUOROETHANE       10\n",
              "1,1,2,2-TETRACHLOROETHANE               341\n",
              "                                      ...  \n",
              "WARFARIN AND SALTS                       83\n",
              "XYLENE (MIXED ISOMERS)                28328\n",
              "ZINC (FUME OR DUST)                    2807\n",
              "ZINC COMPOUNDS                        42000\n",
              "ZINEB                                    12\n",
              "Length: 551, dtype: int64"
            ]
          },
          "metadata": {},
          "execution_count": 119
        }
      ]
    },
    {
      "cell_type": "code",
      "metadata": {
        "colab": {
          "base_uri": "https://localhost:8080/",
          "height": 35
        },
        "id": "C3P4IZfjaq0i",
        "outputId": "f22047c9-f3ba-4b07-c96b-18923fbd4e04"
      },
      "source": [
        "df['CHEMICAL'][1010]"
      ],
      "execution_count": 120,
      "outputs": [
        {
          "output_type": "execute_result",
          "data": {
            "application/vnd.google.colaboratory.intrinsic+json": {
              "type": "string"
            },
            "text/plain": [
              "'COPPER'"
            ]
          },
          "metadata": {},
          "execution_count": 120
        }
      ]
    },
    {
      "cell_type": "code",
      "metadata": {
        "colab": {
          "base_uri": "https://localhost:8080/"
        },
        "id": "zmTEqDu5B20l",
        "outputId": "0b762910-47bc-4072-b497-c91bccaa8f2f"
      },
      "source": [
        "#Types of metals \n",
        "group_by_year = df.groupby(['METAL_CATEGORY'])\n",
        "group_by_year.size()"
      ],
      "execution_count": 121,
      "outputs": [
        {
          "output_type": "execute_result",
          "data": {
            "text/plain": [
              "METAL_CATEGORY\n",
              "0    664350\n",
              "1    407859\n",
              "2     11161\n",
              "3     13756\n",
              "4      6970\n",
              "dtype: int64"
            ]
          },
          "metadata": {},
          "execution_count": 121
        }
      ]
    },
    {
      "cell_type": "code",
      "metadata": {
        "colab": {
          "base_uri": "https://localhost:8080/",
          "height": 411
        },
        "id": "A-fVcomuwXX-",
        "outputId": "755a9f52-8d8e-43c7-fa7b-d72ea11f2329"
      },
      "source": [
        "import seaborn as sns\n",
        "#correlation matrix\n",
        "corr = df.corr()\n",
        "#cmap = colors.ListedColormap([\"#682F2F\", \"#9E726F\", \"#D6B2B1\", \"#B9C0C9\", \"#9F8A78\", \"#F3AB60\"])\n",
        "sns.heatmap(corr,annot=True, center=0)"
      ],
      "execution_count": 122,
      "outputs": [
        {
          "output_type": "execute_result",
          "data": {
            "text/plain": [
              "<matplotlib.axes._subplots.AxesSubplot at 0x7fcad7600150>"
            ]
          },
          "metadata": {},
          "execution_count": 122
        },
        {
          "output_type": "display_data",
          "data": {
            "image/png": "[encoded data removed]",
            "text/plain": [
              "<Figure size 432x288 with 2 Axes>"
            ]
          },
          "metadata": {
            "needs_background": "light"
          }
        }
      ]
    },
    {
      "cell_type": "code",
      "metadata": {
        "colab": {
          "base_uri": "https://localhost:8080/"
        },
        "id": "2NAfb--l8CCX",
        "outputId": "19114f9b-208e-409a-e79d-7079ce4f3f00"
      },
      "source": [
        "#Get list of categorical variables\n",
        "s = (df.dtypes == 'object')\n",
        "object_cols = list(s[s].index)\n",
        "\n",
        "print(\"Categorical variables in the dataset:\", object_cols)"
      ],
      "execution_count": 123,
      "outputs": [
        {
          "output_type": "stream",
          "name": "stdout",
          "text": [
            "Categorical variables in the dataset: ['TRI_FACILITY_ID', 'FACILITY_NAME', 'ST', 'INDUSTRY_SECTOR', 'CHEMICAL', 'CAS_#/COMPOUND_ID', 'CLASSIFICATION', '5.1_FUGITIVE_AIR', '5.2_STACK_AIR', '5.3_WATER', '5.4_UNDERGROUND', '5.5.1_LANDFILLS', '5.5.2_LAND_TREATMENT', '5.5.3_SURFACE_IMPOUNDMENT', '5.5.4_OTHER_DISPOSAL', 'ON-SITE_RELEASE_TOTAL', 'OFF-SITE_RELEASE_TOTAL', 'OFF-SITE_RECOVERY_TOTAL', 'OFF-SITE_TREATED_TOTAL', 'TOTAL_RELEASES', '8.4_RECYCLING_ON-SITE', ' 8.5_RECYCLING_OFF-SITE', '8.6_TREATMENT_ON-SITE', '8.7_TREATMENT_OFF-SITE', 'PROD._WASTE_(8.1_THRU_8.7)', 'PARENT_COMPANY_NAME']\n"
          ]
        }
      ]
    },
    {
      "cell_type": "code",
      "metadata": {
        "id": "kuxdlvTeFhzf"
      },
      "source": [
        "#subset for identifying hazardous chemicals\n",
        "subset_df1 = df[['CLEAR_AIR_ACT_CHEMICAL', 'METAL_CATEGORY', 'CARCINOGEN']]\n"
      ],
      "execution_count": 124,
      "outputs": []
    },
    {
      "cell_type": "code",
      "metadata": {
        "colab": {
          "base_uri": "https://localhost:8080/"
        },
        "id": "VtZISBG1H3qm",
        "outputId": "5c60d2d9-8ffa-4eb3-b496-53d957bf1930"
      },
      "source": [
        "# importing necessary libraries\n",
        "\n",
        "!pip install kmodes\n",
        "from kmodes.kmodes import KModes\n",
        "import matplotlib.pyplot as plt\n",
        "%matplotlib inline"
      ],
      "execution_count": 126,
      "outputs": [
        {
          "output_type": "stream",
          "name": "stdout",
          "text": [
            "Requirement already satisfied: kmodes in /usr/local/lib/python3.7/dist-packages (0.11.1)\n",
            "Requirement already satisfied: joblib>=0.11 in /usr/local/lib/python3.7/dist-packages (from kmodes) (1.1.0)\n",
            "Requirement already satisfied: numpy>=1.10.4 in /usr/local/lib/python3.7/dist-packages (from kmodes) (1.19.5)\n",
            "Requirement already satisfied: scipy>=0.13.3 in /usr/local/lib/python3.7/dist-packages (from kmodes) (1.4.1)\n",
            "Requirement already satisfied: scikit-learn>=0.22.0 in /usr/local/lib/python3.7/dist-packages (from kmodes) (1.0.1)\n",
            "Requirement already satisfied: threadpoolctl>=2.0.0 in /usr/local/lib/python3.7/dist-packages (from scikit-learn>=0.22.0->kmodes) (3.0.0)\n"
          ]
        }
      ]
    },
    {
      "cell_type": "code",
      "metadata": {
        "colab": {
          "base_uri": "https://localhost:8080/"
        },
        "id": "OrKSOrCso4Ox",
        "outputId": "13ce4af1-865b-44f2-a815-8ad27c6df989"
      },
      "source": [
        "# importing one hot encoder \n",
        "from sklearn.preprocessing import OneHotEncoder\n",
        "# creating one hot encoder object \n",
        "onehotencoder = OneHotEncoder()\n",
        "#reshape the 1-D country array to 2-D as fit_transform expects 2-D and finally fit the object \n",
        "X = onehotencoder.fit_transform(subset_df1['METAL_CATEGORY'].values.reshape(-1,1)).toarray()\n",
        "X\n"
      ],
      "execution_count": 127,
      "outputs": [
        {
          "output_type": "execute_result",
          "data": {
            "text/plain": [
              "array([[0., 1., 0., 0., 0.],\n",
              "       [1., 0., 0., 0., 0.],\n",
              "       [1., 0., 0., 0., 0.],\n",
              "       ...,\n",
              "       [1., 0., 0., 0., 0.],\n",
              "       [1., 0., 0., 0., 0.],\n",
              "       [0., 1., 0., 0., 0.]])"
            ]
          },
          "metadata": {},
          "execution_count": 127
        }
      ]
    },
    {
      "cell_type": "code",
      "metadata": {
        "colab": {
          "base_uri": "https://localhost:8080/",
          "height": 424
        },
        "id": "epWqmIszpo7h",
        "outputId": "3f98c672-1143-483a-b667-c68a6c126c87"
      },
      "source": [
        "#To add this back into the original dataframe \n",
        "index_values = subset_df1.index\n",
        "dfOneHot = pd.DataFrame(X, columns = [\"MCAT_\"+str(int(i)) for i in range(X.shape[1])],  index = index_values) \n",
        "dfOneHot"
      ],
      "execution_count": 161,
      "outputs": [
        {
          "output_type": "execute_result",
          "data": {
            "text/html": [
              "<div>\n",
              "<style scoped>\n",
              "    .dataframe tbody tr th:only-of-type {\n",
              "        vertical-align: middle;\n",
              "    }\n",
              "\n",
              "    .dataframe tbody tr th {\n",
              "        vertical-align: top;\n",
              "    }\n",
              "\n",
              "    .dataframe thead th {\n",
              "        text-align: right;\n",
              "    }\n",
              "</style>\n",
              "<table border=\"1\" class=\"dataframe\">\n",
              "  <thead>\n",
              "    <tr style=\"text-align: right;\">\n",
              "      <th></th>\n",
              "      <th>MCAT_0</th>\n",
              "      <th>MCAT_1</th>\n",
              "      <th>MCAT_2</th>\n",
              "      <th>MCAT_3</th>\n",
              "      <th>MCAT_4</th>\n",
              "    </tr>\n",
              "  </thead>\n",
              "  <tbody>\n",
              "    <tr>\n",
              "      <th>2</th>\n",
              "      <td>0.0</td>\n",
              "      <td>1.0</td>\n",
              "      <td>0.0</td>\n",
              "      <td>0.0</td>\n",
              "      <td>0.0</td>\n",
              "    </tr>\n",
              "    <tr>\n",
              "      <th>3</th>\n",
              "      <td>1.0</td>\n",
              "      <td>0.0</td>\n",
              "      <td>0.0</td>\n",
              "      <td>0.0</td>\n",
              "      <td>0.0</td>\n",
              "    </tr>\n",
              "    <tr>\n",
              "      <th>4</th>\n",
              "      <td>1.0</td>\n",
              "      <td>0.0</td>\n",
              "      <td>0.0</td>\n",
              "      <td>0.0</td>\n",
              "      <td>0.0</td>\n",
              "    </tr>\n",
              "    <tr>\n",
              "      <th>6</th>\n",
              "      <td>0.0</td>\n",
              "      <td>1.0</td>\n",
              "      <td>0.0</td>\n",
              "      <td>0.0</td>\n",
              "      <td>0.0</td>\n",
              "    </tr>\n",
              "    <tr>\n",
              "      <th>7</th>\n",
              "      <td>1.0</td>\n",
              "      <td>0.0</td>\n",
              "      <td>0.0</td>\n",
              "      <td>0.0</td>\n",
              "      <td>0.0</td>\n",
              "    </tr>\n",
              "    <tr>\n",
              "      <th>...</th>\n",
              "      <td>...</td>\n",
              "      <td>...</td>\n",
              "      <td>...</td>\n",
              "      <td>...</td>\n",
              "      <td>...</td>\n",
              "    </tr>\n",
              "    <tr>\n",
              "      <th>1323389</th>\n",
              "      <td>0.0</td>\n",
              "      <td>1.0</td>\n",
              "      <td>0.0</td>\n",
              "      <td>0.0</td>\n",
              "      <td>0.0</td>\n",
              "    </tr>\n",
              "    <tr>\n",
              "      <th>1323391</th>\n",
              "      <td>1.0</td>\n",
              "      <td>0.0</td>\n",
              "      <td>0.0</td>\n",
              "      <td>0.0</td>\n",
              "      <td>0.0</td>\n",
              "    </tr>\n",
              "    <tr>\n",
              "      <th>1323392</th>\n",
              "      <td>1.0</td>\n",
              "      <td>0.0</td>\n",
              "      <td>0.0</td>\n",
              "      <td>0.0</td>\n",
              "      <td>0.0</td>\n",
              "    </tr>\n",
              "    <tr>\n",
              "      <th>1323393</th>\n",
              "      <td>1.0</td>\n",
              "      <td>0.0</td>\n",
              "      <td>0.0</td>\n",
              "      <td>0.0</td>\n",
              "      <td>0.0</td>\n",
              "    </tr>\n",
              "    <tr>\n",
              "      <th>1323394</th>\n",
              "      <td>0.0</td>\n",
              "      <td>1.0</td>\n",
              "      <td>0.0</td>\n",
              "      <td>0.0</td>\n",
              "      <td>0.0</td>\n",
              "    </tr>\n",
              "  </tbody>\n",
              "</table>\n",
              "<p>1104096 rows × 5 columns</p>\n",
              "</div>"
            ],
            "text/plain": [
              "         MCAT_0  MCAT_1  MCAT_2  MCAT_3  MCAT_4\n",
              "2           0.0     1.0     0.0     0.0     0.0\n",
              "3           1.0     0.0     0.0     0.0     0.0\n",
              "4           1.0     0.0     0.0     0.0     0.0\n",
              "6           0.0     1.0     0.0     0.0     0.0\n",
              "7           1.0     0.0     0.0     0.0     0.0\n",
              "...         ...     ...     ...     ...     ...\n",
              "1323389     0.0     1.0     0.0     0.0     0.0\n",
              "1323391     1.0     0.0     0.0     0.0     0.0\n",
              "1323392     1.0     0.0     0.0     0.0     0.0\n",
              "1323393     1.0     0.0     0.0     0.0     0.0\n",
              "1323394     0.0     1.0     0.0     0.0     0.0\n",
              "\n",
              "[1104096 rows x 5 columns]"
            ]
          },
          "metadata": {},
          "execution_count": 161
        }
      ]
    },
    {
      "cell_type": "code",
      "metadata": {
        "colab": {
          "base_uri": "https://localhost:8080/",
          "height": 424
        },
        "id": "D77Zqri6sEtG",
        "outputId": "e68f6dda-4c9a-4637-ac85-9143fa190134"
      },
      "source": [
        "df2 = pd.concat([subset_df1, dfOneHot], axis=1).reindex(subset_df1.index)\n",
        "df2"
      ],
      "execution_count": 162,
      "outputs": [
        {
          "output_type": "execute_result",
          "data": {
            "text/html": [
              "<div>\n",
              "<style scoped>\n",
              "    .dataframe tbody tr th:only-of-type {\n",
              "        vertical-align: middle;\n",
              "    }\n",
              "\n",
              "    .dataframe tbody tr th {\n",
              "        vertical-align: top;\n",
              "    }\n",
              "\n",
              "    .dataframe thead th {\n",
              "        text-align: right;\n",
              "    }\n",
              "</style>\n",
              "<table border=\"1\" class=\"dataframe\">\n",
              "  <thead>\n",
              "    <tr style=\"text-align: right;\">\n",
              "      <th></th>\n",
              "      <th>CLEAR_AIR_ACT_CHEMICAL</th>\n",
              "      <th>METAL_CATEGORY</th>\n",
              "      <th>CARCINOGEN</th>\n",
              "      <th>MCAT_0</th>\n",
              "      <th>MCAT_1</th>\n",
              "      <th>MCAT_2</th>\n",
              "      <th>MCAT_3</th>\n",
              "      <th>MCAT_4</th>\n",
              "    </tr>\n",
              "  </thead>\n",
              "  <tbody>\n",
              "    <tr>\n",
              "      <th>2</th>\n",
              "      <td>False</td>\n",
              "      <td>1</td>\n",
              "      <td>False</td>\n",
              "      <td>0.0</td>\n",
              "      <td>1.0</td>\n",
              "      <td>0.0</td>\n",
              "      <td>0.0</td>\n",
              "      <td>0.0</td>\n",
              "    </tr>\n",
              "    <tr>\n",
              "      <th>3</th>\n",
              "      <td>True</td>\n",
              "      <td>0</td>\n",
              "      <td>False</td>\n",
              "      <td>1.0</td>\n",
              "      <td>0.0</td>\n",
              "      <td>0.0</td>\n",
              "      <td>0.0</td>\n",
              "      <td>0.0</td>\n",
              "    </tr>\n",
              "    <tr>\n",
              "      <th>4</th>\n",
              "      <td>True</td>\n",
              "      <td>0</td>\n",
              "      <td>False</td>\n",
              "      <td>1.0</td>\n",
              "      <td>0.0</td>\n",
              "      <td>0.0</td>\n",
              "      <td>0.0</td>\n",
              "      <td>0.0</td>\n",
              "    </tr>\n",
              "    <tr>\n",
              "      <th>6</th>\n",
              "      <td>True</td>\n",
              "      <td>1</td>\n",
              "      <td>False</td>\n",
              "      <td>0.0</td>\n",
              "      <td>1.0</td>\n",
              "      <td>0.0</td>\n",
              "      <td>0.0</td>\n",
              "      <td>0.0</td>\n",
              "    </tr>\n",
              "    <tr>\n",
              "      <th>7</th>\n",
              "      <td>False</td>\n",
              "      <td>0</td>\n",
              "      <td>False</td>\n",
              "      <td>1.0</td>\n",
              "      <td>0.0</td>\n",
              "      <td>0.0</td>\n",
              "      <td>0.0</td>\n",
              "      <td>0.0</td>\n",
              "    </tr>\n",
              "    <tr>\n",
              "      <th>...</th>\n",
              "      <td>...</td>\n",
              "      <td>...</td>\n",
              "      <td>...</td>\n",
              "      <td>...</td>\n",
              "      <td>...</td>\n",
              "      <td>...</td>\n",
              "      <td>...</td>\n",
              "      <td>...</td>\n",
              "    </tr>\n",
              "    <tr>\n",
              "      <th>1323389</th>\n",
              "      <td>True</td>\n",
              "      <td>1</td>\n",
              "      <td>True</td>\n",
              "      <td>0.0</td>\n",
              "      <td>1.0</td>\n",
              "      <td>0.0</td>\n",
              "      <td>0.0</td>\n",
              "      <td>0.0</td>\n",
              "    </tr>\n",
              "    <tr>\n",
              "      <th>1323391</th>\n",
              "      <td>True</td>\n",
              "      <td>0</td>\n",
              "      <td>False</td>\n",
              "      <td>1.0</td>\n",
              "      <td>0.0</td>\n",
              "      <td>0.0</td>\n",
              "      <td>0.0</td>\n",
              "      <td>0.0</td>\n",
              "    </tr>\n",
              "    <tr>\n",
              "      <th>1323392</th>\n",
              "      <td>True</td>\n",
              "      <td>0</td>\n",
              "      <td>False</td>\n",
              "      <td>1.0</td>\n",
              "      <td>0.0</td>\n",
              "      <td>0.0</td>\n",
              "      <td>0.0</td>\n",
              "      <td>0.0</td>\n",
              "    </tr>\n",
              "    <tr>\n",
              "      <th>1323393</th>\n",
              "      <td>False</td>\n",
              "      <td>0</td>\n",
              "      <td>False</td>\n",
              "      <td>1.0</td>\n",
              "      <td>0.0</td>\n",
              "      <td>0.0</td>\n",
              "      <td>0.0</td>\n",
              "      <td>0.0</td>\n",
              "    </tr>\n",
              "    <tr>\n",
              "      <th>1323394</th>\n",
              "      <td>True</td>\n",
              "      <td>1</td>\n",
              "      <td>False</td>\n",
              "      <td>0.0</td>\n",
              "      <td>1.0</td>\n",
              "      <td>0.0</td>\n",
              "      <td>0.0</td>\n",
              "      <td>0.0</td>\n",
              "    </tr>\n",
              "  </tbody>\n",
              "</table>\n",
              "<p>1104096 rows × 8 columns</p>\n",
              "</div>"
            ],
            "text/plain": [
              "         CLEAR_AIR_ACT_CHEMICAL  METAL_CATEGORY  ...  MCAT_3  MCAT_4\n",
              "2                         False               1  ...     0.0     0.0\n",
              "3                          True               0  ...     0.0     0.0\n",
              "4                          True               0  ...     0.0     0.0\n",
              "6                          True               1  ...     0.0     0.0\n",
              "7                         False               0  ...     0.0     0.0\n",
              "...                         ...             ...  ...     ...     ...\n",
              "1323389                    True               1  ...     0.0     0.0\n",
              "1323391                    True               0  ...     0.0     0.0\n",
              "1323392                    True               0  ...     0.0     0.0\n",
              "1323393                   False               0  ...     0.0     0.0\n",
              "1323394                    True               1  ...     0.0     0.0\n",
              "\n",
              "[1104096 rows x 8 columns]"
            ]
          },
          "metadata": {},
          "execution_count": 162
        }
      ]
    },
    {
      "cell_type": "code",
      "metadata": {
        "colab": {
          "base_uri": "https://localhost:8080/"
        },
        "id": "9pbLy363xxNO",
        "outputId": "358d8d74-9f78-48b1-8a3e-3d99816b0b49"
      },
      "source": [
        "#droping the country column \n",
        "df2= df2.drop(['METAL_CATEGORY'], axis=1) \n",
        "#printing to verify \n",
        "print(df2.head())"
      ],
      "execution_count": 163,
      "outputs": [
        {
          "output_type": "stream",
          "name": "stdout",
          "text": [
            "   CLEAR_AIR_ACT_CHEMICAL  CARCINOGEN  MCAT_0  MCAT_1  MCAT_2  MCAT_3  MCAT_4\n",
            "2                   False       False     0.0     1.0     0.0     0.0     0.0\n",
            "3                    True       False     1.0     0.0     0.0     0.0     0.0\n",
            "4                    True       False     1.0     0.0     0.0     0.0     0.0\n",
            "6                    True       False     0.0     1.0     0.0     0.0     0.0\n",
            "7                   False       False     1.0     0.0     0.0     0.0     0.0\n"
          ]
        }
      ]
    },
    {
      "cell_type": "code",
      "metadata": {
        "colab": {
          "base_uri": "https://localhost:8080/"
        },
        "id": "0D8MAfa_rUuZ",
        "outputId": "042f2922-1e51-48ba-d849-31f77678a3e7"
      },
      "source": [
        "sum(df2['CLEAR_AIR_ACT_CHEMICAL'].isna() == True)"
      ],
      "execution_count": 164,
      "outputs": [
        {
          "output_type": "execute_result",
          "data": {
            "text/plain": [
              "0"
            ]
          },
          "metadata": {},
          "execution_count": 164
        }
      ]
    },
    {
      "cell_type": "code",
      "metadata": {
        "id": "C-1SHOPuBVdn"
      },
      "source": [
        "# # Elbow curve to find optimal K\n",
        "# cost = []\n",
        "# K = range(1,5)\n",
        "# for num_clusters in list(K):\n",
        "#     kmode = KModes(n_clusters=num_clusters, init = \"random\", n_init = 5, verbose=1)\n",
        "#     kmode.fit_predict(subset_df1)\n",
        "#     cost.append(kmode.cost_)\n",
        "    \n",
        "# plt.plot(K, cost, 'bx-')\n",
        "# plt.xlabel('No. of clusters')\n",
        "# plt.ylabel('Cost')\n",
        "# plt.title('Elbow Method For Optimal k')\n",
        "# plt.show()"
      ],
      "execution_count": 134,
      "outputs": []
    },
    {
      "cell_type": "code",
      "metadata": {
        "colab": {
          "base_uri": "https://localhost:8080/"
        },
        "id": "VubO8_J7pSRn",
        "outputId": "4b421d5f-ba23-4f03-d722-2945b4a07872"
      },
      "source": [
        "# Building the model with 3 clusters\n",
        "kmode = KModes(n_clusters=2, init = \"random\", n_init = 3, verbose=1)\n",
        "clusters = kmode.fit_predict(df2)\n",
        "clusters"
      ],
      "execution_count": 170,
      "outputs": [
        {
          "output_type": "stream",
          "name": "stdout",
          "text": [
            "Init: initializing centroids\n",
            "Init: initializing clusters\n",
            "Starting iterations...\n",
            "Run 1, iteration: 1/100, moves: 0, cost: 663363.0\n",
            "Init: initializing centroids\n",
            "Init: initializing clusters\n",
            "Starting iterations...\n",
            "Run 2, iteration: 1/100, moves: 407859, cost: 663363.0\n",
            "Run 2, iteration: 2/100, moves: 0, cost: 663363.0\n",
            "Init: initializing centroids\n",
            "Init: initializing clusters\n",
            "Starting iterations...\n",
            "Run 3, iteration: 1/100, moves: 0, cost: 1218666.0\n",
            "Best run was number 1\n"
          ]
        },
        {
          "output_type": "execute_result",
          "data": {
            "text/plain": [
              "array([0, 1, 1, ..., 1, 1, 0], dtype=uint16)"
            ]
          },
          "metadata": {},
          "execution_count": 170
        }
      ]
    },
    {
      "cell_type": "code",
      "metadata": {
        "colab": {
          "base_uri": "https://localhost:8080/",
          "height": 424
        },
        "id": "aCcPV_fzpt3_",
        "outputId": "fb97c2f7-1bbe-4a55-81b3-2e147c8294b1"
      },
      "source": [
        "df2.insert(0, \"Cluster_hazardous\", clusters, True)\n",
        "df2"
      ],
      "execution_count": 171,
      "outputs": [
        {
          "output_type": "execute_result",
          "data": {
            "text/html": [
              "<div>\n",
              "<style scoped>\n",
              "    .dataframe tbody tr th:only-of-type {\n",
              "        vertical-align: middle;\n",
              "    }\n",
              "\n",
              "    .dataframe tbody tr th {\n",
              "        vertical-align: top;\n",
              "    }\n",
              "\n",
              "    .dataframe thead th {\n",
              "        text-align: right;\n",
              "    }\n",
              "</style>\n",
              "<table border=\"1\" class=\"dataframe\">\n",
              "  <thead>\n",
              "    <tr style=\"text-align: right;\">\n",
              "      <th></th>\n",
              "      <th>Cluster_hazardous</th>\n",
              "      <th>CLEAR_AIR_ACT_CHEMICAL</th>\n",
              "      <th>CARCINOGEN</th>\n",
              "      <th>MCAT_0</th>\n",
              "      <th>MCAT_1</th>\n",
              "      <th>MCAT_2</th>\n",
              "      <th>MCAT_3</th>\n",
              "      <th>MCAT_4</th>\n",
              "    </tr>\n",
              "  </thead>\n",
              "  <tbody>\n",
              "    <tr>\n",
              "      <th>2</th>\n",
              "      <td>0</td>\n",
              "      <td>False</td>\n",
              "      <td>False</td>\n",
              "      <td>0.0</td>\n",
              "      <td>1.0</td>\n",
              "      <td>0.0</td>\n",
              "      <td>0.0</td>\n",
              "      <td>0.0</td>\n",
              "    </tr>\n",
              "    <tr>\n",
              "      <th>3</th>\n",
              "      <td>1</td>\n",
              "      <td>True</td>\n",
              "      <td>False</td>\n",
              "      <td>1.0</td>\n",
              "      <td>0.0</td>\n",
              "      <td>0.0</td>\n",
              "      <td>0.0</td>\n",
              "      <td>0.0</td>\n",
              "    </tr>\n",
              "    <tr>\n",
              "      <th>4</th>\n",
              "      <td>1</td>\n",
              "      <td>True</td>\n",
              "      <td>False</td>\n",
              "      <td>1.0</td>\n",
              "      <td>0.0</td>\n",
              "      <td>0.0</td>\n",
              "      <td>0.0</td>\n",
              "      <td>0.0</td>\n",
              "    </tr>\n",
              "    <tr>\n",
              "      <th>6</th>\n",
              "      <td>0</td>\n",
              "      <td>True</td>\n",
              "      <td>False</td>\n",
              "      <td>0.0</td>\n",
              "      <td>1.0</td>\n",
              "      <td>0.0</td>\n",
              "      <td>0.0</td>\n",
              "      <td>0.0</td>\n",
              "    </tr>\n",
              "    <tr>\n",
              "      <th>7</th>\n",
              "      <td>1</td>\n",
              "      <td>False</td>\n",
              "      <td>False</td>\n",
              "      <td>1.0</td>\n",
              "      <td>0.0</td>\n",
              "      <td>0.0</td>\n",
              "      <td>0.0</td>\n",
              "      <td>0.0</td>\n",
              "    </tr>\n",
              "    <tr>\n",
              "      <th>...</th>\n",
              "      <td>...</td>\n",
              "      <td>...</td>\n",
              "      <td>...</td>\n",
              "      <td>...</td>\n",
              "      <td>...</td>\n",
              "      <td>...</td>\n",
              "      <td>...</td>\n",
              "      <td>...</td>\n",
              "    </tr>\n",
              "    <tr>\n",
              "      <th>1323389</th>\n",
              "      <td>0</td>\n",
              "      <td>True</td>\n",
              "      <td>True</td>\n",
              "      <td>0.0</td>\n",
              "      <td>1.0</td>\n",
              "      <td>0.0</td>\n",
              "      <td>0.0</td>\n",
              "      <td>0.0</td>\n",
              "    </tr>\n",
              "    <tr>\n",
              "      <th>1323391</th>\n",
              "      <td>1</td>\n",
              "      <td>True</td>\n",
              "      <td>False</td>\n",
              "      <td>1.0</td>\n",
              "      <td>0.0</td>\n",
              "      <td>0.0</td>\n",
              "      <td>0.0</td>\n",
              "      <td>0.0</td>\n",
              "    </tr>\n",
              "    <tr>\n",
              "      <th>1323392</th>\n",
              "      <td>1</td>\n",
              "      <td>True</td>\n",
              "      <td>False</td>\n",
              "      <td>1.0</td>\n",
              "      <td>0.0</td>\n",
              "      <td>0.0</td>\n",
              "      <td>0.0</td>\n",
              "      <td>0.0</td>\n",
              "    </tr>\n",
              "    <tr>\n",
              "      <th>1323393</th>\n",
              "      <td>1</td>\n",
              "      <td>False</td>\n",
              "      <td>False</td>\n",
              "      <td>1.0</td>\n",
              "      <td>0.0</td>\n",
              "      <td>0.0</td>\n",
              "      <td>0.0</td>\n",
              "      <td>0.0</td>\n",
              "    </tr>\n",
              "    <tr>\n",
              "      <th>1323394</th>\n",
              "      <td>0</td>\n",
              "      <td>True</td>\n",
              "      <td>False</td>\n",
              "      <td>0.0</td>\n",
              "      <td>1.0</td>\n",
              "      <td>0.0</td>\n",
              "      <td>0.0</td>\n",
              "      <td>0.0</td>\n",
              "    </tr>\n",
              "  </tbody>\n",
              "</table>\n",
              "<p>1104096 rows × 8 columns</p>\n",
              "</div>"
            ],
            "text/plain": [
              "         Cluster_hazardous  CLEAR_AIR_ACT_CHEMICAL  ...  MCAT_3  MCAT_4\n",
              "2                        0                   False  ...     0.0     0.0\n",
              "3                        1                    True  ...     0.0     0.0\n",
              "4                        1                    True  ...     0.0     0.0\n",
              "6                        0                    True  ...     0.0     0.0\n",
              "7                        1                   False  ...     0.0     0.0\n",
              "...                    ...                     ...  ...     ...     ...\n",
              "1323389                  0                    True  ...     0.0     0.0\n",
              "1323391                  1                    True  ...     0.0     0.0\n",
              "1323392                  1                    True  ...     0.0     0.0\n",
              "1323393                  1                   False  ...     0.0     0.0\n",
              "1323394                  0                    True  ...     0.0     0.0\n",
              "\n",
              "[1104096 rows x 8 columns]"
            ]
          },
          "metadata": {},
          "execution_count": 171
        }
      ]
    },
    {
      "cell_type": "code",
      "metadata": {
        "id": "cWnNm3HnxqWE"
      },
      "source": [
        "df2 = df2.loc[:,~df2.columns.duplicated()]"
      ],
      "execution_count": 172,
      "outputs": []
    },
    {
      "cell_type": "code",
      "metadata": {
        "colab": {
          "base_uri": "https://localhost:8080/",
          "height": 424
        },
        "id": "9tMnAizCxvtk",
        "outputId": "82e2384d-15be-46ce-c291-bc686d117296"
      },
      "source": [
        "df2"
      ],
      "execution_count": 173,
      "outputs": [
        {
          "output_type": "execute_result",
          "data": {
            "text/html": [
              "<div>\n",
              "<style scoped>\n",
              "    .dataframe tbody tr th:only-of-type {\n",
              "        vertical-align: middle;\n",
              "    }\n",
              "\n",
              "    .dataframe tbody tr th {\n",
              "        vertical-align: top;\n",
              "    }\n",
              "\n",
              "    .dataframe thead th {\n",
              "        text-align: right;\n",
              "    }\n",
              "</style>\n",
              "<table border=\"1\" class=\"dataframe\">\n",
              "  <thead>\n",
              "    <tr style=\"text-align: right;\">\n",
              "      <th></th>\n",
              "      <th>Cluster_hazardous</th>\n",
              "      <th>CLEAR_AIR_ACT_CHEMICAL</th>\n",
              "      <th>CARCINOGEN</th>\n",
              "      <th>MCAT_0</th>\n",
              "      <th>MCAT_1</th>\n",
              "      <th>MCAT_2</th>\n",
              "      <th>MCAT_3</th>\n",
              "      <th>MCAT_4</th>\n",
              "    </tr>\n",
              "  </thead>\n",
              "  <tbody>\n",
              "    <tr>\n",
              "      <th>2</th>\n",
              "      <td>0</td>\n",
              "      <td>False</td>\n",
              "      <td>False</td>\n",
              "      <td>0.0</td>\n",
              "      <td>1.0</td>\n",
              "      <td>0.0</td>\n",
              "      <td>0.0</td>\n",
              "      <td>0.0</td>\n",
              "    </tr>\n",
              "    <tr>\n",
              "      <th>3</th>\n",
              "      <td>1</td>\n",
              "      <td>True</td>\n",
              "      <td>False</td>\n",
              "      <td>1.0</td>\n",
              "      <td>0.0</td>\n",
              "      <td>0.0</td>\n",
              "      <td>0.0</td>\n",
              "      <td>0.0</td>\n",
              "    </tr>\n",
              "    <tr>\n",
              "      <th>4</th>\n",
              "      <td>1</td>\n",
              "      <td>True</td>\n",
              "      <td>False</td>\n",
              "      <td>1.0</td>\n",
              "      <td>0.0</td>\n",
              "      <td>0.0</td>\n",
              "      <td>0.0</td>\n",
              "      <td>0.0</td>\n",
              "    </tr>\n",
              "    <tr>\n",
              "      <th>6</th>\n",
              "      <td>0</td>\n",
              "      <td>True</td>\n",
              "      <td>False</td>\n",
              "      <td>0.0</td>\n",
              "      <td>1.0</td>\n",
              "      <td>0.0</td>\n",
              "      <td>0.0</td>\n",
              "      <td>0.0</td>\n",
              "    </tr>\n",
              "    <tr>\n",
              "      <th>7</th>\n",
              "      <td>1</td>\n",
              "      <td>False</td>\n",
              "      <td>False</td>\n",
              "      <td>1.0</td>\n",
              "      <td>0.0</td>\n",
              "      <td>0.0</td>\n",
              "      <td>0.0</td>\n",
              "      <td>0.0</td>\n",
              "    </tr>\n",
              "    <tr>\n",
              "      <th>...</th>\n",
              "      <td>...</td>\n",
              "      <td>...</td>\n",
              "      <td>...</td>\n",
              "      <td>...</td>\n",
              "      <td>...</td>\n",
              "      <td>...</td>\n",
              "      <td>...</td>\n",
              "      <td>...</td>\n",
              "    </tr>\n",
              "    <tr>\n",
              "      <th>1323389</th>\n",
              "      <td>0</td>\n",
              "      <td>True</td>\n",
              "      <td>True</td>\n",
              "      <td>0.0</td>\n",
              "      <td>1.0</td>\n",
              "      <td>0.0</td>\n",
              "      <td>0.0</td>\n",
              "      <td>0.0</td>\n",
              "    </tr>\n",
              "    <tr>\n",
              "      <th>1323391</th>\n",
              "      <td>1</td>\n",
              "      <td>True</td>\n",
              "      <td>False</td>\n",
              "      <td>1.0</td>\n",
              "      <td>0.0</td>\n",
              "      <td>0.0</td>\n",
              "      <td>0.0</td>\n",
              "      <td>0.0</td>\n",
              "    </tr>\n",
              "    <tr>\n",
              "      <th>1323392</th>\n",
              "      <td>1</td>\n",
              "      <td>True</td>\n",
              "      <td>False</td>\n",
              "      <td>1.0</td>\n",
              "      <td>0.0</td>\n",
              "      <td>0.0</td>\n",
              "      <td>0.0</td>\n",
              "      <td>0.0</td>\n",
              "    </tr>\n",
              "    <tr>\n",
              "      <th>1323393</th>\n",
              "      <td>1</td>\n",
              "      <td>False</td>\n",
              "      <td>False</td>\n",
              "      <td>1.0</td>\n",
              "      <td>0.0</td>\n",
              "      <td>0.0</td>\n",
              "      <td>0.0</td>\n",
              "      <td>0.0</td>\n",
              "    </tr>\n",
              "    <tr>\n",
              "      <th>1323394</th>\n",
              "      <td>0</td>\n",
              "      <td>True</td>\n",
              "      <td>False</td>\n",
              "      <td>0.0</td>\n",
              "      <td>1.0</td>\n",
              "      <td>0.0</td>\n",
              "      <td>0.0</td>\n",
              "      <td>0.0</td>\n",
              "    </tr>\n",
              "  </tbody>\n",
              "</table>\n",
              "<p>1104096 rows × 8 columns</p>\n",
              "</div>"
            ],
            "text/plain": [
              "         Cluster_hazardous  CLEAR_AIR_ACT_CHEMICAL  ...  MCAT_3  MCAT_4\n",
              "2                        0                   False  ...     0.0     0.0\n",
              "3                        1                    True  ...     0.0     0.0\n",
              "4                        1                    True  ...     0.0     0.0\n",
              "6                        0                    True  ...     0.0     0.0\n",
              "7                        1                   False  ...     0.0     0.0\n",
              "...                    ...                     ...  ...     ...     ...\n",
              "1323389                  0                    True  ...     0.0     0.0\n",
              "1323391                  1                    True  ...     0.0     0.0\n",
              "1323392                  1                    True  ...     0.0     0.0\n",
              "1323393                  1                   False  ...     0.0     0.0\n",
              "1323394                  0                    True  ...     0.0     0.0\n",
              "\n",
              "[1104096 rows x 8 columns]"
            ]
          },
          "metadata": {},
          "execution_count": 173
        }
      ]
    },
    {
      "cell_type": "code",
      "metadata": {
        "colab": {
          "base_uri": "https://localhost:8080/",
          "height": 726
        },
        "id": "BkM9hkyWxMuP",
        "outputId": "a689870d-431c-4757-9c92-b741a242c33d"
      },
      "source": [
        "corr = df2.corr(method='spearman')\n",
        "# Generate a mask for the upper triangle\n",
        "mask = np.zeros_like(corr, dtype=np.bool)\n",
        "mask[np.triu_indices_from(mask)] = True\n",
        "\n",
        "# Set up the matplotlib figure\n",
        "f, ax = plt.subplots(figsize=(12, 14))\n",
        "\n",
        "# Draw the heatmap with the mask and correct aspect ratio\n",
        "sns.heatmap(corr, mask=mask, cmap=\"YlGnBu\", vmax=.30, center=0,annot=True,\n",
        "            square=True, linewidths=.5, cbar_kws={\"shrink\": .5})"
      ],
      "execution_count": 174,
      "outputs": [
        {
          "output_type": "execute_result",
          "data": {
            "text/plain": [
              "<matplotlib.axes._subplots.AxesSubplot at 0x7fc9ff8a3c90>"
            ]
          },
          "metadata": {},
          "execution_count": 174
        },
        {
          "output_type": "display_data",
          "data": {
            "image/png": "[encoded data removed]",
            "text/plain": [
              "<Figure size 864x1008 with 2 Axes>"
            ]
          },
          "metadata": {
            "needs_background": "light"
          }
        }
      ]
    },
    {
      "cell_type": "code",
      "metadata": {
        "id": "ZopjyZSHA0Tj"
      },
      "source": [
        "df3=df2.copy()"
      ],
      "execution_count": 176,
      "outputs": []
    },
    {
      "cell_type": "code",
      "metadata": {
        "id": "PP6ScvyxsLRh"
      },
      "source": [
        "d = {0: 'Hazardous', 1: 'Non-Hazardous'}\n",
        "df3['Cluster_hazardous']=df3['Cluster_hazardous'].map(d)"
      ],
      "execution_count": 177,
      "outputs": []
    },
    {
      "cell_type": "code",
      "metadata": {
        "colab": {
          "base_uri": "https://localhost:8080/"
        },
        "id": "8m0GYsH87gA2",
        "outputId": "8cca5684-dc65-4759-d459-6f6d819edb3d"
      },
      "source": [
        "sum(df3['Cluster_hazardous'].isna() == True)"
      ],
      "execution_count": 178,
      "outputs": [
        {
          "output_type": "execute_result",
          "data": {
            "text/plain": [
              "0"
            ]
          },
          "metadata": {},
          "execution_count": 178
        }
      ]
    },
    {
      "cell_type": "code",
      "metadata": {
        "colab": {
          "base_uri": "https://localhost:8080/",
          "height": 424
        },
        "id": "ccAKOvEssg7Y",
        "outputId": "06d6c661-0245-4f40-ce65-9bb5bc3c2857"
      },
      "source": [
        "df3"
      ],
      "execution_count": 179,
      "outputs": [
        {
          "output_type": "execute_result",
          "data": {
            "text/html": [
              "<div>\n",
              "<style scoped>\n",
              "    .dataframe tbody tr th:only-of-type {\n",
              "        vertical-align: middle;\n",
              "    }\n",
              "\n",
              "    .dataframe tbody tr th {\n",
              "        vertical-align: top;\n",
              "    }\n",
              "\n",
              "    .dataframe thead th {\n",
              "        text-align: right;\n",
              "    }\n",
              "</style>\n",
              "<table border=\"1\" class=\"dataframe\">\n",
              "  <thead>\n",
              "    <tr style=\"text-align: right;\">\n",
              "      <th></th>\n",
              "      <th>Cluster_hazardous</th>\n",
              "      <th>CLEAR_AIR_ACT_CHEMICAL</th>\n",
              "      <th>CARCINOGEN</th>\n",
              "      <th>MCAT_0</th>\n",
              "      <th>MCAT_1</th>\n",
              "      <th>MCAT_2</th>\n",
              "      <th>MCAT_3</th>\n",
              "      <th>MCAT_4</th>\n",
              "    </tr>\n",
              "  </thead>\n",
              "  <tbody>\n",
              "    <tr>\n",
              "      <th>2</th>\n",
              "      <td>Hazardous</td>\n",
              "      <td>False</td>\n",
              "      <td>False</td>\n",
              "      <td>0.0</td>\n",
              "      <td>1.0</td>\n",
              "      <td>0.0</td>\n",
              "      <td>0.0</td>\n",
              "      <td>0.0</td>\n",
              "    </tr>\n",
              "    <tr>\n",
              "      <th>3</th>\n",
              "      <td>Non-Hazardous</td>\n",
              "      <td>True</td>\n",
              "      <td>False</td>\n",
              "      <td>1.0</td>\n",
              "      <td>0.0</td>\n",
              "      <td>0.0</td>\n",
              "      <td>0.0</td>\n",
              "      <td>0.0</td>\n",
              "    </tr>\n",
              "    <tr>\n",
              "      <th>4</th>\n",
              "      <td>Non-Hazardous</td>\n",
              "      <td>True</td>\n",
              "      <td>False</td>\n",
              "      <td>1.0</td>\n",
              "      <td>0.0</td>\n",
              "      <td>0.0</td>\n",
              "      <td>0.0</td>\n",
              "      <td>0.0</td>\n",
              "    </tr>\n",
              "    <tr>\n",
              "      <th>6</th>\n",
              "      <td>Hazardous</td>\n",
              "      <td>True</td>\n",
              "      <td>False</td>\n",
              "      <td>0.0</td>\n",
              "      <td>1.0</td>\n",
              "      <td>0.0</td>\n",
              "      <td>0.0</td>\n",
              "      <td>0.0</td>\n",
              "    </tr>\n",
              "    <tr>\n",
              "      <th>7</th>\n",
              "      <td>Non-Hazardous</td>\n",
              "      <td>False</td>\n",
              "      <td>False</td>\n",
              "      <td>1.0</td>\n",
              "      <td>0.0</td>\n",
              "      <td>0.0</td>\n",
              "      <td>0.0</td>\n",
              "      <td>0.0</td>\n",
              "    </tr>\n",
              "    <tr>\n",
              "      <th>...</th>\n",
              "      <td>...</td>\n",
              "      <td>...</td>\n",
              "      <td>...</td>\n",
              "      <td>...</td>\n",
              "      <td>...</td>\n",
              "      <td>...</td>\n",
              "      <td>...</td>\n",
              "      <td>...</td>\n",
              "    </tr>\n",
              "    <tr>\n",
              "      <th>1323389</th>\n",
              "      <td>Hazardous</td>\n",
              "      <td>True</td>\n",
              "      <td>True</td>\n",
              "      <td>0.0</td>\n",
              "      <td>1.0</td>\n",
              "      <td>0.0</td>\n",
              "      <td>0.0</td>\n",
              "      <td>0.0</td>\n",
              "    </tr>\n",
              "    <tr>\n",
              "      <th>1323391</th>\n",
              "      <td>Non-Hazardous</td>\n",
              "      <td>True</td>\n",
              "      <td>False</td>\n",
              "      <td>1.0</td>\n",
              "      <td>0.0</td>\n",
              "      <td>0.0</td>\n",
              "      <td>0.0</td>\n",
              "      <td>0.0</td>\n",
              "    </tr>\n",
              "    <tr>\n",
              "      <th>1323392</th>\n",
              "      <td>Non-Hazardous</td>\n",
              "      <td>True</td>\n",
              "      <td>False</td>\n",
              "      <td>1.0</td>\n",
              "      <td>0.0</td>\n",
              "      <td>0.0</td>\n",
              "      <td>0.0</td>\n",
              "      <td>0.0</td>\n",
              "    </tr>\n",
              "    <tr>\n",
              "      <th>1323393</th>\n",
              "      <td>Non-Hazardous</td>\n",
              "      <td>False</td>\n",
              "      <td>False</td>\n",
              "      <td>1.0</td>\n",
              "      <td>0.0</td>\n",
              "      <td>0.0</td>\n",
              "      <td>0.0</td>\n",
              "      <td>0.0</td>\n",
              "    </tr>\n",
              "    <tr>\n",
              "      <th>1323394</th>\n",
              "      <td>Hazardous</td>\n",
              "      <td>True</td>\n",
              "      <td>False</td>\n",
              "      <td>0.0</td>\n",
              "      <td>1.0</td>\n",
              "      <td>0.0</td>\n",
              "      <td>0.0</td>\n",
              "      <td>0.0</td>\n",
              "    </tr>\n",
              "  </tbody>\n",
              "</table>\n",
              "<p>1104096 rows × 8 columns</p>\n",
              "</div>"
            ],
            "text/plain": [
              "        Cluster_hazardous  CLEAR_AIR_ACT_CHEMICAL  ...  MCAT_3  MCAT_4\n",
              "2               Hazardous                   False  ...     0.0     0.0\n",
              "3           Non-Hazardous                    True  ...     0.0     0.0\n",
              "4           Non-Hazardous                    True  ...     0.0     0.0\n",
              "6               Hazardous                    True  ...     0.0     0.0\n",
              "7           Non-Hazardous                   False  ...     0.0     0.0\n",
              "...                   ...                     ...  ...     ...     ...\n",
              "1323389         Hazardous                    True  ...     0.0     0.0\n",
              "1323391     Non-Hazardous                    True  ...     0.0     0.0\n",
              "1323392     Non-Hazardous                    True  ...     0.0     0.0\n",
              "1323393     Non-Hazardous                   False  ...     0.0     0.0\n",
              "1323394         Hazardous                    True  ...     0.0     0.0\n",
              "\n",
              "[1104096 rows x 8 columns]"
            ]
          },
          "metadata": {},
          "execution_count": 179
        }
      ]
    },
    {
      "cell_type": "code",
      "metadata": {
        "colab": {
          "base_uri": "https://localhost:8080/"
        },
        "id": "lVvPjjOZuCrl",
        "outputId": "25eb9c5d-db85-44d9-9b16-21f1cecd86ec"
      },
      "source": [
        "group_by_year = df3.groupby(['Cluster_hazardous'])\n",
        "group_by_year.size()\n"
      ],
      "execution_count": 184,
      "outputs": [
        {
          "output_type": "execute_result",
          "data": {
            "text/plain": [
              "Cluster_hazardous\n",
              "Hazardous        439746\n",
              "Non-Hazardous    664350\n",
              "dtype: int64"
            ]
          },
          "metadata": {},
          "execution_count": 184
        }
      ]
    },
    {
      "cell_type": "code",
      "metadata": {
        "colab": {
          "base_uri": "https://localhost:8080/",
          "height": 424
        },
        "id": "9TAjR0-fBOLq",
        "outputId": "3aa13fe7-b4d9-4690-fe85-5e91210859a7"
      },
      "source": [
        "df3"
      ],
      "execution_count": 185,
      "outputs": [
        {
          "output_type": "execute_result",
          "data": {
            "text/html": [
              "<div>\n",
              "<style scoped>\n",
              "    .dataframe tbody tr th:only-of-type {\n",
              "        vertical-align: middle;\n",
              "    }\n",
              "\n",
              "    .dataframe tbody tr th {\n",
              "        vertical-align: top;\n",
              "    }\n",
              "\n",
              "    .dataframe thead th {\n",
              "        text-align: right;\n",
              "    }\n",
              "</style>\n",
              "<table border=\"1\" class=\"dataframe\">\n",
              "  <thead>\n",
              "    <tr style=\"text-align: right;\">\n",
              "      <th></th>\n",
              "      <th>Cluster_hazardous</th>\n",
              "      <th>CLEAR_AIR_ACT_CHEMICAL</th>\n",
              "      <th>CARCINOGEN</th>\n",
              "      <th>MCAT_0</th>\n",
              "      <th>MCAT_1</th>\n",
              "      <th>MCAT_2</th>\n",
              "      <th>MCAT_3</th>\n",
              "      <th>MCAT_4</th>\n",
              "    </tr>\n",
              "  </thead>\n",
              "  <tbody>\n",
              "    <tr>\n",
              "      <th>2</th>\n",
              "      <td>Hazardous</td>\n",
              "      <td>False</td>\n",
              "      <td>False</td>\n",
              "      <td>0.0</td>\n",
              "      <td>1.0</td>\n",
              "      <td>0.0</td>\n",
              "      <td>0.0</td>\n",
              "      <td>0.0</td>\n",
              "    </tr>\n",
              "    <tr>\n",
              "      <th>3</th>\n",
              "      <td>Non-Hazardous</td>\n",
              "      <td>True</td>\n",
              "      <td>False</td>\n",
              "      <td>1.0</td>\n",
              "      <td>0.0</td>\n",
              "      <td>0.0</td>\n",
              "      <td>0.0</td>\n",
              "      <td>0.0</td>\n",
              "    </tr>\n",
              "    <tr>\n",
              "      <th>4</th>\n",
              "      <td>Non-Hazardous</td>\n",
              "      <td>True</td>\n",
              "      <td>False</td>\n",
              "      <td>1.0</td>\n",
              "      <td>0.0</td>\n",
              "      <td>0.0</td>\n",
              "      <td>0.0</td>\n",
              "      <td>0.0</td>\n",
              "    </tr>\n",
              "    <tr>\n",
              "      <th>6</th>\n",
              "      <td>Hazardous</td>\n",
              "      <td>True</td>\n",
              "      <td>False</td>\n",
              "      <td>0.0</td>\n",
              "      <td>1.0</td>\n",
              "      <td>0.0</td>\n",
              "      <td>0.0</td>\n",
              "      <td>0.0</td>\n",
              "    </tr>\n",
              "    <tr>\n",
              "      <th>7</th>\n",
              "      <td>Non-Hazardous</td>\n",
              "      <td>False</td>\n",
              "      <td>False</td>\n",
              "      <td>1.0</td>\n",
              "      <td>0.0</td>\n",
              "      <td>0.0</td>\n",
              "      <td>0.0</td>\n",
              "      <td>0.0</td>\n",
              "    </tr>\n",
              "    <tr>\n",
              "      <th>...</th>\n",
              "      <td>...</td>\n",
              "      <td>...</td>\n",
              "      <td>...</td>\n",
              "      <td>...</td>\n",
              "      <td>...</td>\n",
              "      <td>...</td>\n",
              "      <td>...</td>\n",
              "      <td>...</td>\n",
              "    </tr>\n",
              "    <tr>\n",
              "      <th>1323389</th>\n",
              "      <td>Hazardous</td>\n",
              "      <td>True</td>\n",
              "      <td>True</td>\n",
              "      <td>0.0</td>\n",
              "      <td>1.0</td>\n",
              "      <td>0.0</td>\n",
              "      <td>0.0</td>\n",
              "      <td>0.0</td>\n",
              "    </tr>\n",
              "    <tr>\n",
              "      <th>1323391</th>\n",
              "      <td>Non-Hazardous</td>\n",
              "      <td>True</td>\n",
              "      <td>False</td>\n",
              "      <td>1.0</td>\n",
              "      <td>0.0</td>\n",
              "      <td>0.0</td>\n",
              "      <td>0.0</td>\n",
              "      <td>0.0</td>\n",
              "    </tr>\n",
              "    <tr>\n",
              "      <th>1323392</th>\n",
              "      <td>Non-Hazardous</td>\n",
              "      <td>True</td>\n",
              "      <td>False</td>\n",
              "      <td>1.0</td>\n",
              "      <td>0.0</td>\n",
              "      <td>0.0</td>\n",
              "      <td>0.0</td>\n",
              "      <td>0.0</td>\n",
              "    </tr>\n",
              "    <tr>\n",
              "      <th>1323393</th>\n",
              "      <td>Non-Hazardous</td>\n",
              "      <td>False</td>\n",
              "      <td>False</td>\n",
              "      <td>1.0</td>\n",
              "      <td>0.0</td>\n",
              "      <td>0.0</td>\n",
              "      <td>0.0</td>\n",
              "      <td>0.0</td>\n",
              "    </tr>\n",
              "    <tr>\n",
              "      <th>1323394</th>\n",
              "      <td>Hazardous</td>\n",
              "      <td>True</td>\n",
              "      <td>False</td>\n",
              "      <td>0.0</td>\n",
              "      <td>1.0</td>\n",
              "      <td>0.0</td>\n",
              "      <td>0.0</td>\n",
              "      <td>0.0</td>\n",
              "    </tr>\n",
              "  </tbody>\n",
              "</table>\n",
              "<p>1104096 rows × 8 columns</p>\n",
              "</div>"
            ],
            "text/plain": [
              "        Cluster_hazardous  CLEAR_AIR_ACT_CHEMICAL  ...  MCAT_3  MCAT_4\n",
              "2               Hazardous                   False  ...     0.0     0.0\n",
              "3           Non-Hazardous                    True  ...     0.0     0.0\n",
              "4           Non-Hazardous                    True  ...     0.0     0.0\n",
              "6               Hazardous                    True  ...     0.0     0.0\n",
              "7           Non-Hazardous                   False  ...     0.0     0.0\n",
              "...                   ...                     ...  ...     ...     ...\n",
              "1323389         Hazardous                    True  ...     0.0     0.0\n",
              "1323391     Non-Hazardous                    True  ...     0.0     0.0\n",
              "1323392     Non-Hazardous                    True  ...     0.0     0.0\n",
              "1323393     Non-Hazardous                   False  ...     0.0     0.0\n",
              "1323394         Hazardous                    True  ...     0.0     0.0\n",
              "\n",
              "[1104096 rows x 8 columns]"
            ]
          },
          "metadata": {},
          "execution_count": 185
        }
      ]
    },
    {
      "cell_type": "code",
      "metadata": {
        "colab": {
          "base_uri": "https://localhost:8080/",
          "height": 349
        },
        "id": "vJUJ4wxOrohq",
        "outputId": "0af59ce5-a2a6-413a-e605-929e39bea9de"
      },
      "source": [
        "df3.Cluster_hazardous.value_counts().plot.bar()\n"
      ],
      "execution_count": 183,
      "outputs": [
        {
          "output_type": "execute_result",
          "data": {
            "text/plain": [
              "<matplotlib.axes._subplots.AxesSubplot at 0x7fc9f4ddb090>"
            ]
          },
          "metadata": {},
          "execution_count": 183
        },
        {
          "output_type": "display_data",
          "data": {
            "image/png": "[encoded data removed]",
            "text/plain": [
              "<Figure size 432x288 with 1 Axes>"
            ]
          },
          "metadata": {
            "needs_background": "light"
          }
        }
      ]
    },
    {
      "cell_type": "code",
      "metadata": {
        "id": "MQq-1mYkvkLa"
      },
      "source": [
        "x =df2[\"CLEAR_AIR_ACT_CHEMICAL\"]\n",
        "#y =df_2[\"Cluster_hazardous\"]\n",
        "z =df2[\"CARCINOGEN\"]"
      ],
      "execution_count": 186,
      "outputs": []
    },
    {
      "cell_type": "markdown",
      "metadata": {
        "id": "9IgOe2eCKo_R"
      },
      "source": [
        "https://www.analyticsvidhya.com/blog/2021/06/kmodes-clustering-algorithm-for-categorical-data/\n",
        "\n",
        "https://datascience.stackexchange.com/questions/19925/what-are-the-most-suitable-machine-learning-algorithms-according-to-type-of-data\n",
        "\n",
        "https://www.kaggle.com/karnikakapoor/customer-segmentation-clustering"
      ]
    },
    {
      "cell_type": "markdown",
      "metadata": {
        "id": "1mZVd5fYGar0"
      },
      "source": [
        "there are many factors on the basis of which the final classification will be done. These factors are basically attributes or features. The higher the number of features, the harder it is to work with it. Many of these features are correlated, and hence redundant. This is why I will be performing dimensionality reduction on the selected features before putting them through a classifier.\n",
        "Dimensionality reduction is the process of reducing the number of random variables under consideration, by obtaining a set of principal variables."
      ]
    },
    {
      "cell_type": "code",
      "metadata": {
        "id": "Uwr6yqkzGo_F"
      },
      "source": [
        "#A 3D Projection Of Data In The Reduced Dimension\n",
        "\n",
        "#To plot\n",
        "# fig = plt.figure(figsize=(10,8))\n",
        "# ax = fig.add_subplot(111, projection=\"3d\")\n",
        "# ax.scatter(x,y,z, c=\"maroon\", marker=\"o\" )\n",
        "# ax.set_title(\"A 3D Projection Of Data In The Reduced Dimension\")\n",
        "# plt.show()"
      ],
      "execution_count": null,
      "outputs": []
    },
    {
      "cell_type": "code",
      "metadata": {
        "id": "R-bVT5dPDBGm"
      },
      "source": [
        "index_values = df2.index\n",
        "df = pd.concat([df, df3['Cluster_hazardous']], axis=1).reindex(df.index)\n"
      ],
      "execution_count": 191,
      "outputs": []
    },
    {
      "cell_type": "code",
      "metadata": {
        "colab": {
          "base_uri": "https://localhost:8080/",
          "height": 756
        },
        "id": "ji6kxThwGZAl",
        "outputId": "19ca3427-754a-4d6b-974d-3488cd123ba5"
      },
      "source": [
        "df"
      ],
      "execution_count": 194,
      "outputs": [
        {
          "output_type": "execute_result",
          "data": {
            "text/html": [
              "<div>\n",
              "<style scoped>\n",
              "    .dataframe tbody tr th:only-of-type {\n",
              "        vertical-align: middle;\n",
              "    }\n",
              "\n",
              "    .dataframe tbody tr th {\n",
              "        vertical-align: top;\n",
              "    }\n",
              "\n",
              "    .dataframe thead th {\n",
              "        text-align: right;\n",
              "    }\n",
              "</style>\n",
              "<table border=\"1\" class=\"dataframe\">\n",
              "  <thead>\n",
              "    <tr style=\"text-align: right;\">\n",
              "      <th></th>\n",
              "      <th>YEAR</th>\n",
              "      <th>TRI_FACILITY_ID</th>\n",
              "      <th>FACILITY_NAME</th>\n",
              "      <th>ST</th>\n",
              "      <th>LATITUDE</th>\n",
              "      <th>LONGITUDE</th>\n",
              "      <th>FEDERAL_FACILITY</th>\n",
              "      <th>INDUSTRY_SECTOR</th>\n",
              "      <th>CHEMICAL</th>\n",
              "      <th>CAS_#/COMPOUND_ID</th>\n",
              "      <th>CLEAR_AIR_ACT_CHEMICAL</th>\n",
              "      <th>CLASSIFICATION</th>\n",
              "      <th>METAL</th>\n",
              "      <th>METAL_CATEGORY</th>\n",
              "      <th>CARCINOGEN</th>\n",
              "      <th>5.1_FUGITIVE_AIR</th>\n",
              "      <th>5.2_STACK_AIR</th>\n",
              "      <th>5.3_WATER</th>\n",
              "      <th>5.4_UNDERGROUND</th>\n",
              "      <th>5.5.1_LANDFILLS</th>\n",
              "      <th>5.5.2_LAND_TREATMENT</th>\n",
              "      <th>5.5.3_SURFACE_IMPOUNDMENT</th>\n",
              "      <th>5.5.4_OTHER_DISPOSAL</th>\n",
              "      <th>ON-SITE_RELEASE_TOTAL</th>\n",
              "      <th>OFF-SITE_RELEASE_TOTAL</th>\n",
              "      <th>OFF-SITE_RECOVERY_TOTAL</th>\n",
              "      <th>OFF-SITE_TREATED_TOTAL</th>\n",
              "      <th>TOTAL_RELEASES</th>\n",
              "      <th>8.4_RECYCLING_ON-SITE</th>\n",
              "      <th>8.5_RECYCLING_OFF-SITE</th>\n",
              "      <th>8.6_TREATMENT_ON-SITE</th>\n",
              "      <th>8.7_TREATMENT_OFF-SITE</th>\n",
              "      <th>PROD._WASTE_(8.1_THRU_8.7)</th>\n",
              "      <th>PARENT_COMPANY_NAME</th>\n",
              "      <th>Cluster_hazardous</th>\n",
              "    </tr>\n",
              "  </thead>\n",
              "  <tbody>\n",
              "    <tr>\n",
              "      <th>2</th>\n",
              "      <td>2016</td>\n",
              "      <td>44691CRGLL1203T</td>\n",
              "      <td>CARGILL ANIMAL NUTRITION</td>\n",
              "      <td>OH</td>\n",
              "      <td>40.784710</td>\n",
              "      <td>-81.939580</td>\n",
              "      <td>False</td>\n",
              "      <td>Food</td>\n",
              "      <td>ZINC COMPOUNDS</td>\n",
              "      <td>N982</td>\n",
              "      <td>False</td>\n",
              "      <td>TRI</td>\n",
              "      <td>True</td>\n",
              "      <td>1</td>\n",
              "      <td>False</td>\n",
              "      <td>0</td>\n",
              "      <td>0</td>\n",
              "      <td>0</td>\n",
              "      <td>0</td>\n",
              "      <td>0</td>\n",
              "      <td>0</td>\n",
              "      <td>0</td>\n",
              "      <td>0</td>\n",
              "      <td>0</td>\n",
              "      <td>0</td>\n",
              "      <td>0</td>\n",
              "      <td>0</td>\n",
              "      <td>0</td>\n",
              "      <td>0</td>\n",
              "      <td>0</td>\n",
              "      <td>0</td>\n",
              "      <td>0</td>\n",
              "      <td>0</td>\n",
              "      <td>CARGILL INC</td>\n",
              "      <td>Hazardous</td>\n",
              "    </tr>\n",
              "    <tr>\n",
              "      <th>3</th>\n",
              "      <td>2016</td>\n",
              "      <td>02745CSHNT215DU</td>\n",
              "      <td>ACUSHNET CO BALL PLANT III</td>\n",
              "      <td>MA</td>\n",
              "      <td>41.725430</td>\n",
              "      <td>-70.955170</td>\n",
              "      <td>False</td>\n",
              "      <td>Miscellaneous Manufacturing</td>\n",
              "      <td>DIISOCYANATES</td>\n",
              "      <td>N120</td>\n",
              "      <td>True</td>\n",
              "      <td>TRI</td>\n",
              "      <td>False</td>\n",
              "      <td>0</td>\n",
              "      <td>False</td>\n",
              "      <td>0</td>\n",
              "      <td>0</td>\n",
              "      <td>0</td>\n",
              "      <td>0</td>\n",
              "      <td>0</td>\n",
              "      <td>0</td>\n",
              "      <td>0</td>\n",
              "      <td>0</td>\n",
              "      <td>0</td>\n",
              "      <td>0</td>\n",
              "      <td>2191</td>\n",
              "      <td>106</td>\n",
              "      <td>0</td>\n",
              "      <td>0</td>\n",
              "      <td>0</td>\n",
              "      <td>0</td>\n",
              "      <td>106</td>\n",
              "      <td>2297</td>\n",
              "      <td>ACUSHNET HOLDINGS CORP</td>\n",
              "      <td>Non-Hazardous</td>\n",
              "    </tr>\n",
              "    <tr>\n",
              "      <th>4</th>\n",
              "      <td>2016</td>\n",
              "      <td>30050CLRXC17LAK</td>\n",
              "      <td>CLOROX PRODUCTS MANUFACTURING CO</td>\n",
              "      <td>GA</td>\n",
              "      <td>33.627222</td>\n",
              "      <td>-84.386839</td>\n",
              "      <td>False</td>\n",
              "      <td>Chemicals</td>\n",
              "      <td>CERTAIN GLYCOL ETHERS</td>\n",
              "      <td>N230</td>\n",
              "      <td>True</td>\n",
              "      <td>TRI</td>\n",
              "      <td>False</td>\n",
              "      <td>0</td>\n",
              "      <td>False</td>\n",
              "      <td>5</td>\n",
              "      <td>5</td>\n",
              "      <td>0</td>\n",
              "      <td>0</td>\n",
              "      <td>0</td>\n",
              "      <td>0</td>\n",
              "      <td>0</td>\n",
              "      <td>0</td>\n",
              "      <td>10</td>\n",
              "      <td>20</td>\n",
              "      <td>0</td>\n",
              "      <td>230</td>\n",
              "      <td>50</td>\n",
              "      <td>0</td>\n",
              "      <td>0</td>\n",
              "      <td>0</td>\n",
              "      <td>230</td>\n",
              "      <td>260</td>\n",
              "      <td>THE CLOROX CO</td>\n",
              "      <td>Non-Hazardous</td>\n",
              "    </tr>\n",
              "    <tr>\n",
              "      <th>6</th>\n",
              "      <td>2016</td>\n",
              "      <td>48211CDLLC2500E</td>\n",
              "      <td>GENERAL MOTORS GM VA  DETROIT-HAMTRAMCK ASSEMB...</td>\n",
              "      <td>MI</td>\n",
              "      <td>42.381971</td>\n",
              "      <td>-83.044919</td>\n",
              "      <td>False</td>\n",
              "      <td>Transportation Equipment</td>\n",
              "      <td>NICKEL COMPOUNDS</td>\n",
              "      <td>N495</td>\n",
              "      <td>True</td>\n",
              "      <td>TRI</td>\n",
              "      <td>True</td>\n",
              "      <td>1</td>\n",
              "      <td>False</td>\n",
              "      <td>0</td>\n",
              "      <td>1</td>\n",
              "      <td>0</td>\n",
              "      <td>0</td>\n",
              "      <td>0</td>\n",
              "      <td>0</td>\n",
              "      <td>0</td>\n",
              "      <td>0</td>\n",
              "      <td>1</td>\n",
              "      <td>1080</td>\n",
              "      <td>0</td>\n",
              "      <td>0</td>\n",
              "      <td>1601</td>\n",
              "      <td>0</td>\n",
              "      <td>0</td>\n",
              "      <td>0</td>\n",
              "      <td>0</td>\n",
              "      <td>1081</td>\n",
              "      <td>GENERAL MOTORS LLC</td>\n",
              "      <td>Hazardous</td>\n",
              "    </tr>\n",
              "    <tr>\n",
              "      <th>7</th>\n",
              "      <td>2016</td>\n",
              "      <td>35064HNNST3812C</td>\n",
              "      <td>HANNA STEEL CORP</td>\n",
              "      <td>AL</td>\n",
              "      <td>33.497505</td>\n",
              "      <td>-86.911426</td>\n",
              "      <td>False</td>\n",
              "      <td>Fabricated Metals</td>\n",
              "      <td>1,2,4-TRIMETHYLBENZENE</td>\n",
              "      <td>000095636</td>\n",
              "      <td>False</td>\n",
              "      <td>TRI</td>\n",
              "      <td>False</td>\n",
              "      <td>0</td>\n",
              "      <td>False</td>\n",
              "      <td>233</td>\n",
              "      <td>222</td>\n",
              "      <td>0</td>\n",
              "      <td>0</td>\n",
              "      <td>0</td>\n",
              "      <td>0</td>\n",
              "      <td>0</td>\n",
              "      <td>0</td>\n",
              "      <td>455</td>\n",
              "      <td>28</td>\n",
              "      <td>5326</td>\n",
              "      <td>0</td>\n",
              "      <td>483</td>\n",
              "      <td>0</td>\n",
              "      <td>0</td>\n",
              "      <td>4208</td>\n",
              "      <td>0</td>\n",
              "      <td>10017</td>\n",
              "      <td>HANNA STEEL CORP</td>\n",
              "      <td>Non-Hazardous</td>\n",
              "    </tr>\n",
              "    <tr>\n",
              "      <th>...</th>\n",
              "      <td>...</td>\n",
              "      <td>...</td>\n",
              "      <td>...</td>\n",
              "      <td>...</td>\n",
              "      <td>...</td>\n",
              "      <td>...</td>\n",
              "      <td>...</td>\n",
              "      <td>...</td>\n",
              "      <td>...</td>\n",
              "      <td>...</td>\n",
              "      <td>...</td>\n",
              "      <td>...</td>\n",
              "      <td>...</td>\n",
              "      <td>...</td>\n",
              "      <td>...</td>\n",
              "      <td>...</td>\n",
              "      <td>...</td>\n",
              "      <td>...</td>\n",
              "      <td>...</td>\n",
              "      <td>...</td>\n",
              "      <td>...</td>\n",
              "      <td>...</td>\n",
              "      <td>...</td>\n",
              "      <td>...</td>\n",
              "      <td>...</td>\n",
              "      <td>...</td>\n",
              "      <td>...</td>\n",
              "      <td>...</td>\n",
              "      <td>...</td>\n",
              "      <td>...</td>\n",
              "      <td>...</td>\n",
              "      <td>...</td>\n",
              "      <td>...</td>\n",
              "      <td>...</td>\n",
              "      <td>...</td>\n",
              "    </tr>\n",
              "    <tr>\n",
              "      <th>1323389</th>\n",
              "      <td>2007</td>\n",
              "      <td>01810RYTHN350LO</td>\n",
              "      <td>RAYTHEON CO</td>\n",
              "      <td>MA</td>\n",
              "      <td>42.643850</td>\n",
              "      <td>-71.190170</td>\n",
              "      <td>False</td>\n",
              "      <td>Transportation Equipment</td>\n",
              "      <td>LEAD</td>\n",
              "      <td>007439921</td>\n",
              "      <td>True</td>\n",
              "      <td>PBT</td>\n",
              "      <td>True</td>\n",
              "      <td>1</td>\n",
              "      <td>True</td>\n",
              "      <td>0</td>\n",
              "      <td>0</td>\n",
              "      <td>0</td>\n",
              "      <td>0</td>\n",
              "      <td>0</td>\n",
              "      <td>0</td>\n",
              "      <td>0</td>\n",
              "      <td>0</td>\n",
              "      <td>0</td>\n",
              "      <td>0</td>\n",
              "      <td>0</td>\n",
              "      <td>0</td>\n",
              "      <td>0</td>\n",
              "      <td>0</td>\n",
              "      <td>4875</td>\n",
              "      <td>0</td>\n",
              "      <td>0</td>\n",
              "      <td>4875</td>\n",
              "      <td>RAYTHEON CO</td>\n",
              "      <td>Hazardous</td>\n",
              "    </tr>\n",
              "    <tr>\n",
              "      <th>1323391</th>\n",
              "      <td>2007</td>\n",
              "      <td>17566BCKCXBOX23</td>\n",
              "      <td>BUCK CO INC</td>\n",
              "      <td>PA</td>\n",
              "      <td>39.881910</td>\n",
              "      <td>-76.231750</td>\n",
              "      <td>False</td>\n",
              "      <td>Primary Metals</td>\n",
              "      <td>TRIETHYLAMINE</td>\n",
              "      <td>000121448</td>\n",
              "      <td>True</td>\n",
              "      <td>TRI</td>\n",
              "      <td>False</td>\n",
              "      <td>0</td>\n",
              "      <td>False</td>\n",
              "      <td>43</td>\n",
              "      <td>18</td>\n",
              "      <td>0</td>\n",
              "      <td>0</td>\n",
              "      <td>0</td>\n",
              "      <td>0</td>\n",
              "      <td>0</td>\n",
              "      <td>0</td>\n",
              "      <td>61</td>\n",
              "      <td>0</td>\n",
              "      <td>0</td>\n",
              "      <td>0</td>\n",
              "      <td>61</td>\n",
              "      <td>0</td>\n",
              "      <td>0</td>\n",
              "      <td>0</td>\n",
              "      <td>0</td>\n",
              "      <td>61</td>\n",
              "      <td>DIXON VALVE &amp; COUPLING CO</td>\n",
              "      <td>Non-Hazardous</td>\n",
              "    </tr>\n",
              "    <tr>\n",
              "      <th>1323392</th>\n",
              "      <td>2007</td>\n",
              "      <td>22801STRYS500PL</td>\n",
              "      <td>AIRDYE SOLUTIONS LLC</td>\n",
              "      <td>VA</td>\n",
              "      <td>38.391180</td>\n",
              "      <td>-78.900160</td>\n",
              "      <td>False</td>\n",
              "      <td>Printing</td>\n",
              "      <td>METHANOL</td>\n",
              "      <td>000067561</td>\n",
              "      <td>True</td>\n",
              "      <td>TRI</td>\n",
              "      <td>False</td>\n",
              "      <td>0</td>\n",
              "      <td>False</td>\n",
              "      <td>60</td>\n",
              "      <td>660</td>\n",
              "      <td>0</td>\n",
              "      <td>0</td>\n",
              "      <td>0</td>\n",
              "      <td>0</td>\n",
              "      <td>0</td>\n",
              "      <td>0</td>\n",
              "      <td>720</td>\n",
              "      <td>0</td>\n",
              "      <td>5280</td>\n",
              "      <td>0</td>\n",
              "      <td>720</td>\n",
              "      <td>48000</td>\n",
              "      <td>0</td>\n",
              "      <td>36760</td>\n",
              "      <td>0</td>\n",
              "      <td>90760</td>\n",
              "      <td>AIRDYE HOLDINGS LLC</td>\n",
              "      <td>Non-Hazardous</td>\n",
              "    </tr>\n",
              "    <tr>\n",
              "      <th>1323393</th>\n",
              "      <td>2007</td>\n",
              "      <td>03062TRDYN4PITT</td>\n",
              "      <td>AMPHENOL APC INC</td>\n",
              "      <td>NH</td>\n",
              "      <td>42.738005</td>\n",
              "      <td>-71.489815</td>\n",
              "      <td>False</td>\n",
              "      <td>Computers and Electronic Products</td>\n",
              "      <td>FORMIC ACID</td>\n",
              "      <td>000064186</td>\n",
              "      <td>False</td>\n",
              "      <td>TRI</td>\n",
              "      <td>False</td>\n",
              "      <td>0</td>\n",
              "      <td>False</td>\n",
              "      <td>5</td>\n",
              "      <td>9.98</td>\n",
              "      <td>0</td>\n",
              "      <td>0</td>\n",
              "      <td>0</td>\n",
              "      <td>0</td>\n",
              "      <td>0</td>\n",
              "      <td>0</td>\n",
              "      <td>14.98</td>\n",
              "      <td>0</td>\n",
              "      <td>0</td>\n",
              "      <td>0</td>\n",
              "      <td>14.98</td>\n",
              "      <td>0</td>\n",
              "      <td>0</td>\n",
              "      <td>2814.04</td>\n",
              "      <td>0</td>\n",
              "      <td>2829.02</td>\n",
              "      <td>AMPHENOL CORP</td>\n",
              "      <td>Non-Hazardous</td>\n",
              "    </tr>\n",
              "    <tr>\n",
              "      <th>1323394</th>\n",
              "      <td>2007</td>\n",
              "      <td>64120HWTHR8700H</td>\n",
              "      <td>HAWTHORN GENERATING FACILITY</td>\n",
              "      <td>MO</td>\n",
              "      <td>39.130833</td>\n",
              "      <td>-94.477778</td>\n",
              "      <td>False</td>\n",
              "      <td>Electric Utilities</td>\n",
              "      <td>MERCURY COMPOUNDS</td>\n",
              "      <td>N458</td>\n",
              "      <td>True</td>\n",
              "      <td>PBT</td>\n",
              "      <td>True</td>\n",
              "      <td>1</td>\n",
              "      <td>False</td>\n",
              "      <td>0</td>\n",
              "      <td>60</td>\n",
              "      <td>0</td>\n",
              "      <td>0</td>\n",
              "      <td>0</td>\n",
              "      <td>0</td>\n",
              "      <td>0</td>\n",
              "      <td>0</td>\n",
              "      <td>71</td>\n",
              "      <td>0</td>\n",
              "      <td>0</td>\n",
              "      <td>0</td>\n",
              "      <td>71</td>\n",
              "      <td>0</td>\n",
              "      <td>0</td>\n",
              "      <td>0</td>\n",
              "      <td>0</td>\n",
              "      <td>71</td>\n",
              "      <td>GREAT PLAINS ENERGY INC</td>\n",
              "      <td>Hazardous</td>\n",
              "    </tr>\n",
              "  </tbody>\n",
              "</table>\n",
              "<p>1104096 rows × 35 columns</p>\n",
              "</div>"
            ],
            "text/plain": [
              "         YEAR  TRI_FACILITY_ID  ...        PARENT_COMPANY_NAME Cluster_hazardous\n",
              "2        2016  44691CRGLL1203T  ...                CARGILL INC         Hazardous\n",
              "3        2016  02745CSHNT215DU  ...     ACUSHNET HOLDINGS CORP     Non-Hazardous\n",
              "4        2016  30050CLRXC17LAK  ...              THE CLOROX CO     Non-Hazardous\n",
              "6        2016  48211CDLLC2500E  ...         GENERAL MOTORS LLC         Hazardous\n",
              "7        2016  35064HNNST3812C  ...           HANNA STEEL CORP     Non-Hazardous\n",
              "...       ...              ...  ...                        ...               ...\n",
              "1323389  2007  01810RYTHN350LO  ...                RAYTHEON CO         Hazardous\n",
              "1323391  2007  17566BCKCXBOX23  ...  DIXON VALVE & COUPLING CO     Non-Hazardous\n",
              "1323392  2007  22801STRYS500PL  ...        AIRDYE HOLDINGS LLC     Non-Hazardous\n",
              "1323393  2007  03062TRDYN4PITT  ...              AMPHENOL CORP     Non-Hazardous\n",
              "1323394  2007  64120HWTHR8700H  ...    GREAT PLAINS ENERGY INC         Hazardous\n",
              "\n",
              "[1104096 rows x 35 columns]"
            ]
          },
          "metadata": {},
          "execution_count": 194
        }
      ]
    },
    {
      "cell_type": "code",
      "metadata": {
        "id": "9H5qgkDtGoJr"
      },
      "source": [
        "df.to_csv(\"Cleaned_TRI.csv\")\n"
      ],
      "execution_count": 196,
      "outputs": []
    }
  ]
}
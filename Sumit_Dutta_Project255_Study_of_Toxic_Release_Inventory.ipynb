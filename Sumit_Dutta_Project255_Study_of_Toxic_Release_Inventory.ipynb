{
  "nbformat": 4,
  "nbformat_minor": 0,
  "metadata": {
    "colab": {
      "name": "Sumit Dutta_Project255_Study of Toxic Release Inventory.ipynb",
      "provenance": [],
      "collapsed_sections": [],
      "authorship_tag": "ABX9TyM3RYbGUBwnvrBzBfyH+m0O",
      "include_colab_link": true
    },
    "kernelspec": {
      "name": "python3",
      "display_name": "Python 3"
    },
    "language_info": {
      "name": "python"
    }
  },
  "cells": [
    {
      "cell_type": "markdown",
      "metadata": {
        "id": "view-in-github",
        "colab_type": "text"
      },
      "source": [
        "<a href=\"https://colab.research.google.com/github/vinayakkini101/study-of-toxic-release-inventory/blob/Sumit_Dev/Sumit_Dutta_Project255_Study_of_Toxic_Release_Inventory.ipynb\" target=\"_parent\"><img src=\"https://colab.research.google.com/assets/colab-badge.svg\" alt=\"Open In Colab\"/></a>"
      ]
    },
    {
      "cell_type": "markdown",
      "metadata": {
        "id": "9e5Y0jTTwqth"
      },
      "source": [
        "**CMPE 255: DATA MINING: FALL 2021**"
      ]
    },
    {
      "cell_type": "markdown",
      "metadata": {
        "id": "QmWJBfREwyg1"
      },
      "source": [
        "**A PROJECT ON STUDY OF TOXIC RELEASE INVENTORY**"
      ]
    },
    {
      "cell_type": "markdown",
      "metadata": {
        "id": "02Z78ehqwZja"
      },
      "source": [
        " **NAME: SUMIT DUTTA**\n",
        "\n",
        "\n"
      ]
    },
    {
      "cell_type": "markdown",
      "metadata": {
        "id": "dQiuTZCrwnNh"
      },
      "source": [
        "**SID: 015222493**"
      ]
    },
    {
      "cell_type": "markdown",
      "metadata": {
        "id": "NfZpYScnGch5"
      },
      "source": [
        "**Command to mount into Drive**"
      ]
    },
    {
      "cell_type": "code",
      "metadata": {
        "colab": {
          "base_uri": "https://localhost:8080/"
        },
        "id": "NoqInXardHsw",
        "outputId": "5ccd7d51-bcb8-42fd-989a-8510405bd7c5"
      },
      "source": [
        "from google.colab import drive\n",
        "drive.mount('/content/drive')"
      ],
      "execution_count": null,
      "outputs": [
        {
          "output_type": "stream",
          "name": "stdout",
          "text": [
            "Mounted at /content/drive\n"
          ]
        }
      ]
    },
    {
      "cell_type": "markdown",
      "metadata": {
        "id": "OfEc6FGAHODi"
      },
      "source": [
        "**Listing contents in the current working directory**"
      ]
    },
    {
      "cell_type": "code",
      "metadata": {
        "colab": {
          "base_uri": "https://localhost:8080/"
        },
        "id": "n_s_03I4ka7U",
        "outputId": "17fa6729-20c1-4bfa-d808-44d5e1d3d602"
      },
      "source": [
        "!ls \"/content/drive/My Drive/255 Project/basic_data_files.csv\""
      ],
      "execution_count": null,
      "outputs": [
        {
          "output_type": "stream",
          "name": "stdout",
          "text": [
            "'/content/drive/My Drive/255 Project/basic_data_files.csv'\n"
          ]
        }
      ]
    },
    {
      "cell_type": "markdown",
      "metadata": {
        "id": "fT_J37oSHXzg"
      },
      "source": [
        "**Importing necessary libraries**"
      ]
    },
    {
      "cell_type": "code",
      "metadata": {
        "id": "pEFbqZIliKTV"
      },
      "source": [
        "import pandas as pd\n",
        "import numpy as np\n",
        "import seaborn as sns\n",
        "import matplotlib as mpl \n",
        "import matplotlib.pyplot as plt"
      ],
      "execution_count": null,
      "outputs": []
    },
    {
      "cell_type": "markdown",
      "metadata": {
        "id": "2QeUK7o3HgQu"
      },
      "source": [
        "**Command to read the csv file (dataset)**"
      ]
    },
    {
      "cell_type": "code",
      "metadata": {
        "colab": {
          "base_uri": "https://localhost:8080/",
          "height": 823
        },
        "id": "gUls0aMIitBj",
        "outputId": "e3673305-ee61-4f41-97cc-470fc2aad6d1"
      },
      "source": [
        "df = pd.read_csv('/content/drive/My Drive/255 Project/basic_data_files.csv'\n",
        "                      , sep=',' \n",
        "                      , usecols=['YEAR', 'CITY', 'TRI_FACILITY_ID', 'FACILITY_NAME', 'LATITUDE', 'LONGITUDE','ST','FEDERAL_FACILITY',\n",
        "                                 'INDUSTRY_SECTOR','CHEMICAL','CLEAR_AIR_ACT_CHEMICAL', 'METAL', 'METAL_CATEGORY',\n",
        "                                 'CARCINOGEN','5.1_FUGITIVE_AIR', '5.2_STACK_AIR','5.3_WATER','5.4_UNDERGROUND','5.5.1_LANDFILLS',\n",
        "                                  '5.5.4_OTHER_DISPOSAL','ON-SITE_RELEASE_TOTAL','OFF-SITE_RELEASE_TOTAL',\n",
        "                                 'TOTAL_RELEASES','PROD._WASTE_(8.1_THRU_8.7)','PARENT_COMPANY_NAME'], nrows = 2548769)\n",
        "df"
      ],
      "execution_count": null,
      "outputs": [
        {
          "output_type": "stream",
          "name": "stderr",
          "text": [
            "/usr/local/lib/python3.7/dist-packages/IPython/core/interactiveshell.py:2718: DtypeWarning: Columns (0,11,12,35,39,40,41,42,45,52,53,74,91,103) have mixed types.Specify dtype option on import or set low_memory=False.\n",
            "  interactivity=interactivity, compiler=compiler, result=result)\n"
          ]
        },
        {
          "output_type": "execute_result",
          "data": {
            "text/html": [
              "<div>\n",
              "<style scoped>\n",
              "    .dataframe tbody tr th:only-of-type {\n",
              "        vertical-align: middle;\n",
              "    }\n",
              "\n",
              "    .dataframe tbody tr th {\n",
              "        vertical-align: top;\n",
              "    }\n",
              "\n",
              "    .dataframe thead th {\n",
              "        text-align: right;\n",
              "    }\n",
              "</style>\n",
              "<table border=\"1\" class=\"dataframe\">\n",
              "  <thead>\n",
              "    <tr style=\"text-align: right;\">\n",
              "      <th></th>\n",
              "      <th>YEAR</th>\n",
              "      <th>TRI_FACILITY_ID</th>\n",
              "      <th>FACILITY_NAME</th>\n",
              "      <th>CITY</th>\n",
              "      <th>ST</th>\n",
              "      <th>LATITUDE</th>\n",
              "      <th>LONGITUDE</th>\n",
              "      <th>FEDERAL_FACILITY</th>\n",
              "      <th>INDUSTRY_SECTOR</th>\n",
              "      <th>CHEMICAL</th>\n",
              "      <th>CLEAR_AIR_ACT_CHEMICAL</th>\n",
              "      <th>METAL</th>\n",
              "      <th>METAL_CATEGORY</th>\n",
              "      <th>CARCINOGEN</th>\n",
              "      <th>5.1_FUGITIVE_AIR</th>\n",
              "      <th>5.2_STACK_AIR</th>\n",
              "      <th>5.3_WATER</th>\n",
              "      <th>5.4_UNDERGROUND</th>\n",
              "      <th>5.5.1_LANDFILLS</th>\n",
              "      <th>5.5.4_OTHER_DISPOSAL</th>\n",
              "      <th>ON-SITE_RELEASE_TOTAL</th>\n",
              "      <th>OFF-SITE_RELEASE_TOTAL</th>\n",
              "      <th>TOTAL_RELEASES</th>\n",
              "      <th>PROD._WASTE_(8.1_THRU_8.7)</th>\n",
              "      <th>PARENT_COMPANY_NAME</th>\n",
              "    </tr>\n",
              "  </thead>\n",
              "  <tbody>\n",
              "    <tr>\n",
              "      <th>0</th>\n",
              "      <td>2016</td>\n",
              "      <td>46552DCTLT30350</td>\n",
              "      <td>EDCOAT LLC</td>\n",
              "      <td>NEW CARLISLE</td>\n",
              "      <td>IN</td>\n",
              "      <td>41.6934</td>\n",
              "      <td>-86.4552</td>\n",
              "      <td>NO</td>\n",
              "      <td>Fabricated Metals</td>\n",
              "      <td>CHROMIUM COMPOUNDS(EXCEPT CHROMITE ORE MINED I...</td>\n",
              "      <td>YES</td>\n",
              "      <td>YES</td>\n",
              "      <td>1</td>\n",
              "      <td>NO</td>\n",
              "      <td>0</td>\n",
              "      <td>0</td>\n",
              "      <td>0</td>\n",
              "      <td>0</td>\n",
              "      <td>0</td>\n",
              "      <td>0</td>\n",
              "      <td>0</td>\n",
              "      <td>1170.32</td>\n",
              "      <td>1170.41</td>\n",
              "      <td>1170.32</td>\n",
              "      <td>NaN</td>\n",
              "    </tr>\n",
              "    <tr>\n",
              "      <th>1</th>\n",
              "      <td>2016</td>\n",
              "      <td>01950NNSPC3MALC</td>\n",
              "      <td>UNION SPECIALTIES INC</td>\n",
              "      <td>NEWBURYPORT</td>\n",
              "      <td>MA</td>\n",
              "      <td>42.7964</td>\n",
              "      <td>-70.8904</td>\n",
              "      <td>NO</td>\n",
              "      <td>Chemicals</td>\n",
              "      <td>CERTAIN GLYCOL ETHERS</td>\n",
              "      <td>YES</td>\n",
              "      <td>NO</td>\n",
              "      <td>0</td>\n",
              "      <td>NO</td>\n",
              "      <td>1</td>\n",
              "      <td>17</td>\n",
              "      <td>0</td>\n",
              "      <td>0</td>\n",
              "      <td>0</td>\n",
              "      <td>0</td>\n",
              "      <td>18</td>\n",
              "      <td>0</td>\n",
              "      <td>18</td>\n",
              "      <td>18</td>\n",
              "      <td>NaN</td>\n",
              "    </tr>\n",
              "    <tr>\n",
              "      <th>2</th>\n",
              "      <td>2016</td>\n",
              "      <td>44691CRGLL1203T</td>\n",
              "      <td>CARGILL ANIMAL NUTRITION</td>\n",
              "      <td>WOOSTER</td>\n",
              "      <td>OH</td>\n",
              "      <td>40.7847</td>\n",
              "      <td>-81.9396</td>\n",
              "      <td>NO</td>\n",
              "      <td>Food</td>\n",
              "      <td>ZINC COMPOUNDS</td>\n",
              "      <td>NO</td>\n",
              "      <td>YES</td>\n",
              "      <td>1</td>\n",
              "      <td>NO</td>\n",
              "      <td>0</td>\n",
              "      <td>0</td>\n",
              "      <td>0</td>\n",
              "      <td>0</td>\n",
              "      <td>0</td>\n",
              "      <td>0</td>\n",
              "      <td>0</td>\n",
              "      <td>0</td>\n",
              "      <td>0</td>\n",
              "      <td>0</td>\n",
              "      <td>CARGILL INC</td>\n",
              "    </tr>\n",
              "    <tr>\n",
              "      <th>3</th>\n",
              "      <td>2016</td>\n",
              "      <td>02745CSHNT215DU</td>\n",
              "      <td>ACUSHNET CO BALL PLANT III</td>\n",
              "      <td>NEW BEDFORD</td>\n",
              "      <td>MA</td>\n",
              "      <td>41.7254</td>\n",
              "      <td>-70.9552</td>\n",
              "      <td>NO</td>\n",
              "      <td>Miscellaneous Manufacturing</td>\n",
              "      <td>DIISOCYANATES</td>\n",
              "      <td>YES</td>\n",
              "      <td>NO</td>\n",
              "      <td>0</td>\n",
              "      <td>NO</td>\n",
              "      <td>0</td>\n",
              "      <td>0</td>\n",
              "      <td>0</td>\n",
              "      <td>0</td>\n",
              "      <td>0</td>\n",
              "      <td>0</td>\n",
              "      <td>0</td>\n",
              "      <td>0</td>\n",
              "      <td>0</td>\n",
              "      <td>2297</td>\n",
              "      <td>ACUSHNET HOLDINGS CORP</td>\n",
              "    </tr>\n",
              "    <tr>\n",
              "      <th>4</th>\n",
              "      <td>2016</td>\n",
              "      <td>30050CLRXC17LAK</td>\n",
              "      <td>CLOROX PRODUCTS MANUFACTURING CO</td>\n",
              "      <td>FOREST PARK</td>\n",
              "      <td>GA</td>\n",
              "      <td>33.6272</td>\n",
              "      <td>-84.3868</td>\n",
              "      <td>NO</td>\n",
              "      <td>Chemicals</td>\n",
              "      <td>CERTAIN GLYCOL ETHERS</td>\n",
              "      <td>YES</td>\n",
              "      <td>NO</td>\n",
              "      <td>0</td>\n",
              "      <td>NO</td>\n",
              "      <td>5</td>\n",
              "      <td>5</td>\n",
              "      <td>0</td>\n",
              "      <td>0</td>\n",
              "      <td>0</td>\n",
              "      <td>0</td>\n",
              "      <td>10</td>\n",
              "      <td>20</td>\n",
              "      <td>50</td>\n",
              "      <td>260</td>\n",
              "      <td>THE CLOROX CO</td>\n",
              "    </tr>\n",
              "    <tr>\n",
              "      <th>...</th>\n",
              "      <td>...</td>\n",
              "      <td>...</td>\n",
              "      <td>...</td>\n",
              "      <td>...</td>\n",
              "      <td>...</td>\n",
              "      <td>...</td>\n",
              "      <td>...</td>\n",
              "      <td>...</td>\n",
              "      <td>...</td>\n",
              "      <td>...</td>\n",
              "      <td>...</td>\n",
              "      <td>...</td>\n",
              "      <td>...</td>\n",
              "      <td>...</td>\n",
              "      <td>...</td>\n",
              "      <td>...</td>\n",
              "      <td>...</td>\n",
              "      <td>...</td>\n",
              "      <td>...</td>\n",
              "      <td>...</td>\n",
              "      <td>...</td>\n",
              "      <td>...</td>\n",
              "      <td>...</td>\n",
              "      <td>...</td>\n",
              "      <td>...</td>\n",
              "    </tr>\n",
              "    <tr>\n",
              "      <th>2548764</th>\n",
              "      <td>1993</td>\n",
              "      <td>92704PWRCR2645S</td>\n",
              "      <td>TTM TECHNOLOGIES INC</td>\n",
              "      <td>SANTA ANA</td>\n",
              "      <td>CA</td>\n",
              "      <td>33.7115</td>\n",
              "      <td>-117.922</td>\n",
              "      <td>NO</td>\n",
              "      <td>Computers and Electronic Products</td>\n",
              "      <td>COPPER</td>\n",
              "      <td>NO</td>\n",
              "      <td>YES</td>\n",
              "      <td>1</td>\n",
              "      <td>NO</td>\n",
              "      <td>0</td>\n",
              "      <td>0</td>\n",
              "      <td>0</td>\n",
              "      <td>0</td>\n",
              "      <td>0</td>\n",
              "      <td>0</td>\n",
              "      <td>0</td>\n",
              "      <td>250</td>\n",
              "      <td>500</td>\n",
              "      <td>66818</td>\n",
              "      <td>TTM TECHNOLOGIES INC</td>\n",
              "    </tr>\n",
              "    <tr>\n",
              "      <th>2548765</th>\n",
              "      <td>1993</td>\n",
              "      <td>61240KNNCS2266U</td>\n",
              "      <td>KONE INC ESCALATOR DIV</td>\n",
              "      <td>COAL VALLEY</td>\n",
              "      <td>IL</td>\n",
              "      <td>41.4559</td>\n",
              "      <td>-90.3897</td>\n",
              "      <td>NO</td>\n",
              "      <td>Machinery</td>\n",
              "      <td>COPPER</td>\n",
              "      <td>NO</td>\n",
              "      <td>YES</td>\n",
              "      <td>1</td>\n",
              "      <td>NO</td>\n",
              "      <td>0</td>\n",
              "      <td>0</td>\n",
              "      <td>0</td>\n",
              "      <td>0</td>\n",
              "      <td>0</td>\n",
              "      <td>0</td>\n",
              "      <td>0</td>\n",
              "      <td>0</td>\n",
              "      <td>0</td>\n",
              "      <td>1570</td>\n",
              "      <td>KONE, INC</td>\n",
              "    </tr>\n",
              "    <tr>\n",
              "      <th>2548766</th>\n",
              "      <td>1993</td>\n",
              "      <td>46514THCNT28722</td>\n",
              "      <td>TRUCK ACCESSORIES GROUP INC. DBA CENTURY FIBER...</td>\n",
              "      <td>ELKHART</td>\n",
              "      <td>IN</td>\n",
              "      <td>41.7298</td>\n",
              "      <td>-86.018</td>\n",
              "      <td>NO</td>\n",
              "      <td>Plastics and Rubber</td>\n",
              "      <td>STYRENE</td>\n",
              "      <td>YES</td>\n",
              "      <td>NO</td>\n",
              "      <td>0</td>\n",
              "      <td>YES</td>\n",
              "      <td>2143</td>\n",
              "      <td>8569</td>\n",
              "      <td>0</td>\n",
              "      <td>0</td>\n",
              "      <td>0</td>\n",
              "      <td>0</td>\n",
              "      <td>10712</td>\n",
              "      <td>0</td>\n",
              "      <td>10712</td>\n",
              "      <td>12263</td>\n",
              "      <td>TRUCK ACCESSORIES GROUP INC</td>\n",
              "    </tr>\n",
              "    <tr>\n",
              "      <th>2548767</th>\n",
              "      <td>1993</td>\n",
              "      <td>46787HTRSN601HA</td>\n",
              "      <td>DEKKO HEATING TECHNOLOGIES #25</td>\n",
              "      <td>SOUTH WHITLEY</td>\n",
              "      <td>IN</td>\n",
              "      <td>41.0909</td>\n",
              "      <td>-85.6334</td>\n",
              "      <td>NO</td>\n",
              "      <td>Electrical Equipment</td>\n",
              "      <td>ANTIMONY COMPOUNDS</td>\n",
              "      <td>YES</td>\n",
              "      <td>YES</td>\n",
              "      <td>1</td>\n",
              "      <td>NO</td>\n",
              "      <td>0</td>\n",
              "      <td>0</td>\n",
              "      <td>0</td>\n",
              "      <td>0</td>\n",
              "      <td>0</td>\n",
              "      <td>0</td>\n",
              "      <td>0</td>\n",
              "      <td>1114</td>\n",
              "      <td>1114</td>\n",
              "      <td>5066</td>\n",
              "      <td>DEKKO HEATING TECHS</td>\n",
              "    </tr>\n",
              "    <tr>\n",
              "      <th>2548768</th>\n",
              "      <td>1993</td>\n",
              "      <td>77704MBLCHGULFS</td>\n",
              "      <td>EXXONMOBIL OIL CORP CHEMICAL PLANT</td>\n",
              "      <td>BEAUMONT</td>\n",
              "      <td>TX</td>\n",
              "      <td>30.0633</td>\n",
              "      <td>-94.0596</td>\n",
              "      <td>NO</td>\n",
              "      <td>Chemicals</td>\n",
              "      <td>COPPER</td>\n",
              "      <td>NO</td>\n",
              "      <td>YES</td>\n",
              "      <td>1</td>\n",
              "      <td>NO</td>\n",
              "      <td>0</td>\n",
              "      <td>0</td>\n",
              "      <td>0</td>\n",
              "      <td>0</td>\n",
              "      <td>0</td>\n",
              "      <td>0</td>\n",
              "      <td>0</td>\n",
              "      <td>0</td>\n",
              "      <td>0</td>\n",
              "      <td>0</td>\n",
              "      <td>EXXON MOBIL CORP</td>\n",
              "    </tr>\n",
              "  </tbody>\n",
              "</table>\n",
              "<p>2548769 rows × 25 columns</p>\n",
              "</div>"
            ],
            "text/plain": [
              "         YEAR  ...          PARENT_COMPANY_NAME\n",
              "0        2016  ...                          NaN\n",
              "1        2016  ...                          NaN\n",
              "2        2016  ...                  CARGILL INC\n",
              "3        2016  ...       ACUSHNET HOLDINGS CORP\n",
              "4        2016  ...                THE CLOROX CO\n",
              "...       ...  ...                          ...\n",
              "2548764  1993  ...         TTM TECHNOLOGIES INC\n",
              "2548765  1993  ...                    KONE, INC\n",
              "2548766  1993  ...  TRUCK ACCESSORIES GROUP INC\n",
              "2548767  1993  ...          DEKKO HEATING TECHS\n",
              "2548768  1993  ...             EXXON MOBIL CORP\n",
              "\n",
              "[2548769 rows x 25 columns]"
            ]
          },
          "metadata": {},
          "execution_count": 5
        }
      ]
    },
    {
      "cell_type": "code",
      "metadata": {
        "colab": {
          "base_uri": "https://localhost:8080/"
        },
        "id": "X1C0lJDVlmub",
        "outputId": "0f2dff9d-575c-4de1-8715-db52fe5e5da3"
      },
      "source": [
        "df.dtypes"
      ],
      "execution_count": null,
      "outputs": [
        {
          "output_type": "execute_result",
          "data": {
            "text/plain": [
              "YEAR                          object\n",
              "TRI_FACILITY_ID               object\n",
              "FACILITY_NAME                 object\n",
              "CITY                          object\n",
              "ST                            object\n",
              "LATITUDE                      object\n",
              "LONGITUDE                     object\n",
              "FEDERAL_FACILITY              object\n",
              "INDUSTRY_SECTOR               object\n",
              "CHEMICAL                      object\n",
              "CLEAR_AIR_ACT_CHEMICAL        object\n",
              "METAL                         object\n",
              "METAL_CATEGORY                object\n",
              "CARCINOGEN                    object\n",
              "5.1_FUGITIVE_AIR              object\n",
              "5.2_STACK_AIR                 object\n",
              "5.3_WATER                     object\n",
              "5.4_UNDERGROUND               object\n",
              "5.5.1_LANDFILLS               object\n",
              "5.5.4_OTHER_DISPOSAL          object\n",
              "ON-SITE_RELEASE_TOTAL         object\n",
              "OFF-SITE_RELEASE_TOTAL        object\n",
              "TOTAL_RELEASES                object\n",
              "PROD._WASTE_(8.1_THRU_8.7)    object\n",
              "PARENT_COMPANY_NAME           object\n",
              "dtype: object"
            ]
          },
          "metadata": {},
          "execution_count": 6
        }
      ]
    },
    {
      "cell_type": "markdown",
      "metadata": {
        "id": "Dlz3DFcJH7BQ"
      },
      "source": [
        "**Command to check for values within the column 'YEAR' which are not the expected type (int) i.e. Outliers**"
      ]
    },
    {
      "cell_type": "code",
      "metadata": {
        "colab": {
          "base_uri": "https://localhost:8080/"
        },
        "id": "_bn0LtApneHF",
        "outputId": "1e59593c-c8fc-44d3-da57-9b0af0679ab0"
      },
      "source": [
        "sum(df['YEAR'].map(type) != int)"
      ],
      "execution_count": null,
      "outputs": [
        {
          "output_type": "execute_result",
          "data": {
            "text/plain": [
              "237568"
            ]
          },
          "metadata": {},
          "execution_count": 7
        }
      ]
    },
    {
      "cell_type": "markdown",
      "metadata": {
        "id": "DHAcnX_DHug-"
      },
      "source": [
        "**Command to 'group by' a specific attribute type.**"
      ]
    },
    {
      "cell_type": "code",
      "metadata": {
        "colab": {
          "base_uri": "https://localhost:8080/"
        },
        "id": "cQpdBoyRhfID",
        "outputId": "7fc70a7f-ebbe-407c-c45e-bdfb1db79f2f"
      },
      "source": [
        "group_by_carrier = df.groupby(['YEAR'])\n",
        "group_by_carrier.size()"
      ],
      "execution_count": null,
      "outputs": [
        {
          "output_type": "execute_result",
          "data": {
            "text/plain": [
              "YEAR\n",
              "1993     74785\n",
              "1994     73728\n",
              "1995     65536\n",
              "1996     73728\n",
              "1997     65536\n",
              "1998     81920\n",
              "1999     81920\n",
              "2000     81920\n",
              "2001     90112\n",
              "2002     90112\n",
              "2003     81920\n",
              "2004     90112\n",
              "2005     81920\n",
              "2006     81920\n",
              "2007     81920\n",
              "2008     73728\n",
              "2009     73728\n",
              "2010     73728\n",
              "2011    147456\n",
              "2012    163840\n",
              "2013    147456\n",
              "2014    147456\n",
              "2015    147456\n",
              "2016    139264\n",
              "1993      8177\n",
              "1994      4055\n",
              "1995     12164\n",
              "1996      1956\n",
              "1997     10126\n",
              "1998      8880\n",
              "1999      4959\n",
              "2000     12216\n",
              "2001      8488\n",
              "2002      5983\n",
              "2003     12304\n",
              "2004      2022\n",
              "2005      9960\n",
              "2006      8901\n",
              "2007      7041\n",
              "2008     13094\n",
              "2009      7868\n",
              "2010      8348\n",
              "2011     17306\n",
              "2012      1348\n",
              "2013     18234\n",
              "2014     19122\n",
              "2015     15540\n",
              "2016     19446\n",
              "YEAR        30\n",
              "dtype: int64"
            ]
          },
          "metadata": {},
          "execution_count": 8
        }
      ]
    },
    {
      "cell_type": "markdown",
      "metadata": {
        "id": "SclQGmzMIRwJ"
      },
      "source": [
        "**Command to drop the values of 'YEAR' which were not expected. (Noise)**"
      ]
    },
    {
      "cell_type": "code",
      "metadata": {
        "id": "H-BbK0lyiaGa"
      },
      "source": [
        "df = df.drop(df[df.YEAR == 'YEAR'].index)"
      ],
      "execution_count": null,
      "outputs": []
    },
    {
      "cell_type": "code",
      "metadata": {
        "colab": {
          "base_uri": "https://localhost:8080/"
        },
        "id": "5W4CR65IidCa",
        "outputId": "27a3098e-dd14-4ca1-bf4e-52f8c1804886"
      },
      "source": [
        "sum(df['YEAR'].map(type) != int)"
      ],
      "execution_count": null,
      "outputs": [
        {
          "output_type": "execute_result",
          "data": {
            "text/plain": [
              "237538"
            ]
          },
          "metadata": {},
          "execution_count": 10
        }
      ]
    },
    {
      "cell_type": "markdown",
      "metadata": {
        "id": "7VaSESuiIrA3"
      },
      "source": [
        "Command to convert the values into Numeric type."
      ]
    },
    {
      "cell_type": "code",
      "metadata": {
        "id": "r2t-kD0NigHi"
      },
      "source": [
        "#df[793556]\n",
        "df['YEAR'] = pd.to_numeric(df['YEAR'])"
      ],
      "execution_count": null,
      "outputs": []
    },
    {
      "cell_type": "code",
      "metadata": {
        "colab": {
          "base_uri": "https://localhost:8080/"
        },
        "id": "Qt_kFFdsTMan",
        "outputId": "22592a0e-00b4-4a7a-90a1-e7b180fae23b"
      },
      "source": [
        "sum(df['YEAR'].map(type) != int)"
      ],
      "execution_count": null,
      "outputs": [
        {
          "output_type": "execute_result",
          "data": {
            "text/plain": [
              "0"
            ]
          },
          "metadata": {},
          "execution_count": 12
        }
      ]
    },
    {
      "cell_type": "markdown",
      "metadata": {
        "id": "JwSqbJ8nerKZ"
      },
      "source": [
        "**Checking for Null values in the dataset**"
      ]
    },
    {
      "cell_type": "markdown",
      "metadata": {
        "id": "F8_mIKaVwIgV"
      },
      "source": [
        "**The Null Check has been applied to various columns in the dataset to avoid discrepancies.**"
      ]
    },
    {
      "cell_type": "code",
      "metadata": {
        "colab": {
          "base_uri": "https://localhost:8080/"
        },
        "id": "PxtxV9HGTRj0",
        "outputId": "96653fb4-d39c-4c3f-bce9-c8a5f8eb06e1"
      },
      "source": [
        "sum(df['YEAR'].isnull()==True)"
      ],
      "execution_count": null,
      "outputs": [
        {
          "output_type": "execute_result",
          "data": {
            "text/plain": [
              "0"
            ]
          },
          "metadata": {},
          "execution_count": 13
        }
      ]
    },
    {
      "cell_type": "code",
      "metadata": {
        "colab": {
          "base_uri": "https://localhost:8080/"
        },
        "id": "MKCpmor_emRs",
        "outputId": "24c25428-73bb-4ede-9c03-030b4586803c"
      },
      "source": [
        "sum(df['CITY'].isnull()==True)"
      ],
      "execution_count": null,
      "outputs": [
        {
          "output_type": "execute_result",
          "data": {
            "text/plain": [
              "0"
            ]
          },
          "metadata": {},
          "execution_count": 14
        }
      ]
    },
    {
      "cell_type": "code",
      "metadata": {
        "colab": {
          "base_uri": "https://localhost:8080/"
        },
        "id": "Z13Moj2texRU",
        "outputId": "971c17a3-fee5-49fd-ea92-2a7057333123"
      },
      "source": [
        "sum(df['FACILITY_NAME'].isnull()==True)"
      ],
      "execution_count": null,
      "outputs": [
        {
          "output_type": "execute_result",
          "data": {
            "text/plain": [
              "0"
            ]
          },
          "metadata": {},
          "execution_count": 15
        }
      ]
    },
    {
      "cell_type": "code",
      "metadata": {
        "colab": {
          "base_uri": "https://localhost:8080/"
        },
        "id": "TdDKBBJ7exg7",
        "outputId": "e9eab0f2-c81a-4a18-976f-5b3cac63a028"
      },
      "source": [
        "sum(df['5.1_FUGITIVE_AIR'].isnull()==True)"
      ],
      "execution_count": null,
      "outputs": [
        {
          "output_type": "execute_result",
          "data": {
            "text/plain": [
              "0"
            ]
          },
          "metadata": {},
          "execution_count": 16
        }
      ]
    },
    {
      "cell_type": "code",
      "metadata": {
        "colab": {
          "base_uri": "https://localhost:8080/"
        },
        "id": "vVOonXZhexoQ",
        "outputId": "dbfe8acc-6d3f-45eb-8af1-19ba2b9b5701"
      },
      "source": [
        "sum(df['5.2_STACK_AIR'].isnull()==True)"
      ],
      "execution_count": null,
      "outputs": [
        {
          "output_type": "execute_result",
          "data": {
            "text/plain": [
              "0"
            ]
          },
          "metadata": {},
          "execution_count": 17
        }
      ]
    },
    {
      "cell_type": "code",
      "metadata": {
        "colab": {
          "base_uri": "https://localhost:8080/"
        },
        "id": "dBh_CXrtexuT",
        "outputId": "b1fc7f8d-e8a6-4131-bfc6-37eb2e9cb978"
      },
      "source": [
        "sum(df['5.3_WATER'].isnull()==True)"
      ],
      "execution_count": null,
      "outputs": [
        {
          "output_type": "execute_result",
          "data": {
            "text/plain": [
              "0"
            ]
          },
          "metadata": {},
          "execution_count": 18
        }
      ]
    },
    {
      "cell_type": "code",
      "metadata": {
        "colab": {
          "base_uri": "https://localhost:8080/"
        },
        "id": "hHffxg_hexz-",
        "outputId": "45eb0247-fe27-4df8-9340-effd7de67164"
      },
      "source": [
        "sum(df['CARCINOGEN'].isnull()==True)"
      ],
      "execution_count": null,
      "outputs": [
        {
          "output_type": "execute_result",
          "data": {
            "text/plain": [
              "0"
            ]
          },
          "metadata": {},
          "execution_count": 19
        }
      ]
    },
    {
      "cell_type": "code",
      "metadata": {
        "colab": {
          "base_uri": "https://localhost:8080/"
        },
        "id": "nHPfdsO3ex4j",
        "outputId": "77331a58-1a89-4915-d542-5956bff899e6"
      },
      "source": [
        "sum(df['METAL'].isnull()==True)"
      ],
      "execution_count": null,
      "outputs": [
        {
          "output_type": "execute_result",
          "data": {
            "text/plain": [
              "0"
            ]
          },
          "metadata": {},
          "execution_count": 20
        }
      ]
    },
    {
      "cell_type": "code",
      "metadata": {
        "colab": {
          "base_uri": "https://localhost:8080/"
        },
        "id": "4aaALFJfex-d",
        "outputId": "3f42cda5-c4c3-465e-b081-bb5c84186277"
      },
      "source": [
        "df.isnull().sum()"
      ],
      "execution_count": null,
      "outputs": [
        {
          "output_type": "execute_result",
          "data": {
            "text/plain": [
              "YEAR                               0\n",
              "TRI_FACILITY_ID                    0\n",
              "FACILITY_NAME                      0\n",
              "CITY                               0\n",
              "ST                                 0\n",
              "LATITUDE                        1505\n",
              "LONGITUDE                       1505\n",
              "FEDERAL_FACILITY                   0\n",
              "INDUSTRY_SECTOR                   34\n",
              "CHEMICAL                           0\n",
              "CLEAR_AIR_ACT_CHEMICAL             0\n",
              "METAL                              0\n",
              "METAL_CATEGORY                     0\n",
              "CARCINOGEN                         0\n",
              "5.1_FUGITIVE_AIR                   0\n",
              "5.2_STACK_AIR                      0\n",
              "5.3_WATER                          0\n",
              "5.4_UNDERGROUND                    0\n",
              "5.5.1_LANDFILLS                    0\n",
              "5.5.4_OTHER_DISPOSAL               0\n",
              "ON-SITE_RELEASE_TOTAL              0\n",
              "OFF-SITE_RELEASE_TOTAL             0\n",
              "TOTAL_RELEASES                     0\n",
              "PROD._WASTE_(8.1_THRU_8.7)         0\n",
              "PARENT_COMPANY_NAME           459821\n",
              "dtype: int64"
            ]
          },
          "metadata": {},
          "execution_count": 21
        }
      ]
    },
    {
      "cell_type": "code",
      "metadata": {
        "id": "gis4HUijf1f_"
      },
      "source": [
        "df=df.drop(df[df.PARENT_COMPANY_NAME.isna()==True].index)"
      ],
      "execution_count": null,
      "outputs": []
    },
    {
      "cell_type": "code",
      "metadata": {
        "colab": {
          "base_uri": "https://localhost:8080/"
        },
        "id": "QyAexBxGgDCw",
        "outputId": "0f4695f9-3778-43c2-8830-dafa9d4dd280"
      },
      "source": [
        "df.isnull().sum()"
      ],
      "execution_count": null,
      "outputs": [
        {
          "output_type": "execute_result",
          "data": {
            "text/plain": [
              "YEAR                             0\n",
              "TRI_FACILITY_ID                  0\n",
              "FACILITY_NAME                    0\n",
              "CITY                             0\n",
              "ST                               0\n",
              "LATITUDE                      1361\n",
              "LONGITUDE                     1361\n",
              "FEDERAL_FACILITY                 0\n",
              "INDUSTRY_SECTOR                 19\n",
              "CHEMICAL                         0\n",
              "CLEAR_AIR_ACT_CHEMICAL           0\n",
              "METAL                            0\n",
              "METAL_CATEGORY                   0\n",
              "CARCINOGEN                       0\n",
              "5.1_FUGITIVE_AIR                 0\n",
              "5.2_STACK_AIR                    0\n",
              "5.3_WATER                        0\n",
              "5.4_UNDERGROUND                  0\n",
              "5.5.1_LANDFILLS                  0\n",
              "5.5.4_OTHER_DISPOSAL             0\n",
              "ON-SITE_RELEASE_TOTAL            0\n",
              "OFF-SITE_RELEASE_TOTAL           0\n",
              "TOTAL_RELEASES                   0\n",
              "PROD._WASTE_(8.1_THRU_8.7)       0\n",
              "PARENT_COMPANY_NAME              0\n",
              "dtype: int64"
            ]
          },
          "metadata": {},
          "execution_count": 23
        }
      ]
    },
    {
      "cell_type": "code",
      "metadata": {
        "id": "AXcUwB13gQZb"
      },
      "source": [
        "df=df.drop(df[df.LATITUDE.isna()==True].index)"
      ],
      "execution_count": null,
      "outputs": []
    },
    {
      "cell_type": "code",
      "metadata": {
        "id": "1nvFMG1BgVMa"
      },
      "source": [
        "df=df.drop(df[df.INDUSTRY_SECTOR.isna()==True].index)"
      ],
      "execution_count": null,
      "outputs": []
    },
    {
      "cell_type": "code",
      "metadata": {
        "colab": {
          "base_uri": "https://localhost:8080/"
        },
        "id": "3HOGw-U5ghgl",
        "outputId": "acf91ebf-662d-4441-d131-4808b95d125c"
      },
      "source": [
        "df.isnull().sum()"
      ],
      "execution_count": null,
      "outputs": [
        {
          "output_type": "execute_result",
          "data": {
            "text/plain": [
              "YEAR                          0\n",
              "TRI_FACILITY_ID               0\n",
              "FACILITY_NAME                 0\n",
              "CITY                          0\n",
              "ST                            0\n",
              "LATITUDE                      0\n",
              "LONGITUDE                     0\n",
              "FEDERAL_FACILITY              0\n",
              "INDUSTRY_SECTOR               0\n",
              "CHEMICAL                      0\n",
              "CLEAR_AIR_ACT_CHEMICAL        0\n",
              "METAL                         0\n",
              "METAL_CATEGORY                0\n",
              "CARCINOGEN                    0\n",
              "5.1_FUGITIVE_AIR              0\n",
              "5.2_STACK_AIR                 0\n",
              "5.3_WATER                     0\n",
              "5.4_UNDERGROUND               0\n",
              "5.5.1_LANDFILLS               0\n",
              "5.5.4_OTHER_DISPOSAL          0\n",
              "ON-SITE_RELEASE_TOTAL         0\n",
              "OFF-SITE_RELEASE_TOTAL        0\n",
              "TOTAL_RELEASES                0\n",
              "PROD._WASTE_(8.1_THRU_8.7)    0\n",
              "PARENT_COMPANY_NAME           0\n",
              "dtype: int64"
            ]
          },
          "metadata": {},
          "execution_count": 26
        }
      ]
    },
    {
      "cell_type": "code",
      "metadata": {
        "colab": {
          "base_uri": "https://localhost:8080/",
          "height": 295
        },
        "id": "o_j-viQunoxg",
        "outputId": "97fb06e2-3bf2-4477-9b5d-f9791e61332d"
      },
      "source": [
        "df.describe()"
      ],
      "execution_count": null,
      "outputs": [
        {
          "output_type": "execute_result",
          "data": {
            "text/html": [
              "<div>\n",
              "<style scoped>\n",
              "    .dataframe tbody tr th:only-of-type {\n",
              "        vertical-align: middle;\n",
              "    }\n",
              "\n",
              "    .dataframe tbody tr th {\n",
              "        vertical-align: top;\n",
              "    }\n",
              "\n",
              "    .dataframe thead th {\n",
              "        text-align: right;\n",
              "    }\n",
              "</style>\n",
              "<table border=\"1\" class=\"dataframe\">\n",
              "  <thead>\n",
              "    <tr style=\"text-align: right;\">\n",
              "      <th></th>\n",
              "      <th>YEAR</th>\n",
              "    </tr>\n",
              "  </thead>\n",
              "  <tbody>\n",
              "    <tr>\n",
              "      <th>count</th>\n",
              "      <td>2.087538e+06</td>\n",
              "    </tr>\n",
              "    <tr>\n",
              "      <th>mean</th>\n",
              "      <td>2.006369e+03</td>\n",
              "    </tr>\n",
              "    <tr>\n",
              "      <th>std</th>\n",
              "      <td>7.012465e+00</td>\n",
              "    </tr>\n",
              "    <tr>\n",
              "      <th>min</th>\n",
              "      <td>1.993000e+03</td>\n",
              "    </tr>\n",
              "    <tr>\n",
              "      <th>25%</th>\n",
              "      <td>2.000000e+03</td>\n",
              "    </tr>\n",
              "    <tr>\n",
              "      <th>50%</th>\n",
              "      <td>2.007000e+03</td>\n",
              "    </tr>\n",
              "    <tr>\n",
              "      <th>75%</th>\n",
              "      <td>2.013000e+03</td>\n",
              "    </tr>\n",
              "    <tr>\n",
              "      <th>max</th>\n",
              "      <td>2.016000e+03</td>\n",
              "    </tr>\n",
              "  </tbody>\n",
              "</table>\n",
              "</div>"
            ],
            "text/plain": [
              "               YEAR\n",
              "count  2.087538e+06\n",
              "mean   2.006369e+03\n",
              "std    7.012465e+00\n",
              "min    1.993000e+03\n",
              "25%    2.000000e+03\n",
              "50%    2.007000e+03\n",
              "75%    2.013000e+03\n",
              "max    2.016000e+03"
            ]
          },
          "metadata": {},
          "execution_count": 27
        }
      ]
    },
    {
      "cell_type": "code",
      "metadata": {
        "colab": {
          "base_uri": "https://localhost:8080/",
          "height": 806
        },
        "id": "TieT-e4foFNq",
        "outputId": "68661993-627e-4523-9ecc-b43a15840fe8"
      },
      "source": [
        "df"
      ],
      "execution_count": null,
      "outputs": [
        {
          "output_type": "execute_result",
          "data": {
            "text/html": [
              "<div>\n",
              "<style scoped>\n",
              "    .dataframe tbody tr th:only-of-type {\n",
              "        vertical-align: middle;\n",
              "    }\n",
              "\n",
              "    .dataframe tbody tr th {\n",
              "        vertical-align: top;\n",
              "    }\n",
              "\n",
              "    .dataframe thead th {\n",
              "        text-align: right;\n",
              "    }\n",
              "</style>\n",
              "<table border=\"1\" class=\"dataframe\">\n",
              "  <thead>\n",
              "    <tr style=\"text-align: right;\">\n",
              "      <th></th>\n",
              "      <th>YEAR</th>\n",
              "      <th>TRI_FACILITY_ID</th>\n",
              "      <th>FACILITY_NAME</th>\n",
              "      <th>CITY</th>\n",
              "      <th>ST</th>\n",
              "      <th>LATITUDE</th>\n",
              "      <th>LONGITUDE</th>\n",
              "      <th>FEDERAL_FACILITY</th>\n",
              "      <th>INDUSTRY_SECTOR</th>\n",
              "      <th>CHEMICAL</th>\n",
              "      <th>CLEAR_AIR_ACT_CHEMICAL</th>\n",
              "      <th>METAL</th>\n",
              "      <th>METAL_CATEGORY</th>\n",
              "      <th>CARCINOGEN</th>\n",
              "      <th>5.1_FUGITIVE_AIR</th>\n",
              "      <th>5.2_STACK_AIR</th>\n",
              "      <th>5.3_WATER</th>\n",
              "      <th>5.4_UNDERGROUND</th>\n",
              "      <th>5.5.1_LANDFILLS</th>\n",
              "      <th>5.5.4_OTHER_DISPOSAL</th>\n",
              "      <th>ON-SITE_RELEASE_TOTAL</th>\n",
              "      <th>OFF-SITE_RELEASE_TOTAL</th>\n",
              "      <th>TOTAL_RELEASES</th>\n",
              "      <th>PROD._WASTE_(8.1_THRU_8.7)</th>\n",
              "      <th>PARENT_COMPANY_NAME</th>\n",
              "    </tr>\n",
              "  </thead>\n",
              "  <tbody>\n",
              "    <tr>\n",
              "      <th>2</th>\n",
              "      <td>2016</td>\n",
              "      <td>44691CRGLL1203T</td>\n",
              "      <td>CARGILL ANIMAL NUTRITION</td>\n",
              "      <td>WOOSTER</td>\n",
              "      <td>OH</td>\n",
              "      <td>40.7847</td>\n",
              "      <td>-81.9396</td>\n",
              "      <td>NO</td>\n",
              "      <td>Food</td>\n",
              "      <td>ZINC COMPOUNDS</td>\n",
              "      <td>NO</td>\n",
              "      <td>YES</td>\n",
              "      <td>1</td>\n",
              "      <td>NO</td>\n",
              "      <td>0</td>\n",
              "      <td>0</td>\n",
              "      <td>0</td>\n",
              "      <td>0</td>\n",
              "      <td>0</td>\n",
              "      <td>0</td>\n",
              "      <td>0</td>\n",
              "      <td>0</td>\n",
              "      <td>0</td>\n",
              "      <td>0</td>\n",
              "      <td>CARGILL INC</td>\n",
              "    </tr>\n",
              "    <tr>\n",
              "      <th>3</th>\n",
              "      <td>2016</td>\n",
              "      <td>02745CSHNT215DU</td>\n",
              "      <td>ACUSHNET CO BALL PLANT III</td>\n",
              "      <td>NEW BEDFORD</td>\n",
              "      <td>MA</td>\n",
              "      <td>41.7254</td>\n",
              "      <td>-70.9552</td>\n",
              "      <td>NO</td>\n",
              "      <td>Miscellaneous Manufacturing</td>\n",
              "      <td>DIISOCYANATES</td>\n",
              "      <td>YES</td>\n",
              "      <td>NO</td>\n",
              "      <td>0</td>\n",
              "      <td>NO</td>\n",
              "      <td>0</td>\n",
              "      <td>0</td>\n",
              "      <td>0</td>\n",
              "      <td>0</td>\n",
              "      <td>0</td>\n",
              "      <td>0</td>\n",
              "      <td>0</td>\n",
              "      <td>0</td>\n",
              "      <td>0</td>\n",
              "      <td>2297</td>\n",
              "      <td>ACUSHNET HOLDINGS CORP</td>\n",
              "    </tr>\n",
              "    <tr>\n",
              "      <th>4</th>\n",
              "      <td>2016</td>\n",
              "      <td>30050CLRXC17LAK</td>\n",
              "      <td>CLOROX PRODUCTS MANUFACTURING CO</td>\n",
              "      <td>FOREST PARK</td>\n",
              "      <td>GA</td>\n",
              "      <td>33.6272</td>\n",
              "      <td>-84.3868</td>\n",
              "      <td>NO</td>\n",
              "      <td>Chemicals</td>\n",
              "      <td>CERTAIN GLYCOL ETHERS</td>\n",
              "      <td>YES</td>\n",
              "      <td>NO</td>\n",
              "      <td>0</td>\n",
              "      <td>NO</td>\n",
              "      <td>5</td>\n",
              "      <td>5</td>\n",
              "      <td>0</td>\n",
              "      <td>0</td>\n",
              "      <td>0</td>\n",
              "      <td>0</td>\n",
              "      <td>10</td>\n",
              "      <td>20</td>\n",
              "      <td>50</td>\n",
              "      <td>260</td>\n",
              "      <td>THE CLOROX CO</td>\n",
              "    </tr>\n",
              "    <tr>\n",
              "      <th>6</th>\n",
              "      <td>2016</td>\n",
              "      <td>48211CDLLC2500E</td>\n",
              "      <td>GENERAL MOTORS GM VA  DETROIT-HAMTRAMCK ASSEMB...</td>\n",
              "      <td>DETROIT</td>\n",
              "      <td>MI</td>\n",
              "      <td>42.382</td>\n",
              "      <td>-83.0449</td>\n",
              "      <td>NO</td>\n",
              "      <td>Transportation Equipment</td>\n",
              "      <td>NICKEL COMPOUNDS</td>\n",
              "      <td>YES</td>\n",
              "      <td>YES</td>\n",
              "      <td>1</td>\n",
              "      <td>NO</td>\n",
              "      <td>0</td>\n",
              "      <td>1</td>\n",
              "      <td>0</td>\n",
              "      <td>0</td>\n",
              "      <td>0</td>\n",
              "      <td>0</td>\n",
              "      <td>1</td>\n",
              "      <td>1080</td>\n",
              "      <td>1601</td>\n",
              "      <td>1081</td>\n",
              "      <td>GENERAL MOTORS LLC</td>\n",
              "    </tr>\n",
              "    <tr>\n",
              "      <th>7</th>\n",
              "      <td>2016</td>\n",
              "      <td>35064HNNST3812C</td>\n",
              "      <td>HANNA STEEL CORP</td>\n",
              "      <td>FAIRFIELD</td>\n",
              "      <td>AL</td>\n",
              "      <td>33.4975</td>\n",
              "      <td>-86.9114</td>\n",
              "      <td>NO</td>\n",
              "      <td>Fabricated Metals</td>\n",
              "      <td>1,2,4-TRIMETHYLBENZENE</td>\n",
              "      <td>NO</td>\n",
              "      <td>NO</td>\n",
              "      <td>0</td>\n",
              "      <td>NO</td>\n",
              "      <td>233</td>\n",
              "      <td>222</td>\n",
              "      <td>0</td>\n",
              "      <td>0</td>\n",
              "      <td>0</td>\n",
              "      <td>0</td>\n",
              "      <td>455</td>\n",
              "      <td>28</td>\n",
              "      <td>483</td>\n",
              "      <td>10017</td>\n",
              "      <td>HANNA STEEL CORP</td>\n",
              "    </tr>\n",
              "    <tr>\n",
              "      <th>...</th>\n",
              "      <td>...</td>\n",
              "      <td>...</td>\n",
              "      <td>...</td>\n",
              "      <td>...</td>\n",
              "      <td>...</td>\n",
              "      <td>...</td>\n",
              "      <td>...</td>\n",
              "      <td>...</td>\n",
              "      <td>...</td>\n",
              "      <td>...</td>\n",
              "      <td>...</td>\n",
              "      <td>...</td>\n",
              "      <td>...</td>\n",
              "      <td>...</td>\n",
              "      <td>...</td>\n",
              "      <td>...</td>\n",
              "      <td>...</td>\n",
              "      <td>...</td>\n",
              "      <td>...</td>\n",
              "      <td>...</td>\n",
              "      <td>...</td>\n",
              "      <td>...</td>\n",
              "      <td>...</td>\n",
              "      <td>...</td>\n",
              "      <td>...</td>\n",
              "    </tr>\n",
              "    <tr>\n",
              "      <th>2548764</th>\n",
              "      <td>1993</td>\n",
              "      <td>92704PWRCR2645S</td>\n",
              "      <td>TTM TECHNOLOGIES INC</td>\n",
              "      <td>SANTA ANA</td>\n",
              "      <td>CA</td>\n",
              "      <td>33.7115</td>\n",
              "      <td>-117.922</td>\n",
              "      <td>NO</td>\n",
              "      <td>Computers and Electronic Products</td>\n",
              "      <td>COPPER</td>\n",
              "      <td>NO</td>\n",
              "      <td>YES</td>\n",
              "      <td>1</td>\n",
              "      <td>NO</td>\n",
              "      <td>0</td>\n",
              "      <td>0</td>\n",
              "      <td>0</td>\n",
              "      <td>0</td>\n",
              "      <td>0</td>\n",
              "      <td>0</td>\n",
              "      <td>0</td>\n",
              "      <td>250</td>\n",
              "      <td>500</td>\n",
              "      <td>66818</td>\n",
              "      <td>TTM TECHNOLOGIES INC</td>\n",
              "    </tr>\n",
              "    <tr>\n",
              "      <th>2548765</th>\n",
              "      <td>1993</td>\n",
              "      <td>61240KNNCS2266U</td>\n",
              "      <td>KONE INC ESCALATOR DIV</td>\n",
              "      <td>COAL VALLEY</td>\n",
              "      <td>IL</td>\n",
              "      <td>41.4559</td>\n",
              "      <td>-90.3897</td>\n",
              "      <td>NO</td>\n",
              "      <td>Machinery</td>\n",
              "      <td>COPPER</td>\n",
              "      <td>NO</td>\n",
              "      <td>YES</td>\n",
              "      <td>1</td>\n",
              "      <td>NO</td>\n",
              "      <td>0</td>\n",
              "      <td>0</td>\n",
              "      <td>0</td>\n",
              "      <td>0</td>\n",
              "      <td>0</td>\n",
              "      <td>0</td>\n",
              "      <td>0</td>\n",
              "      <td>0</td>\n",
              "      <td>0</td>\n",
              "      <td>1570</td>\n",
              "      <td>KONE, INC</td>\n",
              "    </tr>\n",
              "    <tr>\n",
              "      <th>2548766</th>\n",
              "      <td>1993</td>\n",
              "      <td>46514THCNT28722</td>\n",
              "      <td>TRUCK ACCESSORIES GROUP INC. DBA CENTURY FIBER...</td>\n",
              "      <td>ELKHART</td>\n",
              "      <td>IN</td>\n",
              "      <td>41.7298</td>\n",
              "      <td>-86.018</td>\n",
              "      <td>NO</td>\n",
              "      <td>Plastics and Rubber</td>\n",
              "      <td>STYRENE</td>\n",
              "      <td>YES</td>\n",
              "      <td>NO</td>\n",
              "      <td>0</td>\n",
              "      <td>YES</td>\n",
              "      <td>2143</td>\n",
              "      <td>8569</td>\n",
              "      <td>0</td>\n",
              "      <td>0</td>\n",
              "      <td>0</td>\n",
              "      <td>0</td>\n",
              "      <td>10712</td>\n",
              "      <td>0</td>\n",
              "      <td>10712</td>\n",
              "      <td>12263</td>\n",
              "      <td>TRUCK ACCESSORIES GROUP INC</td>\n",
              "    </tr>\n",
              "    <tr>\n",
              "      <th>2548767</th>\n",
              "      <td>1993</td>\n",
              "      <td>46787HTRSN601HA</td>\n",
              "      <td>DEKKO HEATING TECHNOLOGIES #25</td>\n",
              "      <td>SOUTH WHITLEY</td>\n",
              "      <td>IN</td>\n",
              "      <td>41.0909</td>\n",
              "      <td>-85.6334</td>\n",
              "      <td>NO</td>\n",
              "      <td>Electrical Equipment</td>\n",
              "      <td>ANTIMONY COMPOUNDS</td>\n",
              "      <td>YES</td>\n",
              "      <td>YES</td>\n",
              "      <td>1</td>\n",
              "      <td>NO</td>\n",
              "      <td>0</td>\n",
              "      <td>0</td>\n",
              "      <td>0</td>\n",
              "      <td>0</td>\n",
              "      <td>0</td>\n",
              "      <td>0</td>\n",
              "      <td>0</td>\n",
              "      <td>1114</td>\n",
              "      <td>1114</td>\n",
              "      <td>5066</td>\n",
              "      <td>DEKKO HEATING TECHS</td>\n",
              "    </tr>\n",
              "    <tr>\n",
              "      <th>2548768</th>\n",
              "      <td>1993</td>\n",
              "      <td>77704MBLCHGULFS</td>\n",
              "      <td>EXXONMOBIL OIL CORP CHEMICAL PLANT</td>\n",
              "      <td>BEAUMONT</td>\n",
              "      <td>TX</td>\n",
              "      <td>30.0633</td>\n",
              "      <td>-94.0596</td>\n",
              "      <td>NO</td>\n",
              "      <td>Chemicals</td>\n",
              "      <td>COPPER</td>\n",
              "      <td>NO</td>\n",
              "      <td>YES</td>\n",
              "      <td>1</td>\n",
              "      <td>NO</td>\n",
              "      <td>0</td>\n",
              "      <td>0</td>\n",
              "      <td>0</td>\n",
              "      <td>0</td>\n",
              "      <td>0</td>\n",
              "      <td>0</td>\n",
              "      <td>0</td>\n",
              "      <td>0</td>\n",
              "      <td>0</td>\n",
              "      <td>0</td>\n",
              "      <td>EXXON MOBIL CORP</td>\n",
              "    </tr>\n",
              "  </tbody>\n",
              "</table>\n",
              "<p>2087538 rows × 25 columns</p>\n",
              "</div>"
            ],
            "text/plain": [
              "         YEAR  ...          PARENT_COMPANY_NAME\n",
              "2        2016  ...                  CARGILL INC\n",
              "3        2016  ...       ACUSHNET HOLDINGS CORP\n",
              "4        2016  ...                THE CLOROX CO\n",
              "6        2016  ...           GENERAL MOTORS LLC\n",
              "7        2016  ...             HANNA STEEL CORP\n",
              "...       ...  ...                          ...\n",
              "2548764  1993  ...         TTM TECHNOLOGIES INC\n",
              "2548765  1993  ...                    KONE, INC\n",
              "2548766  1993  ...  TRUCK ACCESSORIES GROUP INC\n",
              "2548767  1993  ...          DEKKO HEATING TECHS\n",
              "2548768  1993  ...             EXXON MOBIL CORP\n",
              "\n",
              "[2087538 rows x 25 columns]"
            ]
          },
          "metadata": {},
          "execution_count": 28
        }
      ]
    },
    {
      "cell_type": "markdown",
      "metadata": {
        "id": "zAINspHsIz_1"
      },
      "source": [
        "**Command to check which value occurs most frequently in the 'Year' column.**"
      ]
    },
    {
      "cell_type": "markdown",
      "metadata": {
        "id": "LzsR_9hBj286"
      },
      "source": [
        "**Using the concept of 'Mode' to derive the most frequently occuring value in a particular column.**"
      ]
    },
    {
      "cell_type": "code",
      "metadata": {
        "colab": {
          "base_uri": "https://localhost:8080/"
        },
        "id": "xAoNN69ETXBT",
        "outputId": "72630c72-ffe9-46d1-a6af-9a0f0613d091"
      },
      "source": [
        "from scipy import stats\n",
        "\n",
        "frequent_year, count = stats.mode(df['YEAR'])\n",
        "\n",
        "Mode_of_year = int(frequent_year) \n",
        "print(Mode_of_year)"
      ],
      "execution_count": null,
      "outputs": [
        {
          "output_type": "stream",
          "name": "stdout",
          "text": [
            "2014\n"
          ]
        }
      ]
    },
    {
      "cell_type": "code",
      "metadata": {
        "colab": {
          "base_uri": "https://localhost:8080/"
        },
        "id": "FoG91Ux3TkmI",
        "outputId": "78abf70f-6d89-44cf-e13b-76fcaf2049fd"
      },
      "source": [
        "group_by_year = df.groupby(['YEAR'])\n",
        "group_by_year.size()"
      ],
      "execution_count": null,
      "outputs": [
        {
          "output_type": "execute_result",
          "data": {
            "text/plain": [
              "YEAR\n",
              "1993     63771\n",
              "1994     60197\n",
              "1995     60630\n",
              "1996     59463\n",
              "1997     59510\n",
              "1998     73223\n",
              "1999     69972\n",
              "2000     76324\n",
              "2001     79836\n",
              "2002     78297\n",
              "2003     76917\n",
              "2004     75557\n",
              "2005     75602\n",
              "2006     75076\n",
              "2007     74111\n",
              "2008     72862\n",
              "2009     68565\n",
              "2010     68710\n",
              "2011    137800\n",
              "2012    137802\n",
              "2013    138162\n",
              "2014    138773\n",
              "2015    135200\n",
              "2016    131178\n",
              "dtype: int64"
            ]
          },
          "metadata": {},
          "execution_count": 30
        }
      ]
    },
    {
      "cell_type": "code",
      "metadata": {
        "id": "48_obXuuTyQd"
      },
      "source": [
        "#Considering past 10 years\n",
        "df = df.drop(df[df.YEAR <2007].index)"
      ],
      "execution_count": null,
      "outputs": []
    },
    {
      "cell_type": "code",
      "metadata": {
        "colab": {
          "base_uri": "https://localhost:8080/"
        },
        "id": "DIs4b2bYT6LB",
        "outputId": "a78089e9-f04c-4332-efb3-240ce9da652f"
      },
      "source": [
        "group_by_year = df.groupby(['YEAR'])\n",
        "group_by_year.size()"
      ],
      "execution_count": null,
      "outputs": [
        {
          "output_type": "execute_result",
          "data": {
            "text/plain": [
              "YEAR\n",
              "2007     74111\n",
              "2008     72862\n",
              "2009     68565\n",
              "2010     68710\n",
              "2011    137800\n",
              "2012    137802\n",
              "2013    138162\n",
              "2014    138773\n",
              "2015    135200\n",
              "2016    131178\n",
              "dtype: int64"
            ]
          },
          "metadata": {},
          "execution_count": 32
        }
      ]
    },
    {
      "cell_type": "code",
      "metadata": {
        "colab": {
          "base_uri": "https://localhost:8080/",
          "height": 739
        },
        "id": "baZNs73_pRa4",
        "outputId": "bbab5d4e-57e4-4fe4-b647-f7f3c5469f34"
      },
      "source": [
        "df"
      ],
      "execution_count": null,
      "outputs": [
        {
          "output_type": "execute_result",
          "data": {
            "text/html": [
              "<div>\n",
              "<style scoped>\n",
              "    .dataframe tbody tr th:only-of-type {\n",
              "        vertical-align: middle;\n",
              "    }\n",
              "\n",
              "    .dataframe tbody tr th {\n",
              "        vertical-align: top;\n",
              "    }\n",
              "\n",
              "    .dataframe thead th {\n",
              "        text-align: right;\n",
              "    }\n",
              "</style>\n",
              "<table border=\"1\" class=\"dataframe\">\n",
              "  <thead>\n",
              "    <tr style=\"text-align: right;\">\n",
              "      <th></th>\n",
              "      <th>YEAR</th>\n",
              "      <th>TRI_FACILITY_ID</th>\n",
              "      <th>FACILITY_NAME</th>\n",
              "      <th>CITY</th>\n",
              "      <th>ST</th>\n",
              "      <th>LATITUDE</th>\n",
              "      <th>LONGITUDE</th>\n",
              "      <th>FEDERAL_FACILITY</th>\n",
              "      <th>INDUSTRY_SECTOR</th>\n",
              "      <th>CHEMICAL</th>\n",
              "      <th>CLEAR_AIR_ACT_CHEMICAL</th>\n",
              "      <th>METAL</th>\n",
              "      <th>METAL_CATEGORY</th>\n",
              "      <th>CARCINOGEN</th>\n",
              "      <th>5.1_FUGITIVE_AIR</th>\n",
              "      <th>5.2_STACK_AIR</th>\n",
              "      <th>5.3_WATER</th>\n",
              "      <th>5.4_UNDERGROUND</th>\n",
              "      <th>5.5.1_LANDFILLS</th>\n",
              "      <th>5.5.4_OTHER_DISPOSAL</th>\n",
              "      <th>ON-SITE_RELEASE_TOTAL</th>\n",
              "      <th>OFF-SITE_RELEASE_TOTAL</th>\n",
              "      <th>TOTAL_RELEASES</th>\n",
              "      <th>PROD._WASTE_(8.1_THRU_8.7)</th>\n",
              "      <th>PARENT_COMPANY_NAME</th>\n",
              "    </tr>\n",
              "  </thead>\n",
              "  <tbody>\n",
              "    <tr>\n",
              "      <th>2</th>\n",
              "      <td>2016</td>\n",
              "      <td>44691CRGLL1203T</td>\n",
              "      <td>CARGILL ANIMAL NUTRITION</td>\n",
              "      <td>WOOSTER</td>\n",
              "      <td>OH</td>\n",
              "      <td>40.7847</td>\n",
              "      <td>-81.9396</td>\n",
              "      <td>NO</td>\n",
              "      <td>Food</td>\n",
              "      <td>ZINC COMPOUNDS</td>\n",
              "      <td>NO</td>\n",
              "      <td>YES</td>\n",
              "      <td>1</td>\n",
              "      <td>NO</td>\n",
              "      <td>0</td>\n",
              "      <td>0</td>\n",
              "      <td>0</td>\n",
              "      <td>0</td>\n",
              "      <td>0</td>\n",
              "      <td>0</td>\n",
              "      <td>0</td>\n",
              "      <td>0</td>\n",
              "      <td>0</td>\n",
              "      <td>0</td>\n",
              "      <td>CARGILL INC</td>\n",
              "    </tr>\n",
              "    <tr>\n",
              "      <th>3</th>\n",
              "      <td>2016</td>\n",
              "      <td>02745CSHNT215DU</td>\n",
              "      <td>ACUSHNET CO BALL PLANT III</td>\n",
              "      <td>NEW BEDFORD</td>\n",
              "      <td>MA</td>\n",
              "      <td>41.7254</td>\n",
              "      <td>-70.9552</td>\n",
              "      <td>NO</td>\n",
              "      <td>Miscellaneous Manufacturing</td>\n",
              "      <td>DIISOCYANATES</td>\n",
              "      <td>YES</td>\n",
              "      <td>NO</td>\n",
              "      <td>0</td>\n",
              "      <td>NO</td>\n",
              "      <td>0</td>\n",
              "      <td>0</td>\n",
              "      <td>0</td>\n",
              "      <td>0</td>\n",
              "      <td>0</td>\n",
              "      <td>0</td>\n",
              "      <td>0</td>\n",
              "      <td>0</td>\n",
              "      <td>0</td>\n",
              "      <td>2297</td>\n",
              "      <td>ACUSHNET HOLDINGS CORP</td>\n",
              "    </tr>\n",
              "    <tr>\n",
              "      <th>4</th>\n",
              "      <td>2016</td>\n",
              "      <td>30050CLRXC17LAK</td>\n",
              "      <td>CLOROX PRODUCTS MANUFACTURING CO</td>\n",
              "      <td>FOREST PARK</td>\n",
              "      <td>GA</td>\n",
              "      <td>33.6272</td>\n",
              "      <td>-84.3868</td>\n",
              "      <td>NO</td>\n",
              "      <td>Chemicals</td>\n",
              "      <td>CERTAIN GLYCOL ETHERS</td>\n",
              "      <td>YES</td>\n",
              "      <td>NO</td>\n",
              "      <td>0</td>\n",
              "      <td>NO</td>\n",
              "      <td>5</td>\n",
              "      <td>5</td>\n",
              "      <td>0</td>\n",
              "      <td>0</td>\n",
              "      <td>0</td>\n",
              "      <td>0</td>\n",
              "      <td>10</td>\n",
              "      <td>20</td>\n",
              "      <td>50</td>\n",
              "      <td>260</td>\n",
              "      <td>THE CLOROX CO</td>\n",
              "    </tr>\n",
              "    <tr>\n",
              "      <th>6</th>\n",
              "      <td>2016</td>\n",
              "      <td>48211CDLLC2500E</td>\n",
              "      <td>GENERAL MOTORS GM VA  DETROIT-HAMTRAMCK ASSEMB...</td>\n",
              "      <td>DETROIT</td>\n",
              "      <td>MI</td>\n",
              "      <td>42.382</td>\n",
              "      <td>-83.0449</td>\n",
              "      <td>NO</td>\n",
              "      <td>Transportation Equipment</td>\n",
              "      <td>NICKEL COMPOUNDS</td>\n",
              "      <td>YES</td>\n",
              "      <td>YES</td>\n",
              "      <td>1</td>\n",
              "      <td>NO</td>\n",
              "      <td>0</td>\n",
              "      <td>1</td>\n",
              "      <td>0</td>\n",
              "      <td>0</td>\n",
              "      <td>0</td>\n",
              "      <td>0</td>\n",
              "      <td>1</td>\n",
              "      <td>1080</td>\n",
              "      <td>1601</td>\n",
              "      <td>1081</td>\n",
              "      <td>GENERAL MOTORS LLC</td>\n",
              "    </tr>\n",
              "    <tr>\n",
              "      <th>7</th>\n",
              "      <td>2016</td>\n",
              "      <td>35064HNNST3812C</td>\n",
              "      <td>HANNA STEEL CORP</td>\n",
              "      <td>FAIRFIELD</td>\n",
              "      <td>AL</td>\n",
              "      <td>33.4975</td>\n",
              "      <td>-86.9114</td>\n",
              "      <td>NO</td>\n",
              "      <td>Fabricated Metals</td>\n",
              "      <td>1,2,4-TRIMETHYLBENZENE</td>\n",
              "      <td>NO</td>\n",
              "      <td>NO</td>\n",
              "      <td>0</td>\n",
              "      <td>NO</td>\n",
              "      <td>233</td>\n",
              "      <td>222</td>\n",
              "      <td>0</td>\n",
              "      <td>0</td>\n",
              "      <td>0</td>\n",
              "      <td>0</td>\n",
              "      <td>455</td>\n",
              "      <td>28</td>\n",
              "      <td>483</td>\n",
              "      <td>10017</td>\n",
              "      <td>HANNA STEEL CORP</td>\n",
              "    </tr>\n",
              "    <tr>\n",
              "      <th>...</th>\n",
              "      <td>...</td>\n",
              "      <td>...</td>\n",
              "      <td>...</td>\n",
              "      <td>...</td>\n",
              "      <td>...</td>\n",
              "      <td>...</td>\n",
              "      <td>...</td>\n",
              "      <td>...</td>\n",
              "      <td>...</td>\n",
              "      <td>...</td>\n",
              "      <td>...</td>\n",
              "      <td>...</td>\n",
              "      <td>...</td>\n",
              "      <td>...</td>\n",
              "      <td>...</td>\n",
              "      <td>...</td>\n",
              "      <td>...</td>\n",
              "      <td>...</td>\n",
              "      <td>...</td>\n",
              "      <td>...</td>\n",
              "      <td>...</td>\n",
              "      <td>...</td>\n",
              "      <td>...</td>\n",
              "      <td>...</td>\n",
              "      <td>...</td>\n",
              "    </tr>\n",
              "    <tr>\n",
              "      <th>1323389</th>\n",
              "      <td>2007</td>\n",
              "      <td>01810RYTHN350LO</td>\n",
              "      <td>RAYTHEON CO</td>\n",
              "      <td>ANDOVER</td>\n",
              "      <td>MA</td>\n",
              "      <td>42.64385</td>\n",
              "      <td>-71.19017</td>\n",
              "      <td>NO</td>\n",
              "      <td>Transportation Equipment</td>\n",
              "      <td>LEAD</td>\n",
              "      <td>YES</td>\n",
              "      <td>YES</td>\n",
              "      <td>1</td>\n",
              "      <td>YES</td>\n",
              "      <td>0</td>\n",
              "      <td>0</td>\n",
              "      <td>0</td>\n",
              "      <td>0</td>\n",
              "      <td>0</td>\n",
              "      <td>0</td>\n",
              "      <td>0</td>\n",
              "      <td>0</td>\n",
              "      <td>0</td>\n",
              "      <td>4875</td>\n",
              "      <td>RAYTHEON CO</td>\n",
              "    </tr>\n",
              "    <tr>\n",
              "      <th>1323391</th>\n",
              "      <td>2007</td>\n",
              "      <td>17566BCKCXBOX23</td>\n",
              "      <td>BUCK CO INC</td>\n",
              "      <td>QUARRYVILLE</td>\n",
              "      <td>PA</td>\n",
              "      <td>39.88191</td>\n",
              "      <td>-76.23175</td>\n",
              "      <td>NO</td>\n",
              "      <td>Primary Metals</td>\n",
              "      <td>TRIETHYLAMINE</td>\n",
              "      <td>YES</td>\n",
              "      <td>NO</td>\n",
              "      <td>0</td>\n",
              "      <td>NO</td>\n",
              "      <td>43</td>\n",
              "      <td>18</td>\n",
              "      <td>0</td>\n",
              "      <td>0</td>\n",
              "      <td>0</td>\n",
              "      <td>0</td>\n",
              "      <td>61</td>\n",
              "      <td>0</td>\n",
              "      <td>61</td>\n",
              "      <td>61</td>\n",
              "      <td>DIXON VALVE &amp; COUPLING CO</td>\n",
              "    </tr>\n",
              "    <tr>\n",
              "      <th>1323392</th>\n",
              "      <td>2007</td>\n",
              "      <td>22801STRYS500PL</td>\n",
              "      <td>AIRDYE SOLUTIONS LLC</td>\n",
              "      <td>HARRISONBURG</td>\n",
              "      <td>VA</td>\n",
              "      <td>38.39118</td>\n",
              "      <td>-78.90016</td>\n",
              "      <td>NO</td>\n",
              "      <td>Printing</td>\n",
              "      <td>METHANOL</td>\n",
              "      <td>YES</td>\n",
              "      <td>NO</td>\n",
              "      <td>0</td>\n",
              "      <td>NO</td>\n",
              "      <td>60</td>\n",
              "      <td>660</td>\n",
              "      <td>0</td>\n",
              "      <td>0</td>\n",
              "      <td>0</td>\n",
              "      <td>0</td>\n",
              "      <td>720</td>\n",
              "      <td>0</td>\n",
              "      <td>720</td>\n",
              "      <td>90760</td>\n",
              "      <td>AIRDYE HOLDINGS LLC</td>\n",
              "    </tr>\n",
              "    <tr>\n",
              "      <th>1323393</th>\n",
              "      <td>2007</td>\n",
              "      <td>03062TRDYN4PITT</td>\n",
              "      <td>AMPHENOL APC INC</td>\n",
              "      <td>NASHUA</td>\n",
              "      <td>NH</td>\n",
              "      <td>42.738005</td>\n",
              "      <td>-71.489815</td>\n",
              "      <td>NO</td>\n",
              "      <td>Computers and Electronic Products</td>\n",
              "      <td>FORMIC ACID</td>\n",
              "      <td>NO</td>\n",
              "      <td>NO</td>\n",
              "      <td>0</td>\n",
              "      <td>NO</td>\n",
              "      <td>5</td>\n",
              "      <td>9.98</td>\n",
              "      <td>0</td>\n",
              "      <td>0</td>\n",
              "      <td>0</td>\n",
              "      <td>0</td>\n",
              "      <td>14.98</td>\n",
              "      <td>0</td>\n",
              "      <td>14.98</td>\n",
              "      <td>2829.02</td>\n",
              "      <td>AMPHENOL CORP</td>\n",
              "    </tr>\n",
              "    <tr>\n",
              "      <th>1323394</th>\n",
              "      <td>2007</td>\n",
              "      <td>64120HWTHR8700H</td>\n",
              "      <td>HAWTHORN GENERATING FACILITY</td>\n",
              "      <td>KANSAS CITY</td>\n",
              "      <td>MO</td>\n",
              "      <td>39.130833</td>\n",
              "      <td>-94.477778</td>\n",
              "      <td>NO</td>\n",
              "      <td>Electric Utilities</td>\n",
              "      <td>MERCURY COMPOUNDS</td>\n",
              "      <td>YES</td>\n",
              "      <td>YES</td>\n",
              "      <td>1</td>\n",
              "      <td>NO</td>\n",
              "      <td>0</td>\n",
              "      <td>60</td>\n",
              "      <td>0</td>\n",
              "      <td>0</td>\n",
              "      <td>0</td>\n",
              "      <td>0</td>\n",
              "      <td>71</td>\n",
              "      <td>0</td>\n",
              "      <td>71</td>\n",
              "      <td>71</td>\n",
              "      <td>GREAT PLAINS ENERGY INC</td>\n",
              "    </tr>\n",
              "  </tbody>\n",
              "</table>\n",
              "<p>1103163 rows × 25 columns</p>\n",
              "</div>"
            ],
            "text/plain": [
              "         YEAR  ...        PARENT_COMPANY_NAME\n",
              "2        2016  ...                CARGILL INC\n",
              "3        2016  ...     ACUSHNET HOLDINGS CORP\n",
              "4        2016  ...              THE CLOROX CO\n",
              "6        2016  ...         GENERAL MOTORS LLC\n",
              "7        2016  ...           HANNA STEEL CORP\n",
              "...       ...  ...                        ...\n",
              "1323389  2007  ...                RAYTHEON CO\n",
              "1323391  2007  ...  DIXON VALVE & COUPLING CO\n",
              "1323392  2007  ...        AIRDYE HOLDINGS LLC\n",
              "1323393  2007  ...              AMPHENOL CORP\n",
              "1323394  2007  ...    GREAT PLAINS ENERGY INC\n",
              "\n",
              "[1103163 rows x 25 columns]"
            ]
          },
          "metadata": {},
          "execution_count": 33
        }
      ]
    },
    {
      "cell_type": "code",
      "metadata": {
        "colab": {
          "base_uri": "https://localhost:8080/",
          "height": 298
        },
        "id": "PHAU645qT_Mz",
        "outputId": "8125b5eb-57e5-48f7-f976-de45beb3bc92"
      },
      "source": [
        "df.YEAR.value_counts().plot.bar()\n"
      ],
      "execution_count": null,
      "outputs": [
        {
          "output_type": "execute_result",
          "data": {
            "text/plain": [
              "<matplotlib.axes._subplots.AxesSubplot at 0x7fdb82aeb3d0>"
            ]
          },
          "metadata": {},
          "execution_count": 34
        },
        {
          "output_type": "display_data",
          "data": {
            "image/png": "[encoded data removed]",
            "text/plain": [
              "<Figure size 432x288 with 1 Axes>"
            ]
          },
          "metadata": {
            "needs_background": "light"
          }
        }
      ]
    },
    {
      "cell_type": "markdown",
      "metadata": {
        "id": "vluO_QzAvxdB"
      },
      "source": [
        "**Applying the concept of VISUALIZATION to better understand a particular column (here YEAR) and plot a bar graph for the same.**"
      ]
    },
    {
      "cell_type": "code",
      "metadata": {
        "colab": {
          "base_uri": "https://localhost:8080/"
        },
        "id": "1Pkj833rUDvH",
        "outputId": "2428917d-dcae-4c45-bf61-c06c88393433"
      },
      "source": [
        "sum(df['LATITUDE'].map(type) == str)\n"
      ],
      "execution_count": null,
      "outputs": [
        {
          "output_type": "execute_result",
          "data": {
            "text/plain": [
              "106770"
            ]
          },
          "metadata": {},
          "execution_count": 35
        }
      ]
    },
    {
      "cell_type": "code",
      "metadata": {
        "colab": {
          "base_uri": "https://localhost:8080/"
        },
        "id": "yV333sjDUFBg",
        "outputId": "c8dc228b-2d11-4019-dd8c-3ad5568df990"
      },
      "source": [
        "sum(df['LONGITUDE'].map(type) == str)\n"
      ],
      "execution_count": null,
      "outputs": [
        {
          "output_type": "execute_result",
          "data": {
            "text/plain": [
              "106770"
            ]
          },
          "metadata": {},
          "execution_count": 36
        }
      ]
    },
    {
      "cell_type": "code",
      "metadata": {
        "id": "tHNa-BDIUHuv"
      },
      "source": [
        "df['LATITUDE'] = pd.to_numeric(df['LATITUDE'])\n",
        "df['LONGITUDE'] = pd.to_numeric(df['LONGITUDE'])"
      ],
      "execution_count": null,
      "outputs": []
    },
    {
      "cell_type": "code",
      "metadata": {
        "colab": {
          "base_uri": "https://localhost:8080/"
        },
        "id": "pJQo3xCbULec",
        "outputId": "f4843064-7aa8-4cc0-f26a-5014623ece29"
      },
      "source": [
        "type(df['LATITUDE'][3])"
      ],
      "execution_count": null,
      "outputs": [
        {
          "output_type": "execute_result",
          "data": {
            "text/plain": [
              "numpy.float64"
            ]
          },
          "metadata": {},
          "execution_count": 38
        }
      ]
    },
    {
      "cell_type": "code",
      "metadata": {
        "colab": {
          "base_uri": "https://localhost:8080/"
        },
        "id": "zs4eN-NsUQ4B",
        "outputId": "9b13f23e-0ff4-4965-b322-e8fa8fecf779"
      },
      "source": [
        "sum(df['FACILITY_NAME'].map(type) == str)"
      ],
      "execution_count": null,
      "outputs": [
        {
          "output_type": "execute_result",
          "data": {
            "text/plain": [
              "1103163"
            ]
          },
          "metadata": {},
          "execution_count": 39
        }
      ]
    },
    {
      "cell_type": "code",
      "metadata": {
        "colab": {
          "base_uri": "https://localhost:8080/"
        },
        "id": "69B5JVFVUU4u",
        "outputId": "2ea3ba7e-d064-4da9-e806-00455c19fb4f"
      },
      "source": [
        "group_by_year = df.groupby(['CARCINOGEN'])\n",
        "group_by_year.size()"
      ],
      "execution_count": null,
      "outputs": [
        {
          "output_type": "execute_result",
          "data": {
            "text/plain": [
              "CARCINOGEN\n",
              "NO     843006\n",
              "YES    260157\n",
              "dtype: int64"
            ]
          },
          "metadata": {},
          "execution_count": 40
        }
      ]
    },
    {
      "cell_type": "code",
      "metadata": {
        "colab": {
          "base_uri": "https://localhost:8080/",
          "height": 291
        },
        "id": "ozqope-nUaEP",
        "outputId": "2962bc3b-c78b-4724-bb44-04e0d82a83ca"
      },
      "source": [
        "df.CARCINOGEN.value_counts().plot.bar()"
      ],
      "execution_count": null,
      "outputs": [
        {
          "output_type": "execute_result",
          "data": {
            "text/plain": [
              "<matplotlib.axes._subplots.AxesSubplot at 0x7fdb82a89210>"
            ]
          },
          "metadata": {},
          "execution_count": 41
        },
        {
          "output_type": "display_data",
          "data": {
            "image/png": "[encoded data removed]",
            "text/plain": [
              "<Figure size 432x288 with 1 Axes>"
            ]
          },
          "metadata": {
            "needs_background": "light"
          }
        }
      ]
    },
    {
      "cell_type": "markdown",
      "metadata": {
        "id": "JUwz_Ez_kRYB"
      },
      "source": [
        "**The graph plot shows comparison of values under 'CARCINOGEN' column in the dataset.**"
      ]
    },
    {
      "cell_type": "markdown",
      "metadata": {
        "id": "41Y6kaA3vT0t"
      },
      "source": [
        "**It can be seen that this parcitular column has just two values: YES and NO.**"
      ]
    },
    {
      "cell_type": "code",
      "metadata": {
        "colab": {
          "base_uri": "https://localhost:8080/"
        },
        "id": "YLBgV88cqAkN",
        "outputId": "f474c629-5de2-45e6-84a1-a94bead0bc99"
      },
      "source": [
        "group_by_carrier = df.groupby(['TRI_FACILITY_ID'])\n",
        "group_by_carrier.size()"
      ],
      "execution_count": null,
      "outputs": [
        {
          "output_type": "execute_result",
          "data": {
            "text/plain": [
              "TRI_FACILITY_ID\n",
              "00602SMRTMRD115      8\n",
              "00603HWLTTSTATE     30\n",
              "00603SYMMTLAMNT      3\n",
              "0060WHPNTRCARR1      4\n",
              "00610BXTRHROAD4     17\n",
              "                  ... \n",
              "99801KNNCT13401    162\n",
              "9982WGLCRBPBX14      9\n",
              "99901LSKSH381TN      8\n",
              "99901SCSTG1300S     17\n",
              "99929TRDNT641SH      1\n",
              "Length: 23717, dtype: int64"
            ]
          },
          "metadata": {},
          "execution_count": 42
        }
      ]
    },
    {
      "cell_type": "code",
      "metadata": {
        "colab": {
          "base_uri": "https://localhost:8080/",
          "height": 739
        },
        "id": "QKmi9QdMr3Yz",
        "outputId": "7b44065d-7e6d-448e-c900-7a93e2cab331"
      },
      "source": [
        "df"
      ],
      "execution_count": null,
      "outputs": [
        {
          "output_type": "execute_result",
          "data": {
            "text/html": [
              "<div>\n",
              "<style scoped>\n",
              "    .dataframe tbody tr th:only-of-type {\n",
              "        vertical-align: middle;\n",
              "    }\n",
              "\n",
              "    .dataframe tbody tr th {\n",
              "        vertical-align: top;\n",
              "    }\n",
              "\n",
              "    .dataframe thead th {\n",
              "        text-align: right;\n",
              "    }\n",
              "</style>\n",
              "<table border=\"1\" class=\"dataframe\">\n",
              "  <thead>\n",
              "    <tr style=\"text-align: right;\">\n",
              "      <th></th>\n",
              "      <th>YEAR</th>\n",
              "      <th>TRI_FACILITY_ID</th>\n",
              "      <th>FACILITY_NAME</th>\n",
              "      <th>CITY</th>\n",
              "      <th>ST</th>\n",
              "      <th>LATITUDE</th>\n",
              "      <th>LONGITUDE</th>\n",
              "      <th>FEDERAL_FACILITY</th>\n",
              "      <th>INDUSTRY_SECTOR</th>\n",
              "      <th>CHEMICAL</th>\n",
              "      <th>CLEAR_AIR_ACT_CHEMICAL</th>\n",
              "      <th>METAL</th>\n",
              "      <th>METAL_CATEGORY</th>\n",
              "      <th>CARCINOGEN</th>\n",
              "      <th>5.1_FUGITIVE_AIR</th>\n",
              "      <th>5.2_STACK_AIR</th>\n",
              "      <th>5.3_WATER</th>\n",
              "      <th>5.4_UNDERGROUND</th>\n",
              "      <th>5.5.1_LANDFILLS</th>\n",
              "      <th>5.5.4_OTHER_DISPOSAL</th>\n",
              "      <th>ON-SITE_RELEASE_TOTAL</th>\n",
              "      <th>OFF-SITE_RELEASE_TOTAL</th>\n",
              "      <th>TOTAL_RELEASES</th>\n",
              "      <th>PROD._WASTE_(8.1_THRU_8.7)</th>\n",
              "      <th>PARENT_COMPANY_NAME</th>\n",
              "    </tr>\n",
              "  </thead>\n",
              "  <tbody>\n",
              "    <tr>\n",
              "      <th>2</th>\n",
              "      <td>2016</td>\n",
              "      <td>44691CRGLL1203T</td>\n",
              "      <td>CARGILL ANIMAL NUTRITION</td>\n",
              "      <td>WOOSTER</td>\n",
              "      <td>OH</td>\n",
              "      <td>40.784710</td>\n",
              "      <td>-81.939580</td>\n",
              "      <td>NO</td>\n",
              "      <td>Food</td>\n",
              "      <td>ZINC COMPOUNDS</td>\n",
              "      <td>NO</td>\n",
              "      <td>YES</td>\n",
              "      <td>1</td>\n",
              "      <td>NO</td>\n",
              "      <td>0</td>\n",
              "      <td>0</td>\n",
              "      <td>0</td>\n",
              "      <td>0</td>\n",
              "      <td>0</td>\n",
              "      <td>0</td>\n",
              "      <td>0</td>\n",
              "      <td>0</td>\n",
              "      <td>0</td>\n",
              "      <td>0</td>\n",
              "      <td>CARGILL INC</td>\n",
              "    </tr>\n",
              "    <tr>\n",
              "      <th>3</th>\n",
              "      <td>2016</td>\n",
              "      <td>02745CSHNT215DU</td>\n",
              "      <td>ACUSHNET CO BALL PLANT III</td>\n",
              "      <td>NEW BEDFORD</td>\n",
              "      <td>MA</td>\n",
              "      <td>41.725430</td>\n",
              "      <td>-70.955170</td>\n",
              "      <td>NO</td>\n",
              "      <td>Miscellaneous Manufacturing</td>\n",
              "      <td>DIISOCYANATES</td>\n",
              "      <td>YES</td>\n",
              "      <td>NO</td>\n",
              "      <td>0</td>\n",
              "      <td>NO</td>\n",
              "      <td>0</td>\n",
              "      <td>0</td>\n",
              "      <td>0</td>\n",
              "      <td>0</td>\n",
              "      <td>0</td>\n",
              "      <td>0</td>\n",
              "      <td>0</td>\n",
              "      <td>0</td>\n",
              "      <td>0</td>\n",
              "      <td>2297</td>\n",
              "      <td>ACUSHNET HOLDINGS CORP</td>\n",
              "    </tr>\n",
              "    <tr>\n",
              "      <th>4</th>\n",
              "      <td>2016</td>\n",
              "      <td>30050CLRXC17LAK</td>\n",
              "      <td>CLOROX PRODUCTS MANUFACTURING CO</td>\n",
              "      <td>FOREST PARK</td>\n",
              "      <td>GA</td>\n",
              "      <td>33.627222</td>\n",
              "      <td>-84.386839</td>\n",
              "      <td>NO</td>\n",
              "      <td>Chemicals</td>\n",
              "      <td>CERTAIN GLYCOL ETHERS</td>\n",
              "      <td>YES</td>\n",
              "      <td>NO</td>\n",
              "      <td>0</td>\n",
              "      <td>NO</td>\n",
              "      <td>5</td>\n",
              "      <td>5</td>\n",
              "      <td>0</td>\n",
              "      <td>0</td>\n",
              "      <td>0</td>\n",
              "      <td>0</td>\n",
              "      <td>10</td>\n",
              "      <td>20</td>\n",
              "      <td>50</td>\n",
              "      <td>260</td>\n",
              "      <td>THE CLOROX CO</td>\n",
              "    </tr>\n",
              "    <tr>\n",
              "      <th>6</th>\n",
              "      <td>2016</td>\n",
              "      <td>48211CDLLC2500E</td>\n",
              "      <td>GENERAL MOTORS GM VA  DETROIT-HAMTRAMCK ASSEMB...</td>\n",
              "      <td>DETROIT</td>\n",
              "      <td>MI</td>\n",
              "      <td>42.381971</td>\n",
              "      <td>-83.044919</td>\n",
              "      <td>NO</td>\n",
              "      <td>Transportation Equipment</td>\n",
              "      <td>NICKEL COMPOUNDS</td>\n",
              "      <td>YES</td>\n",
              "      <td>YES</td>\n",
              "      <td>1</td>\n",
              "      <td>NO</td>\n",
              "      <td>0</td>\n",
              "      <td>1</td>\n",
              "      <td>0</td>\n",
              "      <td>0</td>\n",
              "      <td>0</td>\n",
              "      <td>0</td>\n",
              "      <td>1</td>\n",
              "      <td>1080</td>\n",
              "      <td>1601</td>\n",
              "      <td>1081</td>\n",
              "      <td>GENERAL MOTORS LLC</td>\n",
              "    </tr>\n",
              "    <tr>\n",
              "      <th>7</th>\n",
              "      <td>2016</td>\n",
              "      <td>35064HNNST3812C</td>\n",
              "      <td>HANNA STEEL CORP</td>\n",
              "      <td>FAIRFIELD</td>\n",
              "      <td>AL</td>\n",
              "      <td>33.497505</td>\n",
              "      <td>-86.911426</td>\n",
              "      <td>NO</td>\n",
              "      <td>Fabricated Metals</td>\n",
              "      <td>1,2,4-TRIMETHYLBENZENE</td>\n",
              "      <td>NO</td>\n",
              "      <td>NO</td>\n",
              "      <td>0</td>\n",
              "      <td>NO</td>\n",
              "      <td>233</td>\n",
              "      <td>222</td>\n",
              "      <td>0</td>\n",
              "      <td>0</td>\n",
              "      <td>0</td>\n",
              "      <td>0</td>\n",
              "      <td>455</td>\n",
              "      <td>28</td>\n",
              "      <td>483</td>\n",
              "      <td>10017</td>\n",
              "      <td>HANNA STEEL CORP</td>\n",
              "    </tr>\n",
              "    <tr>\n",
              "      <th>...</th>\n",
              "      <td>...</td>\n",
              "      <td>...</td>\n",
              "      <td>...</td>\n",
              "      <td>...</td>\n",
              "      <td>...</td>\n",
              "      <td>...</td>\n",
              "      <td>...</td>\n",
              "      <td>...</td>\n",
              "      <td>...</td>\n",
              "      <td>...</td>\n",
              "      <td>...</td>\n",
              "      <td>...</td>\n",
              "      <td>...</td>\n",
              "      <td>...</td>\n",
              "      <td>...</td>\n",
              "      <td>...</td>\n",
              "      <td>...</td>\n",
              "      <td>...</td>\n",
              "      <td>...</td>\n",
              "      <td>...</td>\n",
              "      <td>...</td>\n",
              "      <td>...</td>\n",
              "      <td>...</td>\n",
              "      <td>...</td>\n",
              "      <td>...</td>\n",
              "    </tr>\n",
              "    <tr>\n",
              "      <th>1323389</th>\n",
              "      <td>2007</td>\n",
              "      <td>01810RYTHN350LO</td>\n",
              "      <td>RAYTHEON CO</td>\n",
              "      <td>ANDOVER</td>\n",
              "      <td>MA</td>\n",
              "      <td>42.643850</td>\n",
              "      <td>-71.190170</td>\n",
              "      <td>NO</td>\n",
              "      <td>Transportation Equipment</td>\n",
              "      <td>LEAD</td>\n",
              "      <td>YES</td>\n",
              "      <td>YES</td>\n",
              "      <td>1</td>\n",
              "      <td>YES</td>\n",
              "      <td>0</td>\n",
              "      <td>0</td>\n",
              "      <td>0</td>\n",
              "      <td>0</td>\n",
              "      <td>0</td>\n",
              "      <td>0</td>\n",
              "      <td>0</td>\n",
              "      <td>0</td>\n",
              "      <td>0</td>\n",
              "      <td>4875</td>\n",
              "      <td>RAYTHEON CO</td>\n",
              "    </tr>\n",
              "    <tr>\n",
              "      <th>1323391</th>\n",
              "      <td>2007</td>\n",
              "      <td>17566BCKCXBOX23</td>\n",
              "      <td>BUCK CO INC</td>\n",
              "      <td>QUARRYVILLE</td>\n",
              "      <td>PA</td>\n",
              "      <td>39.881910</td>\n",
              "      <td>-76.231750</td>\n",
              "      <td>NO</td>\n",
              "      <td>Primary Metals</td>\n",
              "      <td>TRIETHYLAMINE</td>\n",
              "      <td>YES</td>\n",
              "      <td>NO</td>\n",
              "      <td>0</td>\n",
              "      <td>NO</td>\n",
              "      <td>43</td>\n",
              "      <td>18</td>\n",
              "      <td>0</td>\n",
              "      <td>0</td>\n",
              "      <td>0</td>\n",
              "      <td>0</td>\n",
              "      <td>61</td>\n",
              "      <td>0</td>\n",
              "      <td>61</td>\n",
              "      <td>61</td>\n",
              "      <td>DIXON VALVE &amp; COUPLING CO</td>\n",
              "    </tr>\n",
              "    <tr>\n",
              "      <th>1323392</th>\n",
              "      <td>2007</td>\n",
              "      <td>22801STRYS500PL</td>\n",
              "      <td>AIRDYE SOLUTIONS LLC</td>\n",
              "      <td>HARRISONBURG</td>\n",
              "      <td>VA</td>\n",
              "      <td>38.391180</td>\n",
              "      <td>-78.900160</td>\n",
              "      <td>NO</td>\n",
              "      <td>Printing</td>\n",
              "      <td>METHANOL</td>\n",
              "      <td>YES</td>\n",
              "      <td>NO</td>\n",
              "      <td>0</td>\n",
              "      <td>NO</td>\n",
              "      <td>60</td>\n",
              "      <td>660</td>\n",
              "      <td>0</td>\n",
              "      <td>0</td>\n",
              "      <td>0</td>\n",
              "      <td>0</td>\n",
              "      <td>720</td>\n",
              "      <td>0</td>\n",
              "      <td>720</td>\n",
              "      <td>90760</td>\n",
              "      <td>AIRDYE HOLDINGS LLC</td>\n",
              "    </tr>\n",
              "    <tr>\n",
              "      <th>1323393</th>\n",
              "      <td>2007</td>\n",
              "      <td>03062TRDYN4PITT</td>\n",
              "      <td>AMPHENOL APC INC</td>\n",
              "      <td>NASHUA</td>\n",
              "      <td>NH</td>\n",
              "      <td>42.738005</td>\n",
              "      <td>-71.489815</td>\n",
              "      <td>NO</td>\n",
              "      <td>Computers and Electronic Products</td>\n",
              "      <td>FORMIC ACID</td>\n",
              "      <td>NO</td>\n",
              "      <td>NO</td>\n",
              "      <td>0</td>\n",
              "      <td>NO</td>\n",
              "      <td>5</td>\n",
              "      <td>9.98</td>\n",
              "      <td>0</td>\n",
              "      <td>0</td>\n",
              "      <td>0</td>\n",
              "      <td>0</td>\n",
              "      <td>14.98</td>\n",
              "      <td>0</td>\n",
              "      <td>14.98</td>\n",
              "      <td>2829.02</td>\n",
              "      <td>AMPHENOL CORP</td>\n",
              "    </tr>\n",
              "    <tr>\n",
              "      <th>1323394</th>\n",
              "      <td>2007</td>\n",
              "      <td>64120HWTHR8700H</td>\n",
              "      <td>HAWTHORN GENERATING FACILITY</td>\n",
              "      <td>KANSAS CITY</td>\n",
              "      <td>MO</td>\n",
              "      <td>39.130833</td>\n",
              "      <td>-94.477778</td>\n",
              "      <td>NO</td>\n",
              "      <td>Electric Utilities</td>\n",
              "      <td>MERCURY COMPOUNDS</td>\n",
              "      <td>YES</td>\n",
              "      <td>YES</td>\n",
              "      <td>1</td>\n",
              "      <td>NO</td>\n",
              "      <td>0</td>\n",
              "      <td>60</td>\n",
              "      <td>0</td>\n",
              "      <td>0</td>\n",
              "      <td>0</td>\n",
              "      <td>0</td>\n",
              "      <td>71</td>\n",
              "      <td>0</td>\n",
              "      <td>71</td>\n",
              "      <td>71</td>\n",
              "      <td>GREAT PLAINS ENERGY INC</td>\n",
              "    </tr>\n",
              "  </tbody>\n",
              "</table>\n",
              "<p>1103163 rows × 25 columns</p>\n",
              "</div>"
            ],
            "text/plain": [
              "         YEAR  ...        PARENT_COMPANY_NAME\n",
              "2        2016  ...                CARGILL INC\n",
              "3        2016  ...     ACUSHNET HOLDINGS CORP\n",
              "4        2016  ...              THE CLOROX CO\n",
              "6        2016  ...         GENERAL MOTORS LLC\n",
              "7        2016  ...           HANNA STEEL CORP\n",
              "...       ...  ...                        ...\n",
              "1323389  2007  ...                RAYTHEON CO\n",
              "1323391  2007  ...  DIXON VALVE & COUPLING CO\n",
              "1323392  2007  ...        AIRDYE HOLDINGS LLC\n",
              "1323393  2007  ...              AMPHENOL CORP\n",
              "1323394  2007  ...    GREAT PLAINS ENERGY INC\n",
              "\n",
              "[1103163 rows x 25 columns]"
            ]
          },
          "metadata": {},
          "execution_count": 43
        }
      ]
    },
    {
      "cell_type": "code",
      "metadata": {
        "colab": {
          "base_uri": "https://localhost:8080/"
        },
        "id": "J0sPngtosTji",
        "outputId": "13810f21-b3ba-4dd7-da0c-9456c76fe0d3"
      },
      "source": [
        "group_by_year = df.groupby(['CITY'])\n",
        "group_by_year.size()"
      ],
      "execution_count": null,
      "outputs": [
        {
          "output_type": "execute_result",
          "data": {
            "text/plain": [
              "CITY\n",
              "ABBEVILLE                  414\n",
              "ABBOTT PARK                 12\n",
              "ABERDEEN                   651\n",
              "ABERDEEN PROVING GROUND     41\n",
              "ABILENE                    399\n",
              "                          ... \n",
              "ZELLWOOD                    20\n",
              "ZEPHYRHILLS                 50\n",
              "ZION                        13\n",
              "ZUMBROTA                    33\n",
              "ZWOLLE                      12\n",
              "Length: 5509, dtype: int64"
            ]
          },
          "metadata": {},
          "execution_count": 44
        }
      ]
    },
    {
      "cell_type": "code",
      "metadata": {
        "id": "CkjTX-dG09fv"
      },
      "source": [
        "bool = {'YES': 1, 'NO': 0}\n",
        "df['METAL'] = df['METAL'].map(bool)\n",
        "df['FEDERAL_FACILITY'] = df['FEDERAL_FACILITY'].map(bool)\n",
        "df['CLEAR_AIR_ACT_CHEMICAL'] = df['CLEAR_AIR_ACT_CHEMICAL'].map(bool)\n",
        "df['CARCINOGEN'] = df['CARCINOGEN'].map(bool)"
      ],
      "execution_count": null,
      "outputs": []
    },
    {
      "cell_type": "code",
      "metadata": {
        "colab": {
          "base_uri": "https://localhost:8080/"
        },
        "id": "mCma0d7_1NbH",
        "outputId": "84c6d39a-f1d4-4c38-acf7-add7ce13c9cc"
      },
      "source": [
        "type(df['YEAR'][3])"
      ],
      "execution_count": null,
      "outputs": [
        {
          "output_type": "execute_result",
          "data": {
            "text/plain": [
              "numpy.int64"
            ]
          },
          "metadata": {},
          "execution_count": 47
        }
      ]
    },
    {
      "cell_type": "code",
      "metadata": {
        "colab": {
          "base_uri": "https://localhost:8080/",
          "height": 296
        },
        "id": "vu1YyLk11QSG",
        "outputId": "f40790d4-3b0c-4b8e-e475-30dce8d41921"
      },
      "source": [
        "df.plot(x='YEAR', y='CARCINOGEN', style='o')"
      ],
      "execution_count": null,
      "outputs": [
        {
          "output_type": "execute_result",
          "data": {
            "text/plain": [
              "<matplotlib.axes._subplots.AxesSubplot at 0x7fdb8259aad0>"
            ]
          },
          "metadata": {},
          "execution_count": 48
        },
        {
          "output_type": "display_data",
          "data": {
            "image/png": "[encoded data removed]",
            "text/plain": [
              "<Figure size 432x288 with 1 Axes>"
            ]
          },
          "metadata": {
            "needs_background": "light"
          }
        }
      ]
    },
    {
      "cell_type": "markdown",
      "metadata": {
        "id": "zip3M0DbvCqy"
      },
      "source": [
        "**Applying the concept of VISUALIZATION to better understand a column. (Here, Carcinogen).**"
      ]
    },
    {
      "cell_type": "code",
      "metadata": {
        "colab": {
          "base_uri": "https://localhost:8080/"
        },
        "id": "JdfR0IEEOZ4H",
        "outputId": "d482406b-222e-47ce-bc2a-6220665fd8b1"
      },
      "source": [
        "#df.plot(x=\"YEAR\", y=[\"5.2_STACK_AIR\", \"5.1_FUGITIVE_AIR\"], kind=\"bar\")\n",
        "type(df['YEAR'][4])"
      ],
      "execution_count": null,
      "outputs": [
        {
          "output_type": "execute_result",
          "data": {
            "text/plain": [
              "numpy.int64"
            ]
          },
          "metadata": {},
          "execution_count": 49
        }
      ]
    },
    {
      "cell_type": "markdown",
      "metadata": {
        "id": "bAGcd6Exmnhp"
      },
      "source": [
        "\n",
        "\n",
        "\n",
        "**PROBLEM STATEMENT: Which facility produces the Most Toxic Release in a particular city?**"
      ]
    },
    {
      "cell_type": "markdown",
      "metadata": {
        "id": "TIYwmwbZu5Lw"
      },
      "source": [
        "**The aim is to address aforementioned question using various Data Mining techniques.**"
      ]
    },
    {
      "cell_type": "markdown",
      "metadata": {
        "id": "6xpiQNItq_P-"
      },
      "source": [
        "**Applying the Standard Scaler to scale the data**\n",
        "\n"
      ]
    },
    {
      "cell_type": "markdown",
      "metadata": {
        "id": "EvZjflkKvoVO"
      },
      "source": [
        "**Importing necessary libraries for 'Scaling'**"
      ]
    },
    {
      "cell_type": "code",
      "metadata": {
        "id": "f_Drx0yAvlDa"
      },
      "source": [
        "from sklearn.preprocessing import StandardScaler"
      ],
      "execution_count": null,
      "outputs": []
    },
    {
      "cell_type": "code",
      "metadata": {
        "colab": {
          "base_uri": "https://localhost:8080/"
        },
        "id": "AlhqbBS96L0n",
        "outputId": "5535d761-fe75-4696-e7b5-f144934ade73"
      },
      "source": [
        "df.columns"
      ],
      "execution_count": null,
      "outputs": [
        {
          "output_type": "execute_result",
          "data": {
            "text/plain": [
              "Index(['YEAR', 'TRI_FACILITY_ID', 'FACILITY_NAME', 'CITY', 'ST', 'LATITUDE',\n",
              "       'LONGITUDE', 'FEDERAL_FACILITY', 'INDUSTRY_SECTOR', 'CHEMICAL',\n",
              "       'CLEAR_AIR_ACT_CHEMICAL', 'METAL', 'METAL_CATEGORY', 'CARCINOGEN',\n",
              "       '5.1_FUGITIVE_AIR', '5.2_STACK_AIR', '5.3_WATER', '5.4_UNDERGROUND',\n",
              "       '5.5.1_LANDFILLS', '5.5.4_OTHER_DISPOSAL', 'ON-SITE_RELEASE_TOTAL',\n",
              "       'OFF-SITE_RELEASE_TOTAL', 'TOTAL_RELEASES',\n",
              "       'PROD._WASTE_(8.1_THRU_8.7)', 'PARENT_COMPANY_NAME'],\n",
              "      dtype='object')"
            ]
          },
          "metadata": {},
          "execution_count": 51
        }
      ]
    },
    {
      "cell_type": "code",
      "metadata": {
        "id": "Sz_zwHLirIKX"
      },
      "source": [
        "new_df = df[[ '5.2_STACK_AIR', '5.1_FUGITIVE_AIR', 'OFF-SITE_RELEASE_TOTAL','ON-SITE_RELEASE_TOTAL', 'TOTAL_RELEASES' ,'PROD._WASTE_(8.1_THRU_8.7)']]\n",
        "#type(new_df['ON-SITE_RELEASE_TOTAL'][1])"
      ],
      "execution_count": null,
      "outputs": []
    },
    {
      "cell_type": "markdown",
      "metadata": {
        "id": "958F2dvxBiM4"
      },
      "source": [
        "**Plotting \"COVARIANCE MATRIX\" for a better understanding.**"
      ]
    },
    {
      "cell_type": "code",
      "metadata": {
        "colab": {
          "base_uri": "https://localhost:8080/",
          "height": 411
        },
        "id": "5okJe4GH4vKa",
        "outputId": "0ca505f6-ebea-4ef2-b018-7f9264af49cd"
      },
      "source": [
        "import seaborn as sns\n",
        "corr = df.corr()\n",
        "sns.heatmap(corr,annot=True)"
      ],
      "execution_count": null,
      "outputs": [
        {
          "output_type": "execute_result",
          "data": {
            "text/plain": [
              "<matplotlib.axes._subplots.AxesSubplot at 0x7fdb811c8450>"
            ]
          },
          "metadata": {},
          "execution_count": 53
        },
        {
          "output_type": "display_data",
          "data": {
            "image/png": "[encoded data removed]",
            "text/plain": [
              "<Figure size 432x288 with 2 Axes>"
            ]
          },
          "metadata": {
            "needs_background": "light"
          }
        }
      ]
    },
    {
      "cell_type": "markdown",
      "metadata": {
        "id": "yfxe6hL6lrgh"
      },
      "source": [
        "**As per the above figure, we can see the Covariance Matrix has been created showing how closely one attribute is related to other in the dataset.**"
      ]
    },
    {
      "cell_type": "code",
      "metadata": {
        "colab": {
          "base_uri": "https://localhost:8080/"
        },
        "id": "95J0UMl355-m",
        "outputId": "b8cb914e-41b2-4918-efbd-b65640139b36"
      },
      "source": [
        "standerScaler = StandardScaler()\n",
        "standerScaler.fit(new_df)\n",
        "scaled_new_ds = pd.DataFrame(standerScaler.transform(new_df), columns = new_df.columns)\n",
        "print (\"Scaling complete. Features are now scaled.\")"
      ],
      "execution_count": null,
      "outputs": [
        {
          "output_type": "stream",
          "name": "stdout",
          "text": [
            "Scaling complete. Features are now scaled.\n"
          ]
        }
      ]
    },
    {
      "cell_type": "markdown",
      "metadata": {
        "id": "_nF0Wjs75IzI"
      },
      "source": [
        "**Standardization PCA: For dimensionality reduction**"
      ]
    },
    {
      "cell_type": "markdown",
      "metadata": {
        "id": "hWi8LR7mtkE1"
      },
      "source": [
        "**The concept of \"PRINCIPAL COMPONENT ANALYSIS\" & \"DIMENSIONALITY REDUCTION\" can prove beneficial for us to determine which facility produces the most toxic release in a particular city.**"
      ]
    },
    {
      "cell_type": "markdown",
      "metadata": {
        "id": "s_dx3xaJtxKj"
      },
      "source": [
        "**With the help of this Data Mining Technique, we can focus on selected columns instead of all the columns, the ones which most likely leads to release of Toxic chemicals.**"
      ]
    },
    {
      "cell_type": "code",
      "metadata": {
        "id": "X3FvTS-A5MyC"
      },
      "source": [
        "from sklearn.decomposition import PCA\n",
        "pca = PCA(n_components = 4)"
      ],
      "execution_count": null,
      "outputs": []
    },
    {
      "cell_type": "code",
      "metadata": {
        "colab": {
          "base_uri": "https://localhost:8080/"
        },
        "id": "ckvelLb-_xIT",
        "outputId": "0f65de0d-6973-4fb9-9e42-c9891c013268"
      },
      "source": [
        "DataPCA = pca.fit_transform(scaled_new_ds)\n",
        "pca.explained_variance_ratio_.sum()"
      ],
      "execution_count": null,
      "outputs": [
        {
          "output_type": "execute_result",
          "data": {
            "text/plain": [
              "0.9022869554401405"
            ]
          },
          "metadata": {},
          "execution_count": 56
        }
      ]
    },
    {
      "cell_type": "code",
      "metadata": {
        "colab": {
          "base_uri": "https://localhost:8080/"
        },
        "id": "C7kNJd9sCrMH",
        "outputId": "477f0d72-6a17-4941-d326-44c8d4deaf9f"
      },
      "source": [
        "pca.n_components_"
      ],
      "execution_count": null,
      "outputs": [
        {
          "output_type": "execute_result",
          "data": {
            "text/plain": [
              "4"
            ]
          },
          "metadata": {},
          "execution_count": 57
        }
      ]
    },
    {
      "cell_type": "code",
      "metadata": {
        "id": "jSW2_XBvDy5I"
      },
      "source": [
        "New_Feature = pd.DataFrame(data=DataPCA, columns = ['pc1', 'pc2',  'pc3', 'pc4'])"
      ],
      "execution_count": null,
      "outputs": []
    },
    {
      "cell_type": "code",
      "metadata": {
        "colab": {
          "base_uri": "https://localhost:8080/",
          "height": 203
        },
        "id": "1LMIrw-cEH5n",
        "outputId": "e0758a84-ef55-4eaa-97d5-6d593079f102"
      },
      "source": [
        "New_Feature.head()"
      ],
      "execution_count": null,
      "outputs": [
        {
          "output_type": "execute_result",
          "data": {
            "text/html": [
              "<div>\n",
              "<style scoped>\n",
              "    .dataframe tbody tr th:only-of-type {\n",
              "        vertical-align: middle;\n",
              "    }\n",
              "\n",
              "    .dataframe tbody tr th {\n",
              "        vertical-align: top;\n",
              "    }\n",
              "\n",
              "    .dataframe thead th {\n",
              "        text-align: right;\n",
              "    }\n",
              "</style>\n",
              "<table border=\"1\" class=\"dataframe\">\n",
              "  <thead>\n",
              "    <tr style=\"text-align: right;\">\n",
              "      <th></th>\n",
              "      <th>pc1</th>\n",
              "      <th>pc2</th>\n",
              "      <th>pc3</th>\n",
              "      <th>pc4</th>\n",
              "    </tr>\n",
              "  </thead>\n",
              "  <tbody>\n",
              "    <tr>\n",
              "      <th>0</th>\n",
              "      <td>-0.069064</td>\n",
              "      <td>-0.087704</td>\n",
              "      <td>-0.043062</td>\n",
              "      <td>0.026289</td>\n",
              "    </tr>\n",
              "    <tr>\n",
              "      <th>1</th>\n",
              "      <td>-0.068822</td>\n",
              "      <td>-0.087657</td>\n",
              "      <td>-0.043057</td>\n",
              "      <td>0.026274</td>\n",
              "    </tr>\n",
              "    <tr>\n",
              "      <th>2</th>\n",
              "      <td>-0.069006</td>\n",
              "      <td>-0.087598</td>\n",
              "      <td>-0.042921</td>\n",
              "      <td>0.026331</td>\n",
              "    </tr>\n",
              "    <tr>\n",
              "      <th>3</th>\n",
              "      <td>-0.068220</td>\n",
              "      <td>-0.087755</td>\n",
              "      <td>-0.035418</td>\n",
              "      <td>0.026291</td>\n",
              "    </tr>\n",
              "    <tr>\n",
              "      <th>4</th>\n",
              "      <td>-0.067342</td>\n",
              "      <td>-0.082777</td>\n",
              "      <td>-0.042890</td>\n",
              "      <td>0.028320</td>\n",
              "    </tr>\n",
              "  </tbody>\n",
              "</table>\n",
              "</div>"
            ],
            "text/plain": [
              "        pc1       pc2       pc3       pc4\n",
              "0 -0.069064 -0.087704 -0.043062  0.026289\n",
              "1 -0.068822 -0.087657 -0.043057  0.026274\n",
              "2 -0.069006 -0.087598 -0.042921  0.026331\n",
              "3 -0.068220 -0.087755 -0.035418  0.026291\n",
              "4 -0.067342 -0.082777 -0.042890  0.028320"
            ]
          },
          "metadata": {},
          "execution_count": 59
        }
      ]
    },
    {
      "cell_type": "code",
      "metadata": {
        "colab": {
          "base_uri": "https://localhost:8080/"
        },
        "id": "r4JcyC2bC_mR",
        "outputId": "5d7ff8ba-6396-4df4-db2e-dd4d22c7965d"
      },
      "source": [
        "pca.explained_variance_ratio_.sum()"
      ],
      "execution_count": null,
      "outputs": [
        {
          "output_type": "execute_result",
          "data": {
            "text/plain": [
              "0.9022869554401405"
            ]
          },
          "metadata": {},
          "execution_count": 60
        }
      ]
    },
    {
      "cell_type": "markdown",
      "metadata": {
        "id": "XKb2WJ-pT0ot"
      },
      "source": [
        "**The explained variance indicates how much variance each of the primary components can account for.**"
      ]
    },
    {
      "cell_type": "markdown",
      "metadata": {
        "id": "Q4M2KBzdjVF0"
      },
      "source": [
        "**By maintaining 90% variance in the data, we found that the dimensions can be reduced to 4.**"
      ]
    },
    {
      "cell_type": "markdown",
      "metadata": {
        "id": "PJx_FEt6jd7A"
      },
      "source": [
        "**Per applying the concepts of normalization and standardization, the significant differences in values as observed earlier were contained.**"
      ]
    },
    {
      "cell_type": "code",
      "metadata": {
        "colab": {
          "base_uri": "https://localhost:8080/",
          "height": 417
        },
        "id": "k-5oYIzgjgI5",
        "outputId": "74754121-011c-4a29-9083-40355884fc1b"
      },
      "source": [
        "New_Feature"
      ],
      "execution_count": null,
      "outputs": [
        {
          "output_type": "execute_result",
          "data": {
            "text/html": [
              "<div>\n",
              "<style scoped>\n",
              "    .dataframe tbody tr th:only-of-type {\n",
              "        vertical-align: middle;\n",
              "    }\n",
              "\n",
              "    .dataframe tbody tr th {\n",
              "        vertical-align: top;\n",
              "    }\n",
              "\n",
              "    .dataframe thead th {\n",
              "        text-align: right;\n",
              "    }\n",
              "</style>\n",
              "<table border=\"1\" class=\"dataframe\">\n",
              "  <thead>\n",
              "    <tr style=\"text-align: right;\">\n",
              "      <th></th>\n",
              "      <th>pc1</th>\n",
              "      <th>pc2</th>\n",
              "      <th>pc3</th>\n",
              "      <th>pc4</th>\n",
              "    </tr>\n",
              "  </thead>\n",
              "  <tbody>\n",
              "    <tr>\n",
              "      <th>0</th>\n",
              "      <td>-0.069064</td>\n",
              "      <td>-0.087704</td>\n",
              "      <td>-0.043062</td>\n",
              "      <td>0.026289</td>\n",
              "    </tr>\n",
              "    <tr>\n",
              "      <th>1</th>\n",
              "      <td>-0.068822</td>\n",
              "      <td>-0.087657</td>\n",
              "      <td>-0.043057</td>\n",
              "      <td>0.026274</td>\n",
              "    </tr>\n",
              "    <tr>\n",
              "      <th>2</th>\n",
              "      <td>-0.069006</td>\n",
              "      <td>-0.087598</td>\n",
              "      <td>-0.042921</td>\n",
              "      <td>0.026331</td>\n",
              "    </tr>\n",
              "    <tr>\n",
              "      <th>3</th>\n",
              "      <td>-0.068220</td>\n",
              "      <td>-0.087755</td>\n",
              "      <td>-0.035418</td>\n",
              "      <td>0.026291</td>\n",
              "    </tr>\n",
              "    <tr>\n",
              "      <th>4</th>\n",
              "      <td>-0.067342</td>\n",
              "      <td>-0.082777</td>\n",
              "      <td>-0.042890</td>\n",
              "      <td>0.028320</td>\n",
              "    </tr>\n",
              "    <tr>\n",
              "      <th>...</th>\n",
              "      <td>...</td>\n",
              "      <td>...</td>\n",
              "      <td>...</td>\n",
              "      <td>...</td>\n",
              "    </tr>\n",
              "    <tr>\n",
              "      <th>1103158</th>\n",
              "      <td>-0.068550</td>\n",
              "      <td>-0.087604</td>\n",
              "      <td>-0.043051</td>\n",
              "      <td>0.026257</td>\n",
              "    </tr>\n",
              "    <tr>\n",
              "      <th>1103159</th>\n",
              "      <td>-0.068966</td>\n",
              "      <td>-0.086969</td>\n",
              "      <td>-0.043068</td>\n",
              "      <td>0.026817</td>\n",
              "    </tr>\n",
              "    <tr>\n",
              "      <th>1103160</th>\n",
              "      <td>-0.058574</td>\n",
              "      <td>-0.081010</td>\n",
              "      <td>-0.042936</td>\n",
              "      <td>0.022510</td>\n",
              "    </tr>\n",
              "    <tr>\n",
              "      <th>1103161</th>\n",
              "      <td>-0.068745</td>\n",
              "      <td>-0.087514</td>\n",
              "      <td>-0.043057</td>\n",
              "      <td>0.026283</td>\n",
              "    </tr>\n",
              "    <tr>\n",
              "      <th>1103162</th>\n",
              "      <td>-0.068975</td>\n",
              "      <td>-0.087344</td>\n",
              "      <td>-0.043068</td>\n",
              "      <td>0.025919</td>\n",
              "    </tr>\n",
              "  </tbody>\n",
              "</table>\n",
              "<p>1103163 rows × 4 columns</p>\n",
              "</div>"
            ],
            "text/plain": [
              "              pc1       pc2       pc3       pc4\n",
              "0       -0.069064 -0.087704 -0.043062  0.026289\n",
              "1       -0.068822 -0.087657 -0.043057  0.026274\n",
              "2       -0.069006 -0.087598 -0.042921  0.026331\n",
              "3       -0.068220 -0.087755 -0.035418  0.026291\n",
              "4       -0.067342 -0.082777 -0.042890  0.028320\n",
              "...           ...       ...       ...       ...\n",
              "1103158 -0.068550 -0.087604 -0.043051  0.026257\n",
              "1103159 -0.068966 -0.086969 -0.043068  0.026817\n",
              "1103160 -0.058574 -0.081010 -0.042936  0.022510\n",
              "1103161 -0.068745 -0.087514 -0.043057  0.026283\n",
              "1103162 -0.068975 -0.087344 -0.043068  0.025919\n",
              "\n",
              "[1103163 rows x 4 columns]"
            ]
          },
          "metadata": {},
          "execution_count": 61
        }
      ]
    },
    {
      "cell_type": "code",
      "metadata": {
        "colab": {
          "base_uri": "https://localhost:8080/",
          "height": 417
        },
        "id": "i645ROGAIaN6",
        "outputId": "dae1e924-d6f5-4108-ce4d-4248f1b4986f"
      },
      "source": [
        "New_Feature['City'] = df['CITY']\n",
        "New_Feature['Fac_Name'] = df['FACILITY_NAME']\n",
        "New_Feature.dropna()"
      ],
      "execution_count": null,
      "outputs": [
        {
          "output_type": "execute_result",
          "data": {
            "text/html": [
              "<div>\n",
              "<style scoped>\n",
              "    .dataframe tbody tr th:only-of-type {\n",
              "        vertical-align: middle;\n",
              "    }\n",
              "\n",
              "    .dataframe tbody tr th {\n",
              "        vertical-align: top;\n",
              "    }\n",
              "\n",
              "    .dataframe thead th {\n",
              "        text-align: right;\n",
              "    }\n",
              "</style>\n",
              "<table border=\"1\" class=\"dataframe\">\n",
              "  <thead>\n",
              "    <tr style=\"text-align: right;\">\n",
              "      <th></th>\n",
              "      <th>pc1</th>\n",
              "      <th>pc2</th>\n",
              "      <th>pc3</th>\n",
              "      <th>pc4</th>\n",
              "      <th>City</th>\n",
              "      <th>Fac_Name</th>\n",
              "    </tr>\n",
              "  </thead>\n",
              "  <tbody>\n",
              "    <tr>\n",
              "      <th>2</th>\n",
              "      <td>-0.069006</td>\n",
              "      <td>-0.087598</td>\n",
              "      <td>-0.042921</td>\n",
              "      <td>0.026331</td>\n",
              "      <td>WOOSTER</td>\n",
              "      <td>CARGILL ANIMAL NUTRITION</td>\n",
              "    </tr>\n",
              "    <tr>\n",
              "      <th>3</th>\n",
              "      <td>-0.068220</td>\n",
              "      <td>-0.087755</td>\n",
              "      <td>-0.035418</td>\n",
              "      <td>0.026291</td>\n",
              "      <td>NEW BEDFORD</td>\n",
              "      <td>ACUSHNET CO BALL PLANT III</td>\n",
              "    </tr>\n",
              "    <tr>\n",
              "      <th>4</th>\n",
              "      <td>-0.067342</td>\n",
              "      <td>-0.082777</td>\n",
              "      <td>-0.042890</td>\n",
              "      <td>0.028320</td>\n",
              "      <td>FOREST PARK</td>\n",
              "      <td>CLOROX PRODUCTS MANUFACTURING CO</td>\n",
              "    </tr>\n",
              "    <tr>\n",
              "      <th>6</th>\n",
              "      <td>-0.069064</td>\n",
              "      <td>-0.087704</td>\n",
              "      <td>-0.043062</td>\n",
              "      <td>0.026289</td>\n",
              "      <td>DETROIT</td>\n",
              "      <td>GENERAL MOTORS GM VA  DETROIT-HAMTRAMCK ASSEMB...</td>\n",
              "    </tr>\n",
              "    <tr>\n",
              "      <th>7</th>\n",
              "      <td>-0.067447</td>\n",
              "      <td>-0.087237</td>\n",
              "      <td>-0.043031</td>\n",
              "      <td>0.026057</td>\n",
              "      <td>FAIRFIELD</td>\n",
              "      <td>HANNA STEEL CORP</td>\n",
              "    </tr>\n",
              "    <tr>\n",
              "      <th>...</th>\n",
              "      <td>...</td>\n",
              "      <td>...</td>\n",
              "      <td>...</td>\n",
              "      <td>...</td>\n",
              "      <td>...</td>\n",
              "      <td>...</td>\n",
              "    </tr>\n",
              "    <tr>\n",
              "      <th>1103154</th>\n",
              "      <td>-0.068102</td>\n",
              "      <td>-0.087507</td>\n",
              "      <td>-0.042053</td>\n",
              "      <td>0.026232</td>\n",
              "      <td>PETERSBURG</td>\n",
              "      <td>FRANK E RATTS GENERATING STAT ION</td>\n",
              "    </tr>\n",
              "    <tr>\n",
              "      <th>1103158</th>\n",
              "      <td>-0.068550</td>\n",
              "      <td>-0.087604</td>\n",
              "      <td>-0.043051</td>\n",
              "      <td>0.026257</td>\n",
              "      <td>CINCINNATI</td>\n",
              "      <td>MEYER TOOL INC</td>\n",
              "    </tr>\n",
              "    <tr>\n",
              "      <th>1103159</th>\n",
              "      <td>-0.068966</td>\n",
              "      <td>-0.086969</td>\n",
              "      <td>-0.043068</td>\n",
              "      <td>0.026817</td>\n",
              "      <td>GEISMAR</td>\n",
              "      <td>OCCIDENTAL CHEMICAL HOLDING CORP - GEISMAR PLANT</td>\n",
              "    </tr>\n",
              "    <tr>\n",
              "      <th>1103160</th>\n",
              "      <td>-0.058574</td>\n",
              "      <td>-0.081010</td>\n",
              "      <td>-0.042936</td>\n",
              "      <td>0.022510</td>\n",
              "      <td>GEISMAR</td>\n",
              "      <td>OCCIDENTAL CHEMICAL HOLDING CORP - GEISMAR PLANT</td>\n",
              "    </tr>\n",
              "    <tr>\n",
              "      <th>1103161</th>\n",
              "      <td>-0.068745</td>\n",
              "      <td>-0.087514</td>\n",
              "      <td>-0.043057</td>\n",
              "      <td>0.026283</td>\n",
              "      <td>ATTALLA</td>\n",
              "      <td>TYSON FARMS INC IVALEE FEED MILL</td>\n",
              "    </tr>\n",
              "  </tbody>\n",
              "</table>\n",
              "<p>918833 rows × 6 columns</p>\n",
              "</div>"
            ],
            "text/plain": [
              "              pc1  ...                                           Fac_Name\n",
              "2       -0.069006  ...                           CARGILL ANIMAL NUTRITION\n",
              "3       -0.068220  ...                         ACUSHNET CO BALL PLANT III\n",
              "4       -0.067342  ...                   CLOROX PRODUCTS MANUFACTURING CO\n",
              "6       -0.069064  ...  GENERAL MOTORS GM VA  DETROIT-HAMTRAMCK ASSEMB...\n",
              "7       -0.067447  ...                                   HANNA STEEL CORP\n",
              "...           ...  ...                                                ...\n",
              "1103154 -0.068102  ...                  FRANK E RATTS GENERATING STAT ION\n",
              "1103158 -0.068550  ...                                     MEYER TOOL INC\n",
              "1103159 -0.068966  ...   OCCIDENTAL CHEMICAL HOLDING CORP - GEISMAR PLANT\n",
              "1103160 -0.058574  ...   OCCIDENTAL CHEMICAL HOLDING CORP - GEISMAR PLANT\n",
              "1103161 -0.068745  ...                   TYSON FARMS INC IVALEE FEED MILL\n",
              "\n",
              "[918833 rows x 6 columns]"
            ]
          },
          "metadata": {},
          "execution_count": 62
        }
      ]
    },
    {
      "cell_type": "markdown",
      "metadata": {
        "id": "NftLa9satDpK"
      },
      "source": [
        "**It can be seen that two new columns \"City\" and \"Fac_Name\" has been created and added to our new dataset from the original dataset.**"
      ]
    },
    {
      "cell_type": "markdown",
      "metadata": {
        "id": "_sJycwCetLdc"
      },
      "source": [
        "**These newly added columns will help us answer our question- Which facility produces the most toxic release in a particular city.**"
      ]
    },
    {
      "cell_type": "code",
      "metadata": {
        "colab": {
          "base_uri": "https://localhost:8080/"
        },
        "id": "Ri71NVDHNu3P",
        "outputId": "a0c297d2-da7c-4463-bf18-e3cbefb32589"
      },
      "source": [
        "New_Feature['City'].value_counts()"
      ],
      "execution_count": null,
      "outputs": [
        {
          "output_type": "execute_result",
          "data": {
            "text/plain": [
              "HOUSTON            10115\n",
              "PASADENA            5972\n",
              "LA PORTE            5622\n",
              "PORT ARTHUR         5484\n",
              "LOUISVILLE          5072\n",
              "                   ...  \n",
              "RUSHSYLVANIA           1\n",
              "UNION POINT            1\n",
              "ORICK                  1\n",
              "RANCO CUCAMONGA        1\n",
              "SMITHBURG              1\n",
              "Name: City, Length: 5277, dtype: int64"
            ]
          },
          "metadata": {},
          "execution_count": 63
        }
      ]
    },
    {
      "cell_type": "code",
      "metadata": {
        "colab": {
          "base_uri": "https://localhost:8080/"
        },
        "id": "bfxEJKjDQeRu",
        "outputId": "6f15ea17-09a3-490d-d085-ca0e88530e66"
      },
      "source": [
        "New_Feature['City'].value_counts()[:20]"
      ],
      "execution_count": null,
      "outputs": [
        {
          "output_type": "execute_result",
          "data": {
            "text/plain": [
              "HOUSTON           10115\n",
              "PASADENA           5972\n",
              "LA PORTE           5622\n",
              "PORT ARTHUR        5484\n",
              "LOUISVILLE         5072\n",
              "COLUMBUS           4510\n",
              "CORPUS CHRISTI     3759\n",
              "RICHMOND           3687\n",
              "CLEVELAND          3648\n",
              "PLAQUEMINE         3642\n",
              "BAYTOWN            3617\n",
              "BATON ROUGE        3595\n",
              "EL DORADO          3586\n",
              "KANSAS CITY        3550\n",
              "FREEPORT           3535\n",
              "DEER PARK          3470\n",
              "MEMPHIS            3460\n",
              "INDIANAPOLIS       3226\n",
              "CARSON             3200\n",
              "TULSA              3134\n",
              "Name: City, dtype: int64"
            ]
          },
          "metadata": {},
          "execution_count": 64
        }
      ]
    },
    {
      "cell_type": "markdown",
      "metadata": {
        "id": "BWCNxU3Us2QF"
      },
      "source": [
        "**Selecting 20 cities out of the Total cities in total for a better understanding and to perform further operations.**"
      ]
    },
    {
      "cell_type": "code",
      "metadata": {
        "colab": {
          "base_uri": "https://localhost:8080/"
        },
        "id": "4JW26t2WRN5Z",
        "outputId": "8d68c97f-71f5-45e0-ab79-990f274b7132"
      },
      "source": [
        "Top_Cities = New_Feature['City'].value_counts()[:20].index.tolist()\n",
        "Top_Cities"
      ],
      "execution_count": null,
      "outputs": [
        {
          "output_type": "execute_result",
          "data": {
            "text/plain": [
              "['HOUSTON',\n",
              " 'PASADENA',\n",
              " 'LA PORTE',\n",
              " 'PORT ARTHUR',\n",
              " 'LOUISVILLE',\n",
              " 'COLUMBUS',\n",
              " 'CORPUS CHRISTI',\n",
              " 'RICHMOND',\n",
              " 'CLEVELAND',\n",
              " 'PLAQUEMINE',\n",
              " 'BAYTOWN',\n",
              " 'BATON ROUGE',\n",
              " 'EL DORADO',\n",
              " 'KANSAS CITY',\n",
              " 'FREEPORT',\n",
              " 'DEER PARK',\n",
              " 'MEMPHIS',\n",
              " 'INDIANAPOLIS',\n",
              " 'CARSON',\n",
              " 'TULSA']"
            ]
          },
          "metadata": {},
          "execution_count": 65
        }
      ]
    },
    {
      "cell_type": "code",
      "metadata": {
        "colab": {
          "base_uri": "https://localhost:8080/",
          "height": 417
        },
        "id": "eWCXNbLNRoA_",
        "outputId": "4c45d15a-e6d3-4c8f-c8c6-804e90b26935"
      },
      "source": [
        "# selecting rows based on specific cities\n",
        "rslt_df = New_Feature[New_Feature['City'].isin(Top_Cities)]\n",
        "rslt_df"
      ],
      "execution_count": null,
      "outputs": [
        {
          "output_type": "execute_result",
          "data": {
            "text/html": [
              "<div>\n",
              "<style scoped>\n",
              "    .dataframe tbody tr th:only-of-type {\n",
              "        vertical-align: middle;\n",
              "    }\n",
              "\n",
              "    .dataframe tbody tr th {\n",
              "        vertical-align: top;\n",
              "    }\n",
              "\n",
              "    .dataframe thead th {\n",
              "        text-align: right;\n",
              "    }\n",
              "</style>\n",
              "<table border=\"1\" class=\"dataframe\">\n",
              "  <thead>\n",
              "    <tr style=\"text-align: right;\">\n",
              "      <th></th>\n",
              "      <th>pc1</th>\n",
              "      <th>pc2</th>\n",
              "      <th>pc3</th>\n",
              "      <th>pc4</th>\n",
              "      <th>City</th>\n",
              "      <th>Fac_Name</th>\n",
              "    </tr>\n",
              "  </thead>\n",
              "  <tbody>\n",
              "    <tr>\n",
              "      <th>11</th>\n",
              "      <td>-0.068900</td>\n",
              "      <td>-0.087712</td>\n",
              "      <td>-0.041292</td>\n",
              "      <td>0.026289</td>\n",
              "      <td>EL DORADO</td>\n",
              "      <td>CHEMOURS EL DORADO</td>\n",
              "    </tr>\n",
              "    <tr>\n",
              "      <th>13</th>\n",
              "      <td>-0.069064</td>\n",
              "      <td>-0.087704</td>\n",
              "      <td>-0.043062</td>\n",
              "      <td>0.026289</td>\n",
              "      <td>LOUISVILLE</td>\n",
              "      <td>BASF CORP</td>\n",
              "    </tr>\n",
              "    <tr>\n",
              "      <th>14</th>\n",
              "      <td>-0.067041</td>\n",
              "      <td>-0.082492</td>\n",
              "      <td>-0.036025</td>\n",
              "      <td>0.028433</td>\n",
              "      <td>LOUISVILLE</td>\n",
              "      <td>BASF CORP</td>\n",
              "    </tr>\n",
              "    <tr>\n",
              "      <th>65</th>\n",
              "      <td>-0.065655</td>\n",
              "      <td>-0.087040</td>\n",
              "      <td>-0.042991</td>\n",
              "      <td>0.026076</td>\n",
              "      <td>INDIANAPOLIS</td>\n",
              "      <td>SUPERIOR OIL CO INC</td>\n",
              "    </tr>\n",
              "    <tr>\n",
              "      <th>66</th>\n",
              "      <td>-0.069047</td>\n",
              "      <td>-0.087701</td>\n",
              "      <td>-0.043042</td>\n",
              "      <td>0.026287</td>\n",
              "      <td>INDIANAPOLIS</td>\n",
              "      <td>SUPERIOR OIL CO INC</td>\n",
              "    </tr>\n",
              "    <tr>\n",
              "      <th>...</th>\n",
              "      <td>...</td>\n",
              "      <td>...</td>\n",
              "      <td>...</td>\n",
              "      <td>...</td>\n",
              "      <td>...</td>\n",
              "      <td>...</td>\n",
              "    </tr>\n",
              "    <tr>\n",
              "      <th>1103090</th>\n",
              "      <td>-0.069064</td>\n",
              "      <td>-0.087704</td>\n",
              "      <td>-0.043062</td>\n",
              "      <td>0.026289</td>\n",
              "      <td>FREEPORT</td>\n",
              "      <td>DOW CHEMICAL CO FREEPORT FACILITY</td>\n",
              "    </tr>\n",
              "    <tr>\n",
              "      <th>1103095</th>\n",
              "      <td>-0.062238</td>\n",
              "      <td>-0.086041</td>\n",
              "      <td>-0.042926</td>\n",
              "      <td>0.025895</td>\n",
              "      <td>BAYTOWN</td>\n",
              "      <td>EXXONMOBIL CHEMICAL CO BAYTOWN OLEFINS PLANT (...</td>\n",
              "    </tr>\n",
              "    <tr>\n",
              "      <th>1103117</th>\n",
              "      <td>-0.024789</td>\n",
              "      <td>-0.033091</td>\n",
              "      <td>-0.042915</td>\n",
              "      <td>0.015906</td>\n",
              "      <td>CORPUS CHRISTI</td>\n",
              "      <td>VALERO REFINING TEXAS LP CORPUS CHRISTI EAST P...</td>\n",
              "    </tr>\n",
              "    <tr>\n",
              "      <th>1103141</th>\n",
              "      <td>-0.058428</td>\n",
              "      <td>-0.062314</td>\n",
              "      <td>-0.043124</td>\n",
              "      <td>0.041759</td>\n",
              "      <td>LOUISVILLE</td>\n",
              "      <td>CLARIANT CORP 12TH STREET FACILITY</td>\n",
              "    </tr>\n",
              "    <tr>\n",
              "      <th>1103143</th>\n",
              "      <td>0.009069</td>\n",
              "      <td>-0.020382</td>\n",
              "      <td>-0.042478</td>\n",
              "      <td>-0.013797</td>\n",
              "      <td>CLEVELAND</td>\n",
              "      <td>ARCELORMITTAL CLEVELAND LLC</td>\n",
              "    </tr>\n",
              "  </tbody>\n",
              "</table>\n",
              "<p>85884 rows × 6 columns</p>\n",
              "</div>"
            ],
            "text/plain": [
              "              pc1  ...                                           Fac_Name\n",
              "11      -0.068900  ...                                 CHEMOURS EL DORADO\n",
              "13      -0.069064  ...                                          BASF CORP\n",
              "14      -0.067041  ...                                          BASF CORP\n",
              "65      -0.065655  ...                                SUPERIOR OIL CO INC\n",
              "66      -0.069047  ...                                SUPERIOR OIL CO INC\n",
              "...           ...  ...                                                ...\n",
              "1103090 -0.069064  ...                  DOW CHEMICAL CO FREEPORT FACILITY\n",
              "1103095 -0.062238  ...  EXXONMOBIL CHEMICAL CO BAYTOWN OLEFINS PLANT (...\n",
              "1103117 -0.024789  ...  VALERO REFINING TEXAS LP CORPUS CHRISTI EAST P...\n",
              "1103141 -0.058428  ...                 CLARIANT CORP 12TH STREET FACILITY\n",
              "1103143  0.009069  ...                        ARCELORMITTAL CLEVELAND LLC\n",
              "\n",
              "[85884 rows x 6 columns]"
            ]
          },
          "metadata": {},
          "execution_count": 66
        }
      ]
    },
    {
      "cell_type": "markdown",
      "metadata": {
        "id": "jV8-S09fsmSQ"
      },
      "source": [
        "**Selecting only the cities that occured in the \"Top cities\" list before to perform further operations on.**"
      ]
    },
    {
      "cell_type": "code",
      "metadata": {
        "colab": {
          "base_uri": "https://localhost:8080/",
          "height": 518
        },
        "id": "-QUeqftceDUi",
        "outputId": "7f1671fa-882a-41d2-fbd3-d523b0ffeb24"
      },
      "source": [
        "rslt_df['Most Toxic'] = rslt_df['pc1']+rslt_df['pc2']+rslt_df['pc3']+rslt_df['pc4']\n",
        "rslt_df"
      ],
      "execution_count": null,
      "outputs": [
        {
          "output_type": "stream",
          "name": "stderr",
          "text": [
            "/usr/local/lib/python3.7/dist-packages/ipykernel_launcher.py:1: SettingWithCopyWarning: \n",
            "A value is trying to be set on a copy of a slice from a DataFrame.\n",
            "Try using .loc[row_indexer,col_indexer] = value instead\n",
            "\n",
            "See the caveats in the documentation: https://pandas.pydata.org/pandas-docs/stable/user_guide/indexing.html#returning-a-view-versus-a-copy\n",
            "  \"\"\"Entry point for launching an IPython kernel.\n"
          ]
        },
        {
          "output_type": "execute_result",
          "data": {
            "text/html": [
              "<div>\n",
              "<style scoped>\n",
              "    .dataframe tbody tr th:only-of-type {\n",
              "        vertical-align: middle;\n",
              "    }\n",
              "\n",
              "    .dataframe tbody tr th {\n",
              "        vertical-align: top;\n",
              "    }\n",
              "\n",
              "    .dataframe thead th {\n",
              "        text-align: right;\n",
              "    }\n",
              "</style>\n",
              "<table border=\"1\" class=\"dataframe\">\n",
              "  <thead>\n",
              "    <tr style=\"text-align: right;\">\n",
              "      <th></th>\n",
              "      <th>pc1</th>\n",
              "      <th>pc2</th>\n",
              "      <th>pc3</th>\n",
              "      <th>pc4</th>\n",
              "      <th>City</th>\n",
              "      <th>Fac_Name</th>\n",
              "      <th>Most Toxic</th>\n",
              "    </tr>\n",
              "  </thead>\n",
              "  <tbody>\n",
              "    <tr>\n",
              "      <th>11</th>\n",
              "      <td>-0.068900</td>\n",
              "      <td>-0.087712</td>\n",
              "      <td>-0.041292</td>\n",
              "      <td>0.026289</td>\n",
              "      <td>EL DORADO</td>\n",
              "      <td>CHEMOURS EL DORADO</td>\n",
              "      <td>-0.171615</td>\n",
              "    </tr>\n",
              "    <tr>\n",
              "      <th>13</th>\n",
              "      <td>-0.069064</td>\n",
              "      <td>-0.087704</td>\n",
              "      <td>-0.043062</td>\n",
              "      <td>0.026289</td>\n",
              "      <td>LOUISVILLE</td>\n",
              "      <td>BASF CORP</td>\n",
              "      <td>-0.173541</td>\n",
              "    </tr>\n",
              "    <tr>\n",
              "      <th>14</th>\n",
              "      <td>-0.067041</td>\n",
              "      <td>-0.082492</td>\n",
              "      <td>-0.036025</td>\n",
              "      <td>0.028433</td>\n",
              "      <td>LOUISVILLE</td>\n",
              "      <td>BASF CORP</td>\n",
              "      <td>-0.157125</td>\n",
              "    </tr>\n",
              "    <tr>\n",
              "      <th>65</th>\n",
              "      <td>-0.065655</td>\n",
              "      <td>-0.087040</td>\n",
              "      <td>-0.042991</td>\n",
              "      <td>0.026076</td>\n",
              "      <td>INDIANAPOLIS</td>\n",
              "      <td>SUPERIOR OIL CO INC</td>\n",
              "      <td>-0.169610</td>\n",
              "    </tr>\n",
              "    <tr>\n",
              "      <th>66</th>\n",
              "      <td>-0.069047</td>\n",
              "      <td>-0.087701</td>\n",
              "      <td>-0.043042</td>\n",
              "      <td>0.026287</td>\n",
              "      <td>INDIANAPOLIS</td>\n",
              "      <td>SUPERIOR OIL CO INC</td>\n",
              "      <td>-0.173503</td>\n",
              "    </tr>\n",
              "    <tr>\n",
              "      <th>...</th>\n",
              "      <td>...</td>\n",
              "      <td>...</td>\n",
              "      <td>...</td>\n",
              "      <td>...</td>\n",
              "      <td>...</td>\n",
              "      <td>...</td>\n",
              "      <td>...</td>\n",
              "    </tr>\n",
              "    <tr>\n",
              "      <th>1103090</th>\n",
              "      <td>-0.069064</td>\n",
              "      <td>-0.087704</td>\n",
              "      <td>-0.043062</td>\n",
              "      <td>0.026289</td>\n",
              "      <td>FREEPORT</td>\n",
              "      <td>DOW CHEMICAL CO FREEPORT FACILITY</td>\n",
              "      <td>-0.173541</td>\n",
              "    </tr>\n",
              "    <tr>\n",
              "      <th>1103095</th>\n",
              "      <td>-0.062238</td>\n",
              "      <td>-0.086041</td>\n",
              "      <td>-0.042926</td>\n",
              "      <td>0.025895</td>\n",
              "      <td>BAYTOWN</td>\n",
              "      <td>EXXONMOBIL CHEMICAL CO BAYTOWN OLEFINS PLANT (...</td>\n",
              "      <td>-0.165310</td>\n",
              "    </tr>\n",
              "    <tr>\n",
              "      <th>1103117</th>\n",
              "      <td>-0.024789</td>\n",
              "      <td>-0.033091</td>\n",
              "      <td>-0.042915</td>\n",
              "      <td>0.015906</td>\n",
              "      <td>CORPUS CHRISTI</td>\n",
              "      <td>VALERO REFINING TEXAS LP CORPUS CHRISTI EAST P...</td>\n",
              "      <td>-0.084889</td>\n",
              "    </tr>\n",
              "    <tr>\n",
              "      <th>1103141</th>\n",
              "      <td>-0.058428</td>\n",
              "      <td>-0.062314</td>\n",
              "      <td>-0.043124</td>\n",
              "      <td>0.041759</td>\n",
              "      <td>LOUISVILLE</td>\n",
              "      <td>CLARIANT CORP 12TH STREET FACILITY</td>\n",
              "      <td>-0.122108</td>\n",
              "    </tr>\n",
              "    <tr>\n",
              "      <th>1103143</th>\n",
              "      <td>0.009069</td>\n",
              "      <td>-0.020382</td>\n",
              "      <td>-0.042478</td>\n",
              "      <td>-0.013797</td>\n",
              "      <td>CLEVELAND</td>\n",
              "      <td>ARCELORMITTAL CLEVELAND LLC</td>\n",
              "      <td>-0.067589</td>\n",
              "    </tr>\n",
              "  </tbody>\n",
              "</table>\n",
              "<p>85884 rows × 7 columns</p>\n",
              "</div>"
            ],
            "text/plain": [
              "              pc1  ...  Most Toxic\n",
              "11      -0.068900  ...   -0.171615\n",
              "13      -0.069064  ...   -0.173541\n",
              "14      -0.067041  ...   -0.157125\n",
              "65      -0.065655  ...   -0.169610\n",
              "66      -0.069047  ...   -0.173503\n",
              "...           ...  ...         ...\n",
              "1103090 -0.069064  ...   -0.173541\n",
              "1103095 -0.062238  ...   -0.165310\n",
              "1103117 -0.024789  ...   -0.084889\n",
              "1103141 -0.058428  ...   -0.122108\n",
              "1103143  0.009069  ...   -0.067589\n",
              "\n",
              "[85884 rows x 7 columns]"
            ]
          },
          "metadata": {},
          "execution_count": 67
        }
      ]
    },
    {
      "cell_type": "markdown",
      "metadata": {
        "id": "z1GbgnazsIjO"
      },
      "source": [
        "**It can be a seen that a new column \"Most Toxic\" has been created in the dataframe using the columns from the Principal Component Analysis (PCA).**"
      ]
    },
    {
      "cell_type": "markdown",
      "metadata": {
        "id": "KmEASK7GsT9j"
      },
      "source": [
        "**This new column will further help us addressing the problem statement- Which factory produces the most Toxic release in a particular city.**"
      ]
    },
    {
      "cell_type": "code",
      "metadata": {
        "colab": {
          "base_uri": "https://localhost:8080/"
        },
        "id": "qnynWMaTe-VQ",
        "outputId": "118edd1d-d159-4023-cb40-0ddaa5b69e0a"
      },
      "source": [
        "for city in Top_Cities:\n",
        "  max_emission = rslt_df[rslt_df['City']==city]['Most Toxic'].max()\n",
        "  dangerous = (rslt_df[rslt_df[\"Most Toxic\"]==max_emission][\"Fac_Name\"].values)\n",
        "  print(\"The most toxic producing facility in {} is {} \".format(city,dangerous[0]))\n",
        "  "
      ],
      "execution_count": null,
      "outputs": [
        {
          "output_type": "stream",
          "name": "stdout",
          "text": [
            "The most toxic producing facility in HOUSTON is LAMONS GASKET CO \n",
            "The most toxic producing facility in PASADENA is LAMONS GASKET CO \n",
            "The most toxic producing facility in LA PORTE is LA PORTE_THE DOW CHEMICAL CO \n",
            "The most toxic producing facility in PORT ARTHUR is VEOLIA ES TECHNICAL SOLUTIONS LLC PORT ARTHUR FACILITY \n",
            "The most toxic producing facility in LOUISVILLE is LOUISVILLE GAS & ELECTRIC CO - CANE RUN STATION \n",
            "The most toxic producing facility in COLUMBUS is STEEL DYNAMICS INC FLAT ROLL GROUP COLUMBUS DIV \n",
            "The most toxic producing facility in CORPUS CHRISTI is BUCKEYE TEXAS PROCESSING LLC-CORPUS CHRISTI \n",
            "The most toxic producing facility in RICHMOND is PHILIP MORRIS USA COMMERCE ROAD SITE \n",
            "The most toxic producing facility in CLEVELAND is CHEMICAL SOLVENTS INC--DENISON FACILITY \n",
            "The most toxic producing facility in PLAQUEMINE is BLUE CUBE OPERATIONS LLC - PLAQUEMINE SITE \n",
            "The most toxic producing facility in BAYTOWN is CHEMICALS INC \n",
            "The most toxic producing facility in BATON ROUGE is EXXONMOBIL CHEMICAL BATON ROUGE CHEMICAL PLANT (PART) \n",
            "The most toxic producing facility in EL DORADO is HOLLYFRONTIER EL DORADO REFINING LLC \n",
            "The most toxic producing facility in KANSAS CITY is HAWTHORN GENERATING FACILITY \n",
            "The most toxic producing facility in FREEPORT is BASF CORP - FREEPORT SITE \n",
            "The most toxic producing facility in DEER PARK is ROHM & HAAS TEXAS INC \n",
            "The most toxic producing facility in MEMPHIS is US TVA ALLEN FOSSIL PLANT \n",
            "The most toxic producing facility in INDIANAPOLIS is JACKSON OILS & SOLVENTS \n",
            "The most toxic producing facility in CARSON is TESORO LOS ANGELES REFINERY-CARSON OPERATIONS \n",
            "The most toxic producing facility in TULSA is TRINITY STRUCTURAL TOWERS INC PLT 1675 \n"
          ]
        }
      ]
    },
    {
      "cell_type": "markdown",
      "metadata": {
        "id": "4ISQAfq-qiO_"
      },
      "source": [
        "**The above code helps us in determining the Facility that produces the most toxic releases in a particular city.**"
      ]
    },
    {
      "cell_type": "markdown",
      "metadata": {
        "id": "KfTFK-_hqxnr"
      },
      "source": [
        "**The data has been collected for a total of 20 cities.**"
      ]
    },
    {
      "cell_type": "markdown",
      "metadata": {
        "id": "kc-QH9UxzBnt"
      },
      "source": [
        "**DATA VISUALIZATION**"
      ]
    },
    {
      "cell_type": "markdown",
      "metadata": {
        "id": "S4P_4j45rHCO"
      },
      "source": [
        "**PERFORMING VISUALIZATION FOR ATLEAST 5 CITIES FOR BETTER UNDERSTANDING.**\n"
      ]
    },
    {
      "cell_type": "markdown",
      "metadata": {
        "id": "U6tyv3t0rdZu"
      },
      "source": [
        "**(Here, COLUMBUS, HOUSTON, KANSAS CITY, BAYTOWN & CARSON)**"
      ]
    },
    {
      "cell_type": "code",
      "metadata": {
        "colab": {
          "base_uri": "https://localhost:8080/",
          "height": 640
        },
        "id": "X9mSjHddnyhx",
        "outputId": "33fc5582-1292-4637-a303-b8fca778aa49"
      },
      "source": [
        "columbus_df = rslt_df[rslt_df['City']==\"COLUMBUS\"].nlargest(10,'Most Toxic')\n",
        "columbus_df.plot(x=\"Fac_Name\", y=\"Most Toxic\",kind='bar')"
      ],
      "execution_count": null,
      "outputs": [
        {
          "output_type": "execute_result",
          "data": {
            "text/plain": [
              "<matplotlib.axes._subplots.AxesSubplot at 0x7fdb7f0a41d0>"
            ]
          },
          "metadata": {},
          "execution_count": 69
        },
        {
          "output_type": "display_data",
          "data": {
            "image/png": "[encoded data removed]",
            "text/plain": [
              "<Figure size 432x288 with 1 Axes>"
            ]
          },
          "metadata": {
            "needs_background": "light"
          }
        }
      ]
    },
    {
      "cell_type": "markdown",
      "metadata": {
        "id": "rNoRWP5UqBK4"
      },
      "source": [
        "From the above Graph, it is quite evident that the facility that produces the most toxic releases in \"**Columbus**\" city is **STEEL DYNAMICS INC FLAT ROLL GROUP COLUMBUS DIV**."
      ]
    },
    {
      "cell_type": "markdown",
      "metadata": {
        "id": "OmXBFbQ6qBSm"
      },
      "source": [
        "It can also be seen that the facility that produces the least toxic releases in \"**Columbus**\" city is **BECTON DICKINSON MEDICAL - MEDICATION & PROCEDURAL SOLUTION**."
      ]
    },
    {
      "cell_type": "code",
      "metadata": {
        "colab": {
          "base_uri": "https://localhost:8080/",
          "height": 538
        },
        "id": "nHJ0KJVFrDNY",
        "outputId": "d02aa42f-d84c-4313-d81f-994ad9c31359"
      },
      "source": [
        "houston_df = rslt_df[rslt_df['City']==\"HOUSTON\"].nlargest(10,'Most Toxic')\n",
        "houston_df.plot(x=\"Fac_Name\", y=\"Most Toxic\",kind='bar')"
      ],
      "execution_count": null,
      "outputs": [
        {
          "output_type": "execute_result",
          "data": {
            "text/plain": [
              "<matplotlib.axes._subplots.AxesSubplot at 0x7fdb7f02cf50>"
            ]
          },
          "metadata": {},
          "execution_count": 70
        },
        {
          "output_type": "display_data",
          "data": {
            "image/png": "[encoded data removed]",
            "text/plain": [
              "<Figure size 432x288 with 1 Axes>"
            ]
          },
          "metadata": {
            "needs_background": "light"
          }
        }
      ]
    },
    {
      "cell_type": "markdown",
      "metadata": {
        "id": "9zlxAXoappk5"
      },
      "source": [
        "From the above Graph, it is quite evident that the facility that produces the most toxic releases in \"**Houston**\" city is **LAMONS GASKET CO**."
      ]
    },
    {
      "cell_type": "markdown",
      "metadata": {
        "id": "QJOMwT6oppvw"
      },
      "source": [
        "It can also be seen that the facility that produces the least toxic releases in \"**Houston**\" city is **GB BIOSCIENCES LLC**."
      ]
    },
    {
      "cell_type": "code",
      "metadata": {
        "colab": {
          "base_uri": "https://localhost:8080/",
          "height": 546
        },
        "id": "9-fLAl-L4iZt",
        "outputId": "757ed0f9-2ebb-4a26-8b51-b8478bcf0405"
      },
      "source": [
        "kansas_df = rslt_df[rslt_df['City']==\"KANSAS CITY\"].nlargest(10,'Most Toxic')\n",
        "kansas_df.plot(x=\"Fac_Name\", y=\"Most Toxic\",kind='bar')"
      ],
      "execution_count": null,
      "outputs": [
        {
          "output_type": "execute_result",
          "data": {
            "text/plain": [
              "<matplotlib.axes._subplots.AxesSubplot at 0x7fdb7efc5050>"
            ]
          },
          "metadata": {},
          "execution_count": 71
        },
        {
          "output_type": "display_data",
          "data": {
            "image/png": "[encoded data removed]",
            "text/plain": [
              "<Figure size 432x288 with 1 Axes>"
            ]
          },
          "metadata": {
            "needs_background": "light"
          }
        }
      ]
    },
    {
      "cell_type": "markdown",
      "metadata": {
        "id": "vuJMjAzwpPPG"
      },
      "source": [
        "From the above Graph, it is quite evident that the facility that produces the most toxic releases in \"**Kansas**\" city is **HAWTHORN GENERATING FACILITY**."
      ]
    },
    {
      "cell_type": "markdown",
      "metadata": {
        "id": "q-pNObPRpPXa"
      },
      "source": [
        "It can also be seen that the facility that produces the least toxic releases in \"**Kansas**\" city is **SINCLAIR KANSAS CITY PRODUCTS TERMINAL**."
      ]
    },
    {
      "cell_type": "code",
      "metadata": {
        "colab": {
          "base_uri": "https://localhost:8080/",
          "height": 594
        },
        "id": "-604pBe04isD",
        "outputId": "18dd6c31-e74c-462b-f9fb-e61ded19d770"
      },
      "source": [
        "baytown_df = rslt_df[rslt_df['City']==\"BAYTOWN\"].nlargest(10,'Most Toxic')\n",
        "baytown_df.plot(x=\"Fac_Name\", y=\"Most Toxic\",kind='bar')"
      ],
      "execution_count": null,
      "outputs": [
        {
          "output_type": "execute_result",
          "data": {
            "text/plain": [
              "<matplotlib.axes._subplots.AxesSubplot at 0x7fdb7ef43410>"
            ]
          },
          "metadata": {},
          "execution_count": 72
        },
        {
          "output_type": "display_data",
          "data": {
            "image/png": "[encoded data removed]",
            "text/plain": [
              "<Figure size 432x288 with 1 Axes>"
            ]
          },
          "metadata": {
            "needs_background": "light"
          }
        }
      ]
    },
    {
      "cell_type": "markdown",
      "metadata": {
        "id": "pG0JCKa-o3Fa"
      },
      "source": [
        "From the above Graph, it is quite evident that the facility that produces the most toxic releases in \"**Baytown**\" city is **CHEMICALS INC**."
      ]
    },
    {
      "cell_type": "markdown",
      "metadata": {
        "id": "Jn63wbEwo3Vk"
      },
      "source": [
        "\n",
        "It can also be seen that the facility that produces the least toxic releases in \"**Baytown**\" city is **COVESTRO LLC**."
      ]
    },
    {
      "cell_type": "code",
      "metadata": {
        "colab": {
          "base_uri": "https://localhost:8080/",
          "height": 561
        },
        "id": "gla04XgR4jOU",
        "outputId": "21563d38-22d8-46be-937e-165e9a043acb"
      },
      "source": [
        "carson_df = rslt_df[rslt_df['City']==\"CARSON\"].nlargest(10,'Most Toxic')\n",
        "carson_df.plot(x=\"Fac_Name\", y=\"Most Toxic\",kind='bar')"
      ],
      "execution_count": null,
      "outputs": [
        {
          "output_type": "execute_result",
          "data": {
            "text/plain": [
              "<matplotlib.axes._subplots.AxesSubplot at 0x7fdb7efb9a90>"
            ]
          },
          "metadata": {},
          "execution_count": 74
        },
        {
          "output_type": "display_data",
          "data": {
            "image/png": "[encoded data removed]",
            "text/plain": [
              "<Figure size 432x288 with 1 Axes>"
            ]
          },
          "metadata": {
            "needs_background": "light"
          }
        }
      ]
    },
    {
      "cell_type": "markdown",
      "metadata": {
        "id": "QPZ0Hbea-TS1"
      },
      "source": [
        "From the above Graph, it is quite evident that the facility that produces the most toxic releases in \"**Carson**\" city is **TESORO LOS ANGELES REFINERY-CARSON OPERATIONS.**\n",
        "\n"
      ]
    },
    {
      "cell_type": "code",
      "metadata": {
        "colab": {
          "base_uri": "https://localhost:8080/",
          "height": 526
        },
        "id": "H6YX1ce-nSI6",
        "outputId": "05bb711e-ce29-48ac-e7f9-a0a5180b9215"
      },
      "source": [
        "Indianapolis_df = rslt_df[rslt_df['City']==\"INDIANAPOLIS\"].nlargest(10,'Most Toxic')\n",
        "Indianapolis_df.plot(x=\"Fac_Name\", y=\"Most Toxic\",kind='bar')"
      ],
      "execution_count": null,
      "outputs": [
        {
          "output_type": "execute_result",
          "data": {
            "text/plain": [
              "<matplotlib.axes._subplots.AxesSubplot at 0x7fdb7422be50>"
            ]
          },
          "metadata": {},
          "execution_count": 75
        },
        {
          "output_type": "display_data",
          "data": {
            "image/png": "[encoded data removed]",
            "text/plain": [
              "<Figure size 432x288 with 1 Axes>"
            ]
          },
          "metadata": {
            "needs_background": "light"
          }
        }
      ]
    },
    {
      "cell_type": "markdown",
      "metadata": {
        "id": "2SUUvv9DoSGY"
      },
      "source": [
        "From the above Graph, it is quite evident that the facility that produces the most toxic releases in \"**Indianapolis**\" city is **JACKSON OILS & SOLVENTS**.\n",
        "\n"
      ]
    },
    {
      "cell_type": "markdown",
      "metadata": {
        "id": "HFNWtWaRoH-A"
      },
      "source": [
        "It can also be seen that the facility that produces the least toxic releases in \"**Indianapolis**\" city is **MPLX TERMINALS LLC-SPEEDWAY IN TERMINAL**."
      ]
    },
    {
      "cell_type": "markdown",
      "metadata": {
        "id": "tcce5TcpxHxa"
      },
      "source": [
        "\n",
        "\n",
        "\n",
        "\n",
        "**CONCLUSIONS DERIVED**\n",
        "\n",
        "\n",
        "***   It was seen that using various Data Mining techniques we were able to \n",
        "address our Problem Statement: \"Which facility produces the Most Toxic Release in a particular city\".**\n",
        "\n",
        "***   Some of the Data Mining techniques used to answer this question is Standardization, Normalization, Visualization, Covariance Matrix, Principal Component Analysis (PCA), Dimensionality Reduction etc.**\n",
        "\n",
        "\n",
        "***   It was also observed that the concept of VISUALIZATION (Graphs) proved to be extremely beneficial to visualize our data and derive necessary interpretations.**\n",
        "\n",
        "***   It was also observed that the result shown by graphs matched with the result achieved through applying various operations in the dataset.**\n"
      ]
    }
  ]
}
{
 "cells": [
  {
   "cell_type": "code",
   "execution_count": null,
   "metadata": {
    "colab": {
     "base_uri": "https://localhost:8080/"
    },
    "id": "nHWM-yHHsm6e",
    "outputId": "45585072-d206-481a-d292-348e577dcb8e"
   },
   "outputs": [
    {
     "name": "stdout",
     "output_type": "stream",
     "text": [
      "Mounted at /content/drive\n"
     ]
    }
   ],
   "source": [
    "from google.colab import drive\n",
    "drive.mount('/content/drive')"
   ]
  },
  {
   "cell_type": "code",
   "execution_count": null,
   "metadata": {
    "colab": {
     "base_uri": "https://localhost:8080/"
    },
    "id": "YJ6GzzggsyGU",
    "outputId": "b8991f87-e959-4458-a355-5b5ab03d7067"
   },
   "outputs": [
    {
     "name": "stdout",
     "output_type": "stream",
     "text": [
      "'/content/drive/My Drive/255_Data_Mining/dataset/basic_data_files.csv'\n"
     ]
    }
   ],
   "source": [
    "!ls \"/content/drive/My Drive/255_Data_Mining/dataset/basic_data_files.csv\""
   ]
  },
  {
   "cell_type": "code",
   "execution_count": null,
   "metadata": {
    "id": "8Wtq1f9qvFhL"
   },
   "outputs": [],
   "source": [
    "import pandas as pd\n",
    "import matplotlib.pyplot as plt\n",
    "import seaborn as sns"
   ]
  },
  {
   "cell_type": "code",
   "execution_count": null,
   "metadata": {
    "colab": {
     "base_uri": "https://localhost:8080/"
    },
    "id": "7pGRVWbYu7pn",
    "outputId": "6e637a4a-c1b3-428f-bfa7-85d93390e5c8"
   },
   "outputs": [
    {
     "name": "stderr",
     "output_type": "stream",
     "text": [
      "/usr/local/lib/python3.7/dist-packages/IPython/core/interactiveshell.py:2718: DtypeWarning: Columns (0,8,11,12,35,39,40,41,42,45,48,49,52,53,74,80,83,90,91,103) have mixed types.Specify dtype option on import or set low_memory=False.\n",
      "  interactivity=interactivity, compiler=compiler, result=result)\n"
     ]
    }
   ],
   "source": [
    "df = pd.read_csv(\"/content/drive/My Drive/255_Data_Mining/dataset/basic_data_files.csv\"\n",
    "                 , usecols=['YEAR', 'TRI_FACILITY_ID', 'FACILITY_NAME', 'LATITUDE', 'LONGITUDE', 'ZIP', 'ST','FEDERAL_FACILITY',\n",
    "                                 'INDUSTRY_SECTOR','CHEMICAL','CLEAR_AIR_ACT_CHEMICAL','CAS_#/COMPOUND_ID', 'CLASSIFICATION', 'METAL', 'METAL_CATEGORY',\n",
    "                                 'CARCINOGEN','5.1_FUGITIVE_AIR', '5.2_STACK_AIR','5.3_WATER','5.4_UNDERGROUND','5.5.1_LANDFILLS',\n",
    "                                 '5.5.2_LAND_TREATMENT','5.5.3_SURFACE_IMPOUNDMENT', '5.5.4_OTHER_DISPOSAL','ON-SITE_RELEASE_TOTAL','OFF-SITE_RELEASE_TOTAL',\n",
    "                                 'OFF-SITE_RECYCLED_TOTAL','OFF-SITE_RECOVERY_TOTAL','OFF-SITE_TREATED_TOTAL',\n",
    "                                 'TOTAL_RELEASES','PROD._WASTE_(8.1_THRU_8.7)','PARENT_COMPANY_NAME'],\n",
    "                 nrows = 2548769)"
   ]
  },
  {
   "cell_type": "code",
   "execution_count": null,
   "metadata": {
    "colab": {
     "base_uri": "https://localhost:8080/",
     "height": 442
    },
    "id": "CZyrSPJLvAzG",
    "outputId": "3bd9fcbf-ed1e-4d69-e51d-c7c973eb5ce6"
   },
   "outputs": [
    {
     "data": {
      "text/html": [
       "<div>\n",
       "<style scoped>\n",
       "    .dataframe tbody tr th:only-of-type {\n",
       "        vertical-align: middle;\n",
       "    }\n",
       "\n",
       "    .dataframe tbody tr th {\n",
       "        vertical-align: top;\n",
       "    }\n",
       "\n",
       "    .dataframe thead th {\n",
       "        text-align: right;\n",
       "    }\n",
       "</style>\n",
       "<table border=\"1\" class=\"dataframe\">\n",
       "  <thead>\n",
       "    <tr style=\"text-align: right;\">\n",
       "      <th></th>\n",
       "      <th>YEAR</th>\n",
       "      <th>TRI_FACILITY_ID</th>\n",
       "      <th>FACILITY_NAME</th>\n",
       "      <th>ST</th>\n",
       "      <th>ZIP</th>\n",
       "      <th>LATITUDE</th>\n",
       "      <th>LONGITUDE</th>\n",
       "      <th>FEDERAL_FACILITY</th>\n",
       "      <th>INDUSTRY_SECTOR</th>\n",
       "      <th>CHEMICAL</th>\n",
       "      <th>CAS_#/COMPOUND_ID</th>\n",
       "      <th>CLEAR_AIR_ACT_CHEMICAL</th>\n",
       "      <th>CLASSIFICATION</th>\n",
       "      <th>METAL</th>\n",
       "      <th>METAL_CATEGORY</th>\n",
       "      <th>CARCINOGEN</th>\n",
       "      <th>5.1_FUGITIVE_AIR</th>\n",
       "      <th>5.2_STACK_AIR</th>\n",
       "      <th>5.3_WATER</th>\n",
       "      <th>5.4_UNDERGROUND</th>\n",
       "      <th>5.5.1_LANDFILLS</th>\n",
       "      <th>5.5.2_LAND_TREATMENT</th>\n",
       "      <th>5.5.3_SURFACE_IMPOUNDMENT</th>\n",
       "      <th>5.5.4_OTHER_DISPOSAL</th>\n",
       "      <th>ON-SITE_RELEASE_TOTAL</th>\n",
       "      <th>OFF-SITE_RELEASE_TOTAL</th>\n",
       "      <th>OFF-SITE_RECYCLED_TOTAL</th>\n",
       "      <th>OFF-SITE_RECOVERY_TOTAL</th>\n",
       "      <th>OFF-SITE_TREATED_TOTAL</th>\n",
       "      <th>TOTAL_RELEASES</th>\n",
       "      <th>PROD._WASTE_(8.1_THRU_8.7)</th>\n",
       "      <th>PARENT_COMPANY_NAME</th>\n",
       "    </tr>\n",
       "  </thead>\n",
       "  <tbody>\n",
       "    <tr>\n",
       "      <th>0</th>\n",
       "      <td>2016</td>\n",
       "      <td>46552DCTLT30350</td>\n",
       "      <td>EDCOAT LLC</td>\n",
       "      <td>IN</td>\n",
       "      <td>46552</td>\n",
       "      <td>41.6934</td>\n",
       "      <td>-86.4552</td>\n",
       "      <td>NO</td>\n",
       "      <td>Fabricated Metals</td>\n",
       "      <td>CHROMIUM COMPOUNDS(EXCEPT CHROMITE ORE MINED I...</td>\n",
       "      <td>N090</td>\n",
       "      <td>YES</td>\n",
       "      <td>TRI</td>\n",
       "      <td>YES</td>\n",
       "      <td>1</td>\n",
       "      <td>NO</td>\n",
       "      <td>0</td>\n",
       "      <td>0</td>\n",
       "      <td>0</td>\n",
       "      <td>0</td>\n",
       "      <td>0</td>\n",
       "      <td>0</td>\n",
       "      <td>0</td>\n",
       "      <td>0</td>\n",
       "      <td>0</td>\n",
       "      <td>1170.32</td>\n",
       "      <td>0</td>\n",
       "      <td>0</td>\n",
       "      <td>0</td>\n",
       "      <td>1170.41</td>\n",
       "      <td>1170.32</td>\n",
       "      <td>NaN</td>\n",
       "    </tr>\n",
       "    <tr>\n",
       "      <th>1</th>\n",
       "      <td>2016</td>\n",
       "      <td>01950NNSPC3MALC</td>\n",
       "      <td>UNION SPECIALTIES INC</td>\n",
       "      <td>MA</td>\n",
       "      <td>1950</td>\n",
       "      <td>42.7964</td>\n",
       "      <td>-70.8904</td>\n",
       "      <td>NO</td>\n",
       "      <td>Chemicals</td>\n",
       "      <td>CERTAIN GLYCOL ETHERS</td>\n",
       "      <td>N230</td>\n",
       "      <td>YES</td>\n",
       "      <td>TRI</td>\n",
       "      <td>NO</td>\n",
       "      <td>0</td>\n",
       "      <td>NO</td>\n",
       "      <td>1</td>\n",
       "      <td>17</td>\n",
       "      <td>0</td>\n",
       "      <td>0</td>\n",
       "      <td>0</td>\n",
       "      <td>0</td>\n",
       "      <td>0</td>\n",
       "      <td>0</td>\n",
       "      <td>18</td>\n",
       "      <td>0</td>\n",
       "      <td>0</td>\n",
       "      <td>0</td>\n",
       "      <td>0</td>\n",
       "      <td>18</td>\n",
       "      <td>18</td>\n",
       "      <td>NaN</td>\n",
       "    </tr>\n",
       "    <tr>\n",
       "      <th>2</th>\n",
       "      <td>2016</td>\n",
       "      <td>44691CRGLL1203T</td>\n",
       "      <td>CARGILL ANIMAL NUTRITION</td>\n",
       "      <td>OH</td>\n",
       "      <td>44691</td>\n",
       "      <td>40.7847</td>\n",
       "      <td>-81.9396</td>\n",
       "      <td>NO</td>\n",
       "      <td>Food</td>\n",
       "      <td>ZINC COMPOUNDS</td>\n",
       "      <td>N982</td>\n",
       "      <td>NO</td>\n",
       "      <td>TRI</td>\n",
       "      <td>YES</td>\n",
       "      <td>1</td>\n",
       "      <td>NO</td>\n",
       "      <td>0</td>\n",
       "      <td>0</td>\n",
       "      <td>0</td>\n",
       "      <td>0</td>\n",
       "      <td>0</td>\n",
       "      <td>0</td>\n",
       "      <td>0</td>\n",
       "      <td>0</td>\n",
       "      <td>0</td>\n",
       "      <td>0</td>\n",
       "      <td>0</td>\n",
       "      <td>0</td>\n",
       "      <td>0</td>\n",
       "      <td>0</td>\n",
       "      <td>0</td>\n",
       "      <td>CARGILL INC</td>\n",
       "    </tr>\n",
       "    <tr>\n",
       "      <th>3</th>\n",
       "      <td>2016</td>\n",
       "      <td>02745CSHNT215DU</td>\n",
       "      <td>ACUSHNET CO BALL PLANT III</td>\n",
       "      <td>MA</td>\n",
       "      <td>2745</td>\n",
       "      <td>41.7254</td>\n",
       "      <td>-70.9552</td>\n",
       "      <td>NO</td>\n",
       "      <td>Miscellaneous Manufacturing</td>\n",
       "      <td>DIISOCYANATES</td>\n",
       "      <td>N120</td>\n",
       "      <td>YES</td>\n",
       "      <td>TRI</td>\n",
       "      <td>NO</td>\n",
       "      <td>0</td>\n",
       "      <td>NO</td>\n",
       "      <td>0</td>\n",
       "      <td>0</td>\n",
       "      <td>0</td>\n",
       "      <td>0</td>\n",
       "      <td>0</td>\n",
       "      <td>0</td>\n",
       "      <td>0</td>\n",
       "      <td>0</td>\n",
       "      <td>0</td>\n",
       "      <td>0</td>\n",
       "      <td>0</td>\n",
       "      <td>2191</td>\n",
       "      <td>106</td>\n",
       "      <td>0</td>\n",
       "      <td>2297</td>\n",
       "      <td>ACUSHNET HOLDINGS CORP</td>\n",
       "    </tr>\n",
       "    <tr>\n",
       "      <th>4</th>\n",
       "      <td>2016</td>\n",
       "      <td>30050CLRXC17LAK</td>\n",
       "      <td>CLOROX PRODUCTS MANUFACTURING CO</td>\n",
       "      <td>GA</td>\n",
       "      <td>30297</td>\n",
       "      <td>33.6272</td>\n",
       "      <td>-84.3868</td>\n",
       "      <td>NO</td>\n",
       "      <td>Chemicals</td>\n",
       "      <td>CERTAIN GLYCOL ETHERS</td>\n",
       "      <td>N230</td>\n",
       "      <td>YES</td>\n",
       "      <td>TRI</td>\n",
       "      <td>NO</td>\n",
       "      <td>0</td>\n",
       "      <td>NO</td>\n",
       "      <td>5</td>\n",
       "      <td>5</td>\n",
       "      <td>0</td>\n",
       "      <td>0</td>\n",
       "      <td>0</td>\n",
       "      <td>0</td>\n",
       "      <td>0</td>\n",
       "      <td>0</td>\n",
       "      <td>10</td>\n",
       "      <td>20</td>\n",
       "      <td>0</td>\n",
       "      <td>0</td>\n",
       "      <td>230</td>\n",
       "      <td>50</td>\n",
       "      <td>260</td>\n",
       "      <td>THE CLOROX CO</td>\n",
       "    </tr>\n",
       "    <tr>\n",
       "      <th>5</th>\n",
       "      <td>2016</td>\n",
       "      <td>78114WTCTN5877F</td>\n",
       "      <td>WATCO TANKS INC</td>\n",
       "      <td>TX</td>\n",
       "      <td>78114</td>\n",
       "      <td>29.2561</td>\n",
       "      <td>-98.0917</td>\n",
       "      <td>NO</td>\n",
       "      <td>Fabricated Metals</td>\n",
       "      <td>STYRENE</td>\n",
       "      <td>000100425</td>\n",
       "      <td>YES</td>\n",
       "      <td>TRI</td>\n",
       "      <td>NO</td>\n",
       "      <td>0</td>\n",
       "      <td>YES</td>\n",
       "      <td>0</td>\n",
       "      <td>5488</td>\n",
       "      <td>0</td>\n",
       "      <td>0</td>\n",
       "      <td>0</td>\n",
       "      <td>0</td>\n",
       "      <td>0</td>\n",
       "      <td>0</td>\n",
       "      <td>5488</td>\n",
       "      <td>0</td>\n",
       "      <td>0</td>\n",
       "      <td>0</td>\n",
       "      <td>0</td>\n",
       "      <td>5488</td>\n",
       "      <td>5488</td>\n",
       "      <td>NaN</td>\n",
       "    </tr>\n",
       "  </tbody>\n",
       "</table>\n",
       "</div>"
      ],
      "text/plain": [
       "   YEAR  TRI_FACILITY_ID  ... PROD._WASTE_(8.1_THRU_8.7)     PARENT_COMPANY_NAME\n",
       "0  2016  46552DCTLT30350  ...                    1170.32                     NaN\n",
       "1  2016  01950NNSPC3MALC  ...                         18                     NaN\n",
       "2  2016  44691CRGLL1203T  ...                          0             CARGILL INC\n",
       "3  2016  02745CSHNT215DU  ...                       2297  ACUSHNET HOLDINGS CORP\n",
       "4  2016  30050CLRXC17LAK  ...                        260           THE CLOROX CO\n",
       "5  2016  78114WTCTN5877F  ...                       5488                     NaN\n",
       "\n",
       "[6 rows x 32 columns]"
      ]
     },
     "metadata": {},
     "output_type": "display_data"
    }
   ],
   "source": [
    "df.head(6)"
   ]
  },
  {
   "cell_type": "code",
   "execution_count": null,
   "metadata": {
    "id": "wMdJHJgovZsa"
   },
   "outputs": [],
   "source": [
    "df.describe()"
   ]
  },
  {
   "cell_type": "code",
   "execution_count": null,
   "metadata": {
    "colab": {
     "base_uri": "https://localhost:8080/"
    },
    "id": "Wuvk2ZV4GTpT",
    "outputId": "dce20983-4cb9-47f8-adea-cbfd4e5ecaab"
   },
   "outputs": [
    {
     "data": {
      "text/plain": [
       "YEAR  TRI_FACILITY_ID  FACILITY_NAME                                        ST  ZIP    LATITUDE            LONGITUDE           FEDERAL_FACILITY  INDUSTRY_SECTOR           CHEMICAL            CAS_#/COMPOUND_ID  CLEAR_AIR_ACT_CHEMICAL  CLASSIFICATION  METAL  METAL_CATEGORY  CARCINOGEN  5.1_FUGITIVE_AIR  5.2_STACK_AIR  5.3_WATER  5.4_UNDERGROUND  5.5.1_LANDFILLS  5.5.2_LAND_TREATMENT  5.5.3_SURFACE_IMPOUNDMENT  5.5.4_OTHER_DISPOSAL  ON-SITE_RELEASE_TOTAL  OFF-SITE_RELEASE_TOTAL  OFF-SITE_RECYCLED_TOTAL  OFF-SITE_RECOVERY_TOTAL  OFF-SITE_TREATED_TOTAL  TOTAL_RELEASES  PROD._WASTE_(8.1_THRU_8.7)  PARENT_COMPANY_NAME   \n",
       "YEAR  TRI_FACILITY_ID  FACILITY_NAME                                        ST  ZIP    LATITUDE            LONGITUDE           FEDERAL_FACILITY  INDUSTRY_SECTOR           CHEMICAL            CAS_#/COMPOUND_ID  CLEAR_AIR_ACT_CHEMICAL  CLASSIFICATION  METAL  METAL_CATEGORY  CARCINOGEN  5.1_FUGITIVE_AIR  5.2_STACK_AIR  5.3_WATER  5.4_UNDERGROUND  5.5.1_LANDFILLS  5.5.2_LAND_TREATMENT  5.5.3_SURFACE_IMPOUNDMENT  5.5.4_OTHER_DISPOSAL  ON-SITE_RELEASE_TOTAL  OFF-SITE_RELEASE_TOTAL  OFF-SITE_RECYCLED_TOTAL  OFF-SITE_RECOVERY_TOTAL  OFF-SITE_TREATED_TOTAL  TOTAL_RELEASES  PROD._WASTE_(8.1_THRU_8.7)  PARENT_COMPANY_NAME       30\n",
       "2011  06787YLTSF45OLD  STEWART EFI CT LLC                                   CT  6787   41.65173            -73.07802           NO                Fabricated Metals         MIXTURE             MIXTURE            NO                      TRI             NO     0               NO          0.0               0.0            0.0        0                0                0.0                   0                          0.0                   0.0                    0.0                     0.0                      0.0                      0.0                     0.0             0.0                         STEWART EFI LLC           20\n",
       "      44705THKRL442LU  MATALCO (US) INC                                     OH  44705  40.82553            -81.31115           NO                Primary Metals            MIXTURE             MIXTURE            NO                      TRI             NO     0               NO          0.0               0.0            0.0        0                0                0.0                   0                          0.0                   0.0                    0.0                     0.0                      0.0                      0.0                     0.0             0.0                         MATALCO (US) INC          20\n",
       "2012  29602JPSTMCOMME  IAC GREENVILLE LLC                                   SC  29611  34.812313           -82.435103          NO                Transportation Equipment  MIXTURE             MIXTURE            NO                      TRI             NO     0               NO          0.0               0.0            0.0        0                0                0.0                   0                          0.0                   0.0                    0.0                     0.0                      0.0                      0.0                     0.0             0.0                         IAC N.A.                  10\n",
       "      93030PTTCH501DE  PTI TECHNOLOGIES INC                                 CA  93030  34.20616            -119.1272           NO                Transportation Equipment  MIXTURE             MIXTURE            NO                      TRI             NO     0               NO          0.0               0.0            0.0        0                0                0.0                   0                          0.0                   0.0                    0.0                     0.0                      0.0                      0.0                     0.0             0.0                         ESCO TECHNOLOGIES INC     10\n",
       "                                                                                                                                                                                                                                                                                                                                                                                                                                                                                                                                                                                                                                                 ..\n",
       "2006  46323HMMND23081  HAMMOND LEAD PRODUCTS & HAMMOND EXPANDERS DIVISIONS  IN  46320  41.595513000000004  -87.47372800000001  NO                Chemicals                 ANTIMONY COMPOUNDS  N010               YES                     TRI             YES    1               NO          4.0               3.0            0.0        0                0                0.0                   0                          0.0                   7.0                    5.0                     0.0                      0.0                      0.0                     14.0            12.0                        HAMMOND GROUP INC          1\n",
       "                                                                                                                                                                           BARIUM COMPOUNDS    N040               NO                      TRI             NO     3               NO          9.0               7.0            0.0        0                0                0.0                   0                          0.0                   16.0                   23.0                    0.0                      0.0                      1.0                     39.0            40.0                        HAMMOND GROUP INC          1\n",
       "                                                                                                                                                                           ZINC COMPOUNDS      N982               NO                      TRI             YES    1               NO          61.0              48.0           0.0        0                0                0.0                   0                          0.0                   109.0                  7.0                     0.0                      0.0                      0.0                     122.0           116.0                       HAMMOND GROUP INC          1\n",
       "      46323HMMND3100M  HAMMOND GROUP INC- EXPANDERS 3100                    IN  46323  41.475390000000004  -87.02712           NO                Chemicals                 BARIUM COMPOUNDS    N040               NO                      TRI             NO     3               NO          1.0               1.0            0.0        0                0                0.0                   0                          0.0                   2.0                    628.0                   0.0                      0.0                      1.0                     630.0           631.0                       HAMMOND GROUP INC          1\n",
       "1993  00602BXTRHRD115  DADE DIAGNOSTICS OF PR INC                           PR  602    18.380797           -67.191301          NO                Plastics and Rubber       METHANOL            000067561          YES                     TRI             NO     0               NO          0.0               0.0            0.0        0                0                0.0                   0                          0.0                   0.0                    0.0                     0.0                      750.0                    0.0                     0.0             1600.0                      DADE INTERNATIONAL INC     1\n",
       "Length: 1687524, dtype: int64"
      ]
     },
     "metadata": {},
     "output_type": "display_data"
    }
   ],
   "source": [
    "df.value_counts()"
   ]
  },
  {
   "cell_type": "code",
   "execution_count": null,
   "metadata": {
    "colab": {
     "base_uri": "https://localhost:8080/"
    },
    "id": "UpE0uqAqGjjw",
    "outputId": "49de4aa8-0f2e-4e59-b6a7-99b0138a97d9"
   },
   "outputs": [
    {
     "data": {
      "text/plain": [
       "NO                  2517537\n",
       "YES                   31202\n",
       "FEDERAL_FACILITY         30\n",
       "Name: FEDERAL_FACILITY, dtype: int64"
      ]
     },
     "metadata": {},
     "output_type": "display_data"
    }
   ],
   "source": [
    "df['FEDERAL_FACILITY'].value_counts()"
   ]
  },
  {
   "cell_type": "code",
   "execution_count": null,
   "metadata": {
    "id": "rrEbh1HnvpJN"
   },
   "outputs": [],
   "source": [
    "df.drop(df[df['YEAR'] == 'YEAR'].index, inplace = True)\n",
    "df.drop(df[df['YEAR'] == 'Unnamed: 0'].index, inplace = True)\n",
    "df.drop(df[df['YEAR'] == 0].index, inplace = True)\n",
    "# df.drop[df['YEAR']=='Unnamed: 0'] = 0\n",
    "# df.drop(df[df['YEAR'] < 2000].index, inplace = True)"
   ]
  },
  {
   "cell_type": "code",
   "execution_count": null,
   "metadata": {
    "id": "_URuGnvP4mXe"
   },
   "outputs": [],
   "source": [
    "df['FEDERAL_FACILITY'] = df['FEDERAL_FACILITY'].map(dict(YES=1, NO=0))\n",
    "df['CLEAR_AIR_ACT_CHEMICAL'] = df['CLEAR_AIR_ACT_CHEMICAL'].map(dict(YES=1, NO=0))\n",
    "df['METAL'] = df['METAL'].map(dict(YES=1, NO=0))\n",
    "df['CARCINOGEN'] = df['CARCINOGEN'].map(dict(YES=1, NO=0))"
   ]
  },
  {
   "cell_type": "code",
   "execution_count": null,
   "metadata": {
    "colab": {
     "base_uri": "https://localhost:8080/"
    },
    "id": "vymlMpN-G0QW",
    "outputId": "cda1e399-eb7b-4bff-b880-195975d63a58"
   },
   "outputs": [
    {
     "data": {
      "text/plain": [
       "0    2517537\n",
       "1      31202\n",
       "Name: FEDERAL_FACILITY, dtype: int64"
      ]
     },
     "metadata": {},
     "output_type": "display_data"
    }
   ],
   "source": [
    "df['FEDERAL_FACILITY'].value_counts()"
   ]
  },
  {
   "cell_type": "code",
   "execution_count": null,
   "metadata": {
    "id": "E2_Ouz1r5GJG"
   },
   "outputs": [],
   "source": [
    "import numpy as np\n",
    "df.replace([np.inf, -np.inf], np.nan, inplace=True)\n",
    "df.dropna(inplace=True)"
   ]
  },
  {
   "cell_type": "code",
   "execution_count": null,
   "metadata": {
    "colab": {
     "base_uri": "https://localhost:8080/"
    },
    "id": "3e4fTGKU35kt",
    "outputId": "9de34b21-9d78-43f6-be9a-49a1a40f9124"
   },
   "outputs": [
    {
     "data": {
      "text/plain": [
       "YEAR                          object\n",
       "TRI_FACILITY_ID               object\n",
       "FACILITY_NAME                 object\n",
       "ST                            object\n",
       "ZIP                           object\n",
       "LATITUDE                      object\n",
       "LONGITUDE                     object\n",
       "FEDERAL_FACILITY               int64\n",
       "INDUSTRY_SECTOR               object\n",
       "CHEMICAL                      object\n",
       "CAS_#/COMPOUND_ID             object\n",
       "CLEAR_AIR_ACT_CHEMICAL         int64\n",
       "CLASSIFICATION                object\n",
       "METAL                          int64\n",
       "METAL_CATEGORY                object\n",
       "CARCINOGEN                     int64\n",
       "5.1_FUGITIVE_AIR              object\n",
       "5.2_STACK_AIR                 object\n",
       "5.3_WATER                     object\n",
       "5.4_UNDERGROUND               object\n",
       "5.5.1_LANDFILLS               object\n",
       "5.5.2_LAND_TREATMENT          object\n",
       "5.5.3_SURFACE_IMPOUNDMENT     object\n",
       "5.5.4_OTHER_DISPOSAL          object\n",
       "ON-SITE_RELEASE_TOTAL         object\n",
       "OFF-SITE_RELEASE_TOTAL        object\n",
       "OFF-SITE_RECYCLED_TOTAL       object\n",
       "OFF-SITE_RECOVERY_TOTAL       object\n",
       "OFF-SITE_TREATED_TOTAL        object\n",
       "TOTAL_RELEASES                object\n",
       "PROD._WASTE_(8.1_THRU_8.7)    object\n",
       "PARENT_COMPANY_NAME           object\n",
       "dtype: object"
      ]
     },
     "metadata": {},
     "output_type": "display_data"
    }
   ],
   "source": [
    "df.dtypes"
   ]
  },
  {
   "cell_type": "code",
   "execution_count": null,
   "metadata": {
    "id": "sKvFz4ke4gno"
   },
   "outputs": [],
   "source": [
    "df['YEAR']=df['YEAR'].astype(int)  \n",
    "df['ZIP']=df.ZIP.astype(int)\n",
    "df['LATITUDE']=df.LATITUDE.astype(float)\n",
    "df['LONGITUDE']=df.LONGITUDE.astype(float)\n",
    "df['5.1_FUGITIVE_AIR']=df['5.1_FUGITIVE_AIR'].astype(float)  \n",
    "df['5.2_STACK_AIR']=df['5.2_STACK_AIR'].astype(float)  \n",
    "df['5.3_WATER']=df['5.3_WATER'].astype(float)  \n",
    "df['5.4_UNDERGROUND']=df['5.4_UNDERGROUND'].astype(float)  \n",
    "df['5.5.1_LANDFILLS']=df['5.5.1_LANDFILLS'].astype(float)  \n",
    "df['5.5.2_LAND_TREATMENT']=df['5.5.2_LAND_TREATMENT'].astype(float)  \n",
    "df['5.5.3_SURFACE_IMPOUNDMENT']=df['5.5.3_SURFACE_IMPOUNDMENT'].astype(float)  \n",
    "df['5.5.4_OTHER_DISPOSAL']=df['5.5.4_OTHER_DISPOSAL'].astype(float)  \n",
    "df['ON-SITE_RELEASE_TOTAL']=df['ON-SITE_RELEASE_TOTAL'].astype(float)  \n",
    "df['OFF-SITE_RELEASE_TOTAL']=df['OFF-SITE_RELEASE_TOTAL'].astype(float)  \n",
    "df['OFF-SITE_RECYCLED_TOTAL']=df['OFF-SITE_RECYCLED_TOTAL'].astype(float)  \n",
    "df['OFF-SITE_RECOVERY_TOTAL']=df['OFF-SITE_RECOVERY_TOTAL'].astype(float)  \n",
    "df['OFF-SITE_TREATED_TOTAL']=df['OFF-SITE_TREATED_TOTAL'].astype(float)  \n",
    "df['TOTAL_RELEASES']=df['TOTAL_RELEASES'].astype(float)  \n",
    "df['PROD._WASTE_(8.1_THRU_8.7)']=df['PROD._WASTE_(8.1_THRU_8.7)'].astype(float)   "
   ]
  },
  {
   "cell_type": "code",
   "execution_count": null,
   "metadata": {
    "colab": {
     "base_uri": "https://localhost:8080/"
    },
    "id": "LcpcQn4k6skU",
    "outputId": "91043a4b-7fe0-4ad7-94c7-7b4be472a7d2"
   },
   "outputs": [
    {
     "data": {
      "text/plain": [
       "YEAR                            int64\n",
       "TRI_FACILITY_ID                object\n",
       "FACILITY_NAME                  object\n",
       "ST                             object\n",
       "ZIP                             int64\n",
       "LATITUDE                      float64\n",
       "LONGITUDE                     float64\n",
       "FEDERAL_FACILITY                int64\n",
       "INDUSTRY_SECTOR                object\n",
       "CHEMICAL                       object\n",
       "CAS_#/COMPOUND_ID              object\n",
       "CLEAR_AIR_ACT_CHEMICAL          int64\n",
       "CLASSIFICATION                 object\n",
       "METAL                           int64\n",
       "METAL_CATEGORY                 object\n",
       "CARCINOGEN                      int64\n",
       "5.1_FUGITIVE_AIR              float64\n",
       "5.2_STACK_AIR                 float64\n",
       "5.3_WATER                     float64\n",
       "5.4_UNDERGROUND               float64\n",
       "5.5.1_LANDFILLS               float64\n",
       "5.5.2_LAND_TREATMENT          float64\n",
       "5.5.3_SURFACE_IMPOUNDMENT     float64\n",
       "5.5.4_OTHER_DISPOSAL          float64\n",
       "ON-SITE_RELEASE_TOTAL         float64\n",
       "OFF-SITE_RELEASE_TOTAL        float64\n",
       "OFF-SITE_RECYCLED_TOTAL       float64\n",
       "OFF-SITE_RECOVERY_TOTAL       float64\n",
       "OFF-SITE_TREATED_TOTAL        float64\n",
       "TOTAL_RELEASES                float64\n",
       "PROD._WASTE_(8.1_THRU_8.7)    float64\n",
       "PARENT_COMPANY_NAME            object\n",
       "dtype: object"
      ]
     },
     "metadata": {},
     "output_type": "display_data"
    }
   ],
   "source": [
    "df.dtypes"
   ]
  },
  {
   "cell_type": "code",
   "execution_count": null,
   "metadata": {
    "colab": {
     "base_uri": "https://localhost:8080/"
    },
    "id": "LTJJsGjv7KVj",
    "outputId": "1c42da6c-87e2-4142-cf6a-7e6698cfaf36"
   },
   "outputs": [
    {
     "data": {
      "text/plain": [
       "['TRI_FACILITY_ID',\n",
       " 'FACILITY_NAME',\n",
       " 'ST',\n",
       " 'INDUSTRY_SECTOR',\n",
       " 'CHEMICAL',\n",
       " 'CAS_#/COMPOUND_ID',\n",
       " 'CLASSIFICATION',\n",
       " 'METAL_CATEGORY',\n",
       " 'PARENT_COMPANY_NAME']"
      ]
     },
     "metadata": {},
     "output_type": "display_data"
    }
   ],
   "source": [
    "from sklearn.compose import make_column_selector as selector\n",
    "\n",
    "categorical_columns_selector = selector(dtype_include=object)\n",
    "categorical_columns = categorical_columns_selector(df)\n",
    "categorical_columns\n",
    "\n",
    "# df = pd.get_dummies(df, columns=['TRI_FACILITY_ID','FACILITY_NAME','ST','INDUSTRY_SECTOR','CHEMICAL', \n",
    "#                                  'CAS_#/COMPOUND_ID','CLASSIFICATION','METAL_CATEGORY','PARENT_COMPANY_NAME'])"
   ]
  },
  {
   "cell_type": "code",
   "execution_count": null,
   "metadata": {
    "id": "zIJcRY14DIOY"
   },
   "outputs": [],
   "source": [
    "from sklearn.preprocessing import OrdinalEncoder\n",
    "for col in [['TRI_FACILITY_ID','FACILITY_NAME','ST','INDUSTRY_SECTOR'\n",
    "              ,'CHEMICAL','CAS_#/COMPOUND_ID','CLASSIFICATION','METAL_CATEGORY','PARENT_COMPANY_NAME']]:\n",
    "    df[col] = OrdinalEncoder().fit_transform(df[col].astype(str))"
   ]
  },
  {
   "cell_type": "code",
   "execution_count": null,
   "metadata": {
    "colab": {
     "base_uri": "https://localhost:8080/"
    },
    "id": "Obp4SxmCDWH7",
    "outputId": "821228da-166b-4065-f19b-e9181e57003d"
   },
   "outputs": [
    {
     "name": "stderr",
     "output_type": "stream",
     "text": [
      "/usr/local/lib/python3.7/dist-packages/sklearn/preprocessing/_label.py:115: DataConversionWarning: A column-vector y was passed when a 1d array was expected. Please change the shape of y to (n_samples, ), for example using ravel().\n",
      "  y = column_or_1d(y, warn=True)\n"
     ]
    }
   ],
   "source": [
    "from sklearn.preprocessing import LabelEncoder\n",
    "for col in [['CHEMICAL']]:\n",
    "    df[col] = LabelEncoder().fit_transform(df[col].astype(str))"
   ]
  },
  {
   "cell_type": "code",
   "execution_count": null,
   "metadata": {
    "colab": {
     "base_uri": "https://localhost:8080/",
     "height": 456
    },
    "id": "eMxKPcQlEaaO",
    "outputId": "621d0ad9-ac8e-4c57-8861-08fa0ad50cf0"
   },
   "outputs": [
    {
     "data": {
      "text/html": [
       "<div>\n",
       "<style scoped>\n",
       "    .dataframe tbody tr th:only-of-type {\n",
       "        vertical-align: middle;\n",
       "    }\n",
       "\n",
       "    .dataframe tbody tr th {\n",
       "        vertical-align: top;\n",
       "    }\n",
       "\n",
       "    .dataframe thead th {\n",
       "        text-align: right;\n",
       "    }\n",
       "</style>\n",
       "<table border=\"1\" class=\"dataframe\">\n",
       "  <thead>\n",
       "    <tr style=\"text-align: right;\">\n",
       "      <th></th>\n",
       "      <th>YEAR</th>\n",
       "      <th>TRI_FACILITY_ID</th>\n",
       "      <th>FACILITY_NAME</th>\n",
       "      <th>ST</th>\n",
       "      <th>ZIP</th>\n",
       "      <th>LATITUDE</th>\n",
       "      <th>LONGITUDE</th>\n",
       "      <th>FEDERAL_FACILITY</th>\n",
       "      <th>INDUSTRY_SECTOR</th>\n",
       "      <th>CHEMICAL</th>\n",
       "      <th>CAS_#/COMPOUND_ID</th>\n",
       "      <th>CLEAR_AIR_ACT_CHEMICAL</th>\n",
       "      <th>CLASSIFICATION</th>\n",
       "      <th>METAL</th>\n",
       "      <th>METAL_CATEGORY</th>\n",
       "      <th>CARCINOGEN</th>\n",
       "      <th>5.1_FUGITIVE_AIR</th>\n",
       "      <th>5.2_STACK_AIR</th>\n",
       "      <th>5.3_WATER</th>\n",
       "      <th>5.4_UNDERGROUND</th>\n",
       "      <th>5.5.1_LANDFILLS</th>\n",
       "      <th>5.5.2_LAND_TREATMENT</th>\n",
       "      <th>5.5.3_SURFACE_IMPOUNDMENT</th>\n",
       "      <th>5.5.4_OTHER_DISPOSAL</th>\n",
       "      <th>ON-SITE_RELEASE_TOTAL</th>\n",
       "      <th>OFF-SITE_RELEASE_TOTAL</th>\n",
       "      <th>OFF-SITE_RECYCLED_TOTAL</th>\n",
       "      <th>OFF-SITE_RECOVERY_TOTAL</th>\n",
       "      <th>OFF-SITE_TREATED_TOTAL</th>\n",
       "      <th>TOTAL_RELEASES</th>\n",
       "      <th>PROD._WASTE_(8.1_THRU_8.7)</th>\n",
       "      <th>PARENT_COMPANY_NAME</th>\n",
       "    </tr>\n",
       "  </thead>\n",
       "  <tbody>\n",
       "    <tr>\n",
       "      <th>2</th>\n",
       "      <td>2016</td>\n",
       "      <td>16179.0</td>\n",
       "      <td>4480.0</td>\n",
       "      <td>38.0</td>\n",
       "      <td>44691</td>\n",
       "      <td>40.784710</td>\n",
       "      <td>-81.939580</td>\n",
       "      <td>0</td>\n",
       "      <td>9.0</td>\n",
       "      <td>554</td>\n",
       "      <td>598.0</td>\n",
       "      <td>0</td>\n",
       "      <td>2.0</td>\n",
       "      <td>1</td>\n",
       "      <td>1.0</td>\n",
       "      <td>0</td>\n",
       "      <td>0.0</td>\n",
       "      <td>0.0</td>\n",
       "      <td>0.0</td>\n",
       "      <td>0.0</td>\n",
       "      <td>0.0</td>\n",
       "      <td>0.0</td>\n",
       "      <td>0.0</td>\n",
       "      <td>0.0</td>\n",
       "      <td>0.0</td>\n",
       "      <td>0.0</td>\n",
       "      <td>0.0</td>\n",
       "      <td>0.0</td>\n",
       "      <td>0.0</td>\n",
       "      <td>0.0</td>\n",
       "      <td>0.0</td>\n",
       "      <td>1827.0</td>\n",
       "    </tr>\n",
       "    <tr>\n",
       "      <th>3</th>\n",
       "      <td>2016</td>\n",
       "      <td>872.0</td>\n",
       "      <td>327.0</td>\n",
       "      <td>21.0</td>\n",
       "      <td>2745</td>\n",
       "      <td>41.725430</td>\n",
       "      <td>-70.955170</td>\n",
       "      <td>0</td>\n",
       "      <td>15.0</td>\n",
       "      <td>197</td>\n",
       "      <td>578.0</td>\n",
       "      <td>1</td>\n",
       "      <td>2.0</td>\n",
       "      <td>0</td>\n",
       "      <td>0.0</td>\n",
       "      <td>0</td>\n",
       "      <td>0.0</td>\n",
       "      <td>0.0</td>\n",
       "      <td>0.0</td>\n",
       "      <td>0.0</td>\n",
       "      <td>0.0</td>\n",
       "      <td>0.0</td>\n",
       "      <td>0.0</td>\n",
       "      <td>0.0</td>\n",
       "      <td>0.0</td>\n",
       "      <td>0.0</td>\n",
       "      <td>0.0</td>\n",
       "      <td>2191.0</td>\n",
       "      <td>106.0</td>\n",
       "      <td>0.0</td>\n",
       "      <td>2297.0</td>\n",
       "      <td>141.0</td>\n",
       "    </tr>\n",
       "    <tr>\n",
       "      <th>4</th>\n",
       "      <td>2016</td>\n",
       "      <td>9404.0</td>\n",
       "      <td>5787.0</td>\n",
       "      <td>11.0</td>\n",
       "      <td>30297</td>\n",
       "      <td>33.627222</td>\n",
       "      <td>-84.386839</td>\n",
       "      <td>0</td>\n",
       "      <td>3.0</td>\n",
       "      <td>116</td>\n",
       "      <td>581.0</td>\n",
       "      <td>1</td>\n",
       "      <td>2.0</td>\n",
       "      <td>0</td>\n",
       "      <td>0.0</td>\n",
       "      <td>0</td>\n",
       "      <td>5.0</td>\n",
       "      <td>5.0</td>\n",
       "      <td>0.0</td>\n",
       "      <td>0.0</td>\n",
       "      <td>0.0</td>\n",
       "      <td>0.0</td>\n",
       "      <td>0.0</td>\n",
       "      <td>0.0</td>\n",
       "      <td>10.0</td>\n",
       "      <td>20.0</td>\n",
       "      <td>0.0</td>\n",
       "      <td>0.0</td>\n",
       "      <td>230.0</td>\n",
       "      <td>50.0</td>\n",
       "      <td>260.0</td>\n",
       "      <td>10258.0</td>\n",
       "    </tr>\n",
       "    <tr>\n",
       "      <th>6</th>\n",
       "      <td>2016</td>\n",
       "      <td>18822.0</td>\n",
       "      <td>10609.0</td>\n",
       "      <td>24.0</td>\n",
       "      <td>48211</td>\n",
       "      <td>42.381971</td>\n",
       "      <td>-83.044919</td>\n",
       "      <td>0</td>\n",
       "      <td>28.0</td>\n",
       "      <td>364</td>\n",
       "      <td>585.0</td>\n",
       "      <td>1</td>\n",
       "      <td>2.0</td>\n",
       "      <td>1</td>\n",
       "      <td>1.0</td>\n",
       "      <td>0</td>\n",
       "      <td>0.0</td>\n",
       "      <td>1.0</td>\n",
       "      <td>0.0</td>\n",
       "      <td>0.0</td>\n",
       "      <td>0.0</td>\n",
       "      <td>0.0</td>\n",
       "      <td>0.0</td>\n",
       "      <td>0.0</td>\n",
       "      <td>1.0</td>\n",
       "      <td>1080.0</td>\n",
       "      <td>0.0</td>\n",
       "      <td>0.0</td>\n",
       "      <td>0.0</td>\n",
       "      <td>1601.0</td>\n",
       "      <td>1081.0</td>\n",
       "      <td>4147.0</td>\n",
       "    </tr>\n",
       "    <tr>\n",
       "      <th>7</th>\n",
       "      <td>2016</td>\n",
       "      <td>11767.0</td>\n",
       "      <td>11696.0</td>\n",
       "      <td>1.0</td>\n",
       "      <td>35064</td>\n",
       "      <td>33.497505</td>\n",
       "      <td>-86.911426</td>\n",
       "      <td>0</td>\n",
       "      <td>8.0</td>\n",
       "      <td>24</td>\n",
       "      <td>160.0</td>\n",
       "      <td>0</td>\n",
       "      <td>2.0</td>\n",
       "      <td>0</td>\n",
       "      <td>0.0</td>\n",
       "      <td>0</td>\n",
       "      <td>233.0</td>\n",
       "      <td>222.0</td>\n",
       "      <td>0.0</td>\n",
       "      <td>0.0</td>\n",
       "      <td>0.0</td>\n",
       "      <td>0.0</td>\n",
       "      <td>0.0</td>\n",
       "      <td>0.0</td>\n",
       "      <td>455.0</td>\n",
       "      <td>28.0</td>\n",
       "      <td>0.0</td>\n",
       "      <td>5326.0</td>\n",
       "      <td>0.0</td>\n",
       "      <td>483.0</td>\n",
       "      <td>10017.0</td>\n",
       "      <td>4564.0</td>\n",
       "    </tr>\n",
       "    <tr>\n",
       "      <th>...</th>\n",
       "      <td>...</td>\n",
       "      <td>...</td>\n",
       "      <td>...</td>\n",
       "      <td>...</td>\n",
       "      <td>...</td>\n",
       "      <td>...</td>\n",
       "      <td>...</td>\n",
       "      <td>...</td>\n",
       "      <td>...</td>\n",
       "      <td>...</td>\n",
       "      <td>...</td>\n",
       "      <td>...</td>\n",
       "      <td>...</td>\n",
       "      <td>...</td>\n",
       "      <td>...</td>\n",
       "      <td>...</td>\n",
       "      <td>...</td>\n",
       "      <td>...</td>\n",
       "      <td>...</td>\n",
       "      <td>...</td>\n",
       "      <td>...</td>\n",
       "      <td>...</td>\n",
       "      <td>...</td>\n",
       "      <td>...</td>\n",
       "      <td>...</td>\n",
       "      <td>...</td>\n",
       "      <td>...</td>\n",
       "      <td>...</td>\n",
       "      <td>...</td>\n",
       "      <td>...</td>\n",
       "      <td>...</td>\n",
       "      <td>...</td>\n",
       "    </tr>\n",
       "    <tr>\n",
       "      <th>2548764</th>\n",
       "      <td>1993</td>\n",
       "      <td>33457.0</td>\n",
       "      <td>25803.0</td>\n",
       "      <td>5.0</td>\n",
       "      <td>92704</td>\n",
       "      <td>33.711490</td>\n",
       "      <td>-117.921790</td>\n",
       "      <td>0</td>\n",
       "      <td>5.0</td>\n",
       "      <td>144</td>\n",
       "      <td>449.0</td>\n",
       "      <td>0</td>\n",
       "      <td>2.0</td>\n",
       "      <td>1</td>\n",
       "      <td>1.0</td>\n",
       "      <td>0</td>\n",
       "      <td>0.0</td>\n",
       "      <td>0.0</td>\n",
       "      <td>0.0</td>\n",
       "      <td>0.0</td>\n",
       "      <td>0.0</td>\n",
       "      <td>0.0</td>\n",
       "      <td>0.0</td>\n",
       "      <td>0.0</td>\n",
       "      <td>0.0</td>\n",
       "      <td>250.0</td>\n",
       "      <td>66400.0</td>\n",
       "      <td>0.0</td>\n",
       "      <td>0.0</td>\n",
       "      <td>500.0</td>\n",
       "      <td>66818.0</td>\n",
       "      <td>10684.0</td>\n",
       "    </tr>\n",
       "    <tr>\n",
       "      <th>2548765</th>\n",
       "      <td>1993</td>\n",
       "      <td>23787.0</td>\n",
       "      <td>14653.0</td>\n",
       "      <td>16.0</td>\n",
       "      <td>61240</td>\n",
       "      <td>41.455890</td>\n",
       "      <td>-90.389700</td>\n",
       "      <td>0</td>\n",
       "      <td>13.0</td>\n",
       "      <td>144</td>\n",
       "      <td>449.0</td>\n",
       "      <td>0</td>\n",
       "      <td>2.0</td>\n",
       "      <td>1</td>\n",
       "      <td>1.0</td>\n",
       "      <td>0</td>\n",
       "      <td>0.0</td>\n",
       "      <td>0.0</td>\n",
       "      <td>0.0</td>\n",
       "      <td>0.0</td>\n",
       "      <td>0.0</td>\n",
       "      <td>0.0</td>\n",
       "      <td>0.0</td>\n",
       "      <td>0.0</td>\n",
       "      <td>0.0</td>\n",
       "      <td>0.0</td>\n",
       "      <td>1570.0</td>\n",
       "      <td>0.0</td>\n",
       "      <td>0.0</td>\n",
       "      <td>0.0</td>\n",
       "      <td>1570.0</td>\n",
       "      <td>5837.0</td>\n",
       "    </tr>\n",
       "    <tr>\n",
       "      <th>2548766</th>\n",
       "      <td>1993</td>\n",
       "      <td>17441.0</td>\n",
       "      <td>25737.0</td>\n",
       "      <td>17.0</td>\n",
       "      <td>46514</td>\n",
       "      <td>41.729813</td>\n",
       "      <td>-86.018014</td>\n",
       "      <td>0</td>\n",
       "      <td>21.0</td>\n",
       "      <td>483</td>\n",
       "      <td>183.0</td>\n",
       "      <td>1</td>\n",
       "      <td>2.0</td>\n",
       "      <td>0</td>\n",
       "      <td>0.0</td>\n",
       "      <td>1</td>\n",
       "      <td>2143.0</td>\n",
       "      <td>8569.0</td>\n",
       "      <td>0.0</td>\n",
       "      <td>0.0</td>\n",
       "      <td>0.0</td>\n",
       "      <td>0.0</td>\n",
       "      <td>0.0</td>\n",
       "      <td>0.0</td>\n",
       "      <td>10712.0</td>\n",
       "      <td>0.0</td>\n",
       "      <td>0.0</td>\n",
       "      <td>1551.0</td>\n",
       "      <td>0.0</td>\n",
       "      <td>10712.0</td>\n",
       "      <td>12263.0</td>\n",
       "      <td>10650.0</td>\n",
       "    </tr>\n",
       "    <tr>\n",
       "      <th>2548767</th>\n",
       "      <td>1993</td>\n",
       "      <td>17833.0</td>\n",
       "      <td>7296.0</td>\n",
       "      <td>17.0</td>\n",
       "      <td>46787</td>\n",
       "      <td>41.090900</td>\n",
       "      <td>-85.633390</td>\n",
       "      <td>0</td>\n",
       "      <td>7.0</td>\n",
       "      <td>39</td>\n",
       "      <td>568.0</td>\n",
       "      <td>1</td>\n",
       "      <td>2.0</td>\n",
       "      <td>1</td>\n",
       "      <td>1.0</td>\n",
       "      <td>0</td>\n",
       "      <td>0.0</td>\n",
       "      <td>0.0</td>\n",
       "      <td>0.0</td>\n",
       "      <td>0.0</td>\n",
       "      <td>0.0</td>\n",
       "      <td>0.0</td>\n",
       "      <td>0.0</td>\n",
       "      <td>0.0</td>\n",
       "      <td>0.0</td>\n",
       "      <td>1114.0</td>\n",
       "      <td>0.0</td>\n",
       "      <td>0.0</td>\n",
       "      <td>0.0</td>\n",
       "      <td>1114.0</td>\n",
       "      <td>5066.0</td>\n",
       "      <td>2905.0</td>\n",
       "    </tr>\n",
       "    <tr>\n",
       "      <th>2548768</th>\n",
       "      <td>1993</td>\n",
       "      <td>29661.0</td>\n",
       "      <td>9013.0</td>\n",
       "      <td>47.0</td>\n",
       "      <td>77701</td>\n",
       "      <td>30.063277</td>\n",
       "      <td>-94.059642</td>\n",
       "      <td>0</td>\n",
       "      <td>3.0</td>\n",
       "      <td>144</td>\n",
       "      <td>449.0</td>\n",
       "      <td>0</td>\n",
       "      <td>2.0</td>\n",
       "      <td>1</td>\n",
       "      <td>1.0</td>\n",
       "      <td>0</td>\n",
       "      <td>0.0</td>\n",
       "      <td>0.0</td>\n",
       "      <td>0.0</td>\n",
       "      <td>0.0</td>\n",
       "      <td>0.0</td>\n",
       "      <td>0.0</td>\n",
       "      <td>0.0</td>\n",
       "      <td>0.0</td>\n",
       "      <td>0.0</td>\n",
       "      <td>0.0</td>\n",
       "      <td>0.0</td>\n",
       "      <td>0.0</td>\n",
       "      <td>0.0</td>\n",
       "      <td>0.0</td>\n",
       "      <td>0.0</td>\n",
       "      <td>3618.0</td>\n",
       "    </tr>\n",
       "  </tbody>\n",
       "</table>\n",
       "<p>2087538 rows × 32 columns</p>\n",
       "</div>"
      ],
      "text/plain": [
       "         YEAR  TRI_FACILITY_ID  ...  PROD._WASTE_(8.1_THRU_8.7)  PARENT_COMPANY_NAME\n",
       "2        2016          16179.0  ...                         0.0               1827.0\n",
       "3        2016            872.0  ...                      2297.0                141.0\n",
       "4        2016           9404.0  ...                       260.0              10258.0\n",
       "6        2016          18822.0  ...                      1081.0               4147.0\n",
       "7        2016          11767.0  ...                     10017.0               4564.0\n",
       "...       ...              ...  ...                         ...                  ...\n",
       "2548764  1993          33457.0  ...                     66818.0              10684.0\n",
       "2548765  1993          23787.0  ...                      1570.0               5837.0\n",
       "2548766  1993          17441.0  ...                     12263.0              10650.0\n",
       "2548767  1993          17833.0  ...                      5066.0               2905.0\n",
       "2548768  1993          29661.0  ...                         0.0               3618.0\n",
       "\n",
       "[2087538 rows x 32 columns]"
      ]
     },
     "metadata": {},
     "output_type": "display_data"
    }
   ],
   "source": [
    "df"
   ]
  },
  {
   "cell_type": "code",
   "execution_count": null,
   "metadata": {
    "id": "zPQNy5mp6GoK"
   },
   "outputs": [],
   "source": [
    "X=df.drop(['TRI_FACILITY_ID', 'FACILITY_NAME', 'CHEMICAL',\t'CAS_#/COMPOUND_ID', 'CLASSIFICATION', 'PARENT_COMPANY_NAME'], axis=1).values\n",
    "y=df['CHEMICAL'].values"
   ]
  },
  {
   "cell_type": "code",
   "execution_count": null,
   "metadata": {
    "colab": {
     "base_uri": "https://localhost:8080/"
    },
    "id": "F-rUm_Os6L__",
    "outputId": "84bc6e9d-b388-49cc-f24d-b1791ba33cca"
   },
   "outputs": [
    {
     "data": {
      "text/plain": [
       "DecisionTreeClassifier()"
      ]
     },
     "metadata": {},
     "output_type": "display_data"
    }
   ],
   "source": [
    "from sklearn import tree\n",
    "from sklearn.model_selection import train_test_split\n",
    "X_train, X_test, y_train, y_test = train_test_split(X, y, test_size=0.3, random_state=1)\n",
    "model=tree.DecisionTreeClassifier()\n",
    "model.fit(X_train,y_train)"
   ]
  },
  {
   "cell_type": "code",
   "execution_count": null,
   "metadata": {
    "id": "dyzgMspABffO"
   },
   "outputs": [],
   "source": [
    "y_pred = model.predict(X_test)"
   ]
  },
  {
   "cell_type": "code",
   "execution_count": null,
   "metadata": {
    "colab": {
     "base_uri": "https://localhost:8080/"
    },
    "id": "B2bfxAvUBgAA",
    "outputId": "2858077a-7ce1-4ce9-a0a1-33a875b48cef"
   },
   "outputs": [
    {
     "name": "stdout",
     "output_type": "stream",
     "text": [
      "Accuracy: 0.7370429628494145\n"
     ]
    }
   ],
   "source": [
    "from sklearn import metrics\n",
    "print(\"Accuracy:\",metrics.accuracy_score(y_test, y_pred))"
   ]
  },
  {
   "cell_type": "code",
   "execution_count": null,
   "metadata": {
    "colab": {
     "base_uri": "https://localhost:8080/"
    },
    "id": "MITkJarRwu5G",
    "outputId": "7ed542e9-a75d-493b-96b9-a246d1fa1652"
   },
   "outputs": [
    {
     "name": "stdout",
     "output_type": "stream",
     "text": [
      "0.012960084458334053\n",
      "-24338.92733017232\n"
     ]
    }
   ],
   "source": [
    "from sklearn import linear_model\n",
    "from sklearn.metrics import r2_score, mean_squared_error\n",
    "from sklearn.model_selection import cross_val_score\n",
    "model = linear_model.LinearRegression()\n",
    "r2_scores = cross_val_score(model, X_train, y_train, scoring='r2', cv=5)\n",
    "mse_scores = cross_val_score(model, X_train, y_train, scoring='neg_mean_squared_error', cv=5)\n",
    "print(r2_scores.mean())\n",
    "print(mse_scores.mean())"
   ]
  },
  {
   "cell_type": "code",
   "execution_count": null,
   "metadata": {
    "id": "yQwpnqAEzVcG"
   },
   "outputs": [],
   "source": []
  }
 ],
 "metadata": {
  "interpreter": {
   "hash": "b0fa6594d8f4cbf19f97940f81e996739fb7646882a419484c72d19e05852a7e"
  },
  "kernelspec": {
   "display_name": "Python 3.9.7 64-bit",
   "name": "python3"
  },
  "language_info": {
   "codemirror_mode": {
    "name": "ipython",
    "version": 3
   },
   "file_extension": ".py",
   "mimetype": "text/x-python",
   "name": "python",
   "nbconvert_exporter": "python",
   "pygments_lexer": "ipython3",
   "version": "3.9.8"
  },
  "orig_nbformat": 4
 },
 "nbformat": 4,
 "nbformat_minor": 2
}
